{
 "cells": [
  {
   "cell_type": "markdown",
   "metadata": {},
   "source": [
    "# Scraping Data From LinkedIn by Luna Baalbaki"
   ]
  },
  {
   "cell_type": "markdown",
   "metadata": {},
   "source": [
    "Selecting an appropriate career is one of the most important decisions and with the increase in the number of career paths and opportunities, making this decision have become quite difficult for the students. The purpose of this project is to help Lebanese be aware of the job market trends that are in Lebanon. Since many Lebanese students don’t know which major to choose and which job position is highly demanded in Lebanon, this project guides them in their career choice. Using the code below I scrapped data about job positions from LinkedIn.\n",
    "\n",
    "Here, I would like to share one way using web scraping to explore data about jobs in Lebanon on Linkedin.\n",
    "At the end of this notebook you can run all the codes using just two runs."
   ]
  },
  {
   "cell_type": "markdown",
   "metadata": {},
   "source": [
    "# LinkedIn Login"
   ]
  },
  {
   "cell_type": "code",
   "execution_count": 12,
   "metadata": {},
   "outputs": [],
   "source": [
    "#LinkedIn Login \n",
    "url= 'https://www.linkedin.com/jobs/search/?geoId=101834488&location=Lebanon'\n",
    "browser= webdriver.Chrome(executable_path='/Users/user/Desktop/capstone/chromedriver')\n",
    "browser.get(url)\n"
   ]
  },
  {
   "cell_type": "code",
   "execution_count": 13,
   "metadata": {},
   "outputs": [],
   "source": [
    "sign_in = browser.find_element_by_class_name(\"nav__button-secondary\")\n",
    "sign_in.click()\n"
   ]
  },
  {
   "cell_type": "code",
   "execution_count": 15,
   "metadata": {},
   "outputs": [],
   "source": [
    "username= browser.find_element_by_id(\"username\")\n",
    "username.send_keys(\"luna.baalbaki@gmail.com\")\n"
   ]
  },
  {
   "cell_type": "code",
   "execution_count": 16,
   "metadata": {},
   "outputs": [],
   "source": [
    "password=browser.find_element_by_id(\"password\")\n",
    "password.send_keys(\"linkedincapstone\")"
   ]
  },
  {
   "cell_type": "code",
   "execution_count": 17,
   "metadata": {},
   "outputs": [],
   "source": [
    "login_button=browser.find_element_by_class_name(\"login__form_action_container\")\n",
    "login_button.click()"
   ]
  },
  {
   "cell_type": "code",
   "execution_count": 18,
   "metadata": {},
   "outputs": [],
   "source": [
    "# remember_button=browser.find_element_by_class_name(\"btn__primary--large\")\n",
    "# remember_button.click()"
   ]
  },
  {
   "cell_type": "markdown",
   "metadata": {},
   "source": [
    "# Job Scrapping from LinkedIn without loging in to LinkedIn"
   ]
  },
  {
   "cell_type": "code",
   "execution_count": 7,
   "metadata": {},
   "outputs": [],
   "source": [
    "#Import Libraries\n",
    "from selenium import webdriver\n",
    "import time\n",
    "import pandas as pd"
   ]
  },
  {
   "cell_type": "code",
   "execution_count": 8,
   "metadata": {},
   "outputs": [],
   "source": [
    "#Copy paste the url that you need to scrape. Here I am scrapping all jobs that are in Lebanon on LinkedIn.\n",
    "url='https://www.linkedin.com/jobs/search?keywords=&location=Lebanon&geoId=101834488&trk=public_jobs_jobs-search-bar_search-submit&position=1&pageNum=0'"
   ]
  },
  {
   "cell_type": "code",
   "execution_count": 9,
   "metadata": {},
   "outputs": [],
   "source": [
    "#Download a webdriver in order to scrape the data from the link provided above\n",
    "browser= webdriver.Chrome(executable_path='/Users/user/Desktop/capstone/chromedriver')\n",
    "browser.get(url)"
   ]
  },
  {
   "cell_type": "markdown",
   "metadata": {},
   "source": [
    "After running the above codes, you are going to be directed to a LinkedIn page (the url that u provided above). On that page, scroll down and keep on clicking on \"more jobs\" to reach the last job position. In order to scrape all the jobs that are on the page. Then run the below codes."
   ]
  },
  {
   "cell_type": "code",
   "execution_count": 11,
   "metadata": {},
   "outputs": [],
   "source": [
    "job_lists=browser.find_element_by_class_name('jobs-search__results-list')"
   ]
  },
  {
   "cell_type": "code",
   "execution_count": 12,
   "metadata": {},
   "outputs": [],
   "source": [
    "jobs=job_lists.find_elements_by_tag_name('list') "
   ]
  },
  {
   "cell_type": "code",
   "execution_count": 13,
   "metadata": {},
   "outputs": [
    {
     "data": {
      "text/plain": [
       "791"
      ]
     },
     "execution_count": 13,
     "metadata": {},
     "output_type": "execute_result"
    }
   ],
   "source": [
    "job_lists = browser.find_element_by_class_name('jobs-search__results-list')\n",
    "jobs = job_lists.find_elements_by_tag_name('li') # return a list\n",
    "len(jobs)"
   ]
  },
  {
   "cell_type": "code",
   "execution_count": 14,
   "metadata": {},
   "outputs": [
    {
     "name": "stdout",
     "output_type": "stream",
     "text": [
      "['Managing Director', 'Customer Service Agent', 'Production Supervisor', 'Warehouse Controller', 'Dashboard Supervisor', 'Africa Based - Commercial Manager', 'Sales Executive', 'English-Arabic Translator', 'Sales Associate', 'Call Center Representative', 'Arabic Writer - Content on Arab Youtubers', 'Content Strategist', 'Marketing Executive', 'Information Technology Support Specialist', 'Community Manager', 'Marketing Manager', 'Social Media Executive', 'Operations Executive - E-commerce', 'Director General', 'Medical Sales Representative', 'Customer Service Staff', 'Teacher', 'Sales Consultant', 'Coffee Packaging Plant Manager', 'Economic Affairs Officer', 'Virtual Assistant', 'Front Desk Receptionist', 'Support Manager', 'CRM Officer', 'Senior Quality Assurance Specialist', 'Supply and Logistics Assistant', 'Operations Manager', 'Communications Assistant Intern (paid)', 'Restaurant and area operation Manager', 'Onboarding Programs Coordinator', 'Compliance Analyst', 'Chief Operating Officer', 'Customer Service Agent', 'Senior Analyst - Consulting', 'Growth Associates- Internship', 'Team Lead', 'Senior Insurance Advisor', 'Assistant Manager', 'Digital Marketing Specialist', 'Human Resources Generalist', 'Advertising Operations Associate', 'External Relations Associate - 28928', 'Junior Investment Analyst', 'English Copywriter', 'Operations Executive - E-commerce', 'Senior Sales Representative', 'Junior Support Officer', 'Food and Beverage Specialist', 'Communication Specialist', 'Junior Marketing Specialist Trainee (Remote Position)', 'Sales Manager', 'Field Service Technician', 'Front Desk Officer', 'Senior Associate', 'Business Development and Customer Relations Officer', 'Intern', 'Social Media Marketing Specialist', 'Recruitment Manager', 'Business Partner', 'Sales Executive', 'Social Media Coordinator', 'Cashier', 'Administrative And Financial Manager - Algeria', 'Marketing Manager', 'Correcteur(trice)', 'Global Corporate Responsibility Lead - Communications and Engagement - Fixed Term Contract', 'Technical Support', 'Buying Executive - Car Transactions', 'Food Services Sales Representative', 'Operations Assistant', 'E-commerce Trade Executive', 'Jewelry Marketing Customer Service', 'Business Partner', 'Talent Development Manager', 'Technical Support Specialist', 'Senior Operations Assistant / Executive Assistant to Director - G6', 'Sales Executive', 'Customer Service', 'Travel Consultant - Ticketing Officer', 'Senior Compliance Analyst', 'Market Research Analyst', 'Business Development Lead', 'Sales Analyst', 'Group Communication Specialist', 'Account Manager', 'Hemophilia Patient Journey Partner', 'Digital Marketing & Communication Officer', 'Gerente de Habitaciones', 'Sales Executive', 'Business Analyst', 'Junior Accountant', 'Operational Consultant', 'Senior Investment Analyst', 'Business Development Executive', 'Community Manager', 'Quality Assurance Analyst', 'Head Of Internal Audit', 'Assistant-vendeur', 'Purchasing Manager', 'Sales-Freelance', 'Technical Consultant', 'Store Supervisor', 'Social Media Coordinator', 'Public Relations Manager/Executive', 'Creative Marketing Manager & Content Creator', 'Insurance Advisor ( Agent)', 'Warehouse Manager', 'Production Maintenance Supervisor', 'Business Development Support Junior Non-Key Experts (3 individuals)', 'ERP Support Specialist', 'Fulfillment Manager', 'Digital Marketing Specialist', 'Social Media Manager', 'Finance Officer', 'Sales Person for a Leading Retail Company', 'Digital Marketing Strategist', 'Deals Graduates - Lebanon', 'Pharmacist Assistant', 'Retail Sales Representative', 'Marketing Intern', 'Senior Insurance Officer', 'Sales Assistant', 'Social Media Specialist – Customer Engagement', 'Information & Cyber Security Consultancy Service', 'Senior Strategic Planner', 'Script Writer', 'Assurance Graduates - Lebanon', 'Executive- Planning', 'Sales Representative', 'Business Intelligence Manager', 'Medical Sales Representative', 'Digital Media Manager', 'Social Media Executive', 'Economic Analyst (Abu Dhabi Based)', 'A2P Account Coordinator', 'Talent & Employer Branding Executive', 'Content Creator', 'Human Resources Manager', 'Sales Consultant', 'Traffic Manager', 'Sales Account Executive', 'Sales Specialist', 'Purchasing Manager', 'Content Writer', 'Marketing Executive', 'Copywriter', 'Sales And Marketing Specialist', 'Sales Consultant', '(4) Human Resources Coordinators - Bekaa, BML, North, South', 'Business Data Analyst', 'Procurement Manager', 'Digital listener / Analysis', 'Information Technology Specialist', 'Sales Specialist', 'Sales Executive', 'Salesperson', 'Financial Advisor', 'Senior Contract Engineer', 'Sales Executive', 'Accountant', 'Project Manager', 'Internal Auditor', 'Digital Marketing Executive', 'Sales Specialist', 'Automation Engineer', 'Commercial Planning Manager', 'Rooms Manager', 'Area Account Manager', 'Insurance Agent', 'Content Manager (Copywriter)', 'English Teacher', 'Content Creator', 'Finance Specialist - System Support', 'Global Corporate Responsibility Supervising Associate - Communications and Engagement - Mat Cover', 'E-commerce Trade Executive', 'Marketing Specialist', 'Sales person', 'Customer Support Specialist', 'Sales Consultant', 'Remote Food Specialist', 'Sales Consultant', 'Security Manager', 'Quality Control Inspector', 'Technology and Digital Transformation Manager', 'Business Development Manager', 'Copywriter', 'Qatar-based Manager/Senior Manager at Top-Tier Global Strategy Consulting Firm', 'Real Estate Sales Agent', 'Message Broadcast Specialist', 'Quality Assurance Engineer', 'Sales Consultant', 'Sales Consultant', 'Administrative and Financial Coordinator', 'Sociele is Hiring in Lebanon', 'Digital Marketer', 'Junior Accountant', 'Marketing Manager', 'Head of Finance', 'Sales Account Manager', 'Rooms Manager', 'Sales Consultant', 'ET_BO_12961_Process Business Analyst Lead', 'Client Relations Representative Intern', 'Actuarial Analyst', 'Sales Advisor', 'Assistant Fashion Designer', 'Security Consultant', 'UX Researcher-Remote', 'Outside Sales Representative - W2/Commission Sales/Bonuses', 'Internal Audit Manager', 'Digital Marketing Associate', 'Marketing & Communications Manager', 'Water and Sanitation Advisor', 'Sales Executive', 'Social Media Strategist', 'Saleswoman', 'Auditor & Accountant', 'Volunteer', 'Regulatory Assistant - MEA', 'Digital Marketing Specialist', 'Social Media Specialist', 'Bootcamp - Field Service Management', 'Regional Sales Manager - Levant', 'Digital Manager', 'Executive Business Development', 'Ecommerce Sales Representative', 'Communications Editor of Tarbiyah 21 Newsletter', 'Knowledge Management Specialist (Consultant)', 'Marketing and Business Development Specialist', 'Digital Marketing Intern', '宿泊マネージャー', 'Creative Bilingual Copywriter', 'Quality Assurance Analyst', 'Manager - Media', 'Scholarship Program Coordinator', 'Accounts Receivables Officer', 'Maintenance Technician', 'Sales Representative/Managers', 'Business Enablement CE Manager', 'Executive- Social Media', 'Consultant for Top Global Consulting Firm (Dubai & KSA)', 'Accountant', 'Project Pre-Sales Engineer', 'Buying Executive - Car Transactions', 'Digital Marketing Specialist', 'Software Sales Specialist', 'Manager - Media', 'Senior Anti-Corruption Advisor', 'Head of Project - Economic Development*', 'Life Insurance Specialist', 'Sales Engineer', 'Marketing Associate', 'Promotion Producer', 'Senior Instructor', 'Education Coordinator (Head of Program) - Beirut', 'High School English Teacher', 'Sales Representative', 'Sales Consultant', 'Marketing Specialist', 'Life Insurance Specialist', 'Student Support Officer (Lebanese position)', 'Microsoft Certified Trainer', 'Growth Marketing Manager - Saudi Arabia', 'Insurance Advisor', 'Salesperson', 'Social Media Manager (In-house)', 'Sales And Marketing Associate', 'Outdoor Sales Executive / Sales Manager', 'Sales Executive', 'Preschool English Teacher', 'Sales Executive', 'Institutional Sales and Account Manager - MENA', 'Software Project Manager', 'Plant Manager', 'IP Engineer', 'M&E Officer - Akkar', 'Enterprise Development Specialist', 'Digital Marketing Specialist', 'Arabic Digital Editor', 'Estimation Engineer', 'Digital Marketing Specialist', 'Technical Project Manager', 'Project & Fundraising Coordinator', 'GRADUATE DEVELOPER', 'Life Insurance Specialist', 'GRADUATE DEVELOPER', 'GRADUATE DEVELOPER', 'Content Manager - Regional', 'Éditeur vidéo', 'Real Estate Agent', 'Franchise Owner', 'SAT Tutor', 'Senior Business Plan Writer & Market Research Analyst', 'Audit & Assurance - Experienced Associate', 'Assurance - Summer Internship - Lebanon', 'Business Intelligence Analyst', 'Digital Marketing Manager', 'Marketing Translator (EN>AR)', 'Sector Consumer Insights Manager – Beverages, AMESA Sector HQ', 'Data Integrity Analyst', 'Digital Marketing Executive', 'IT System Administrator', 'Senior Product Manager', 'Senior Business Analyst - 28907', 'Sales Consultant', 'Senior Energy Engineer', 'Manager Total Rewards', 'Financial Sales Representative (FSR)', 'Managed Security Services Officer/Engineer L1', 'Beirut - External Partnerships Officer SC 8', 'Sales Representative', 'Experienced DB2 Professionals', 'Sales Operations Manager', 'FINANCE ANALYST - Dubai, UAE', 'Pharmacist', 'Digital Marketing Specialist', 'Quality Assurance Engineer', 'Child Protection Specialist', 'Potential Sales Unit Manager', 'Responsable Hébergement (H/F)', 'Legal Officer - Qobayat', 'Fashion Designer', 'Junior Art Director', 'Business Systems Analyst', 'Principal Solutions Architect', 'Production Operator', 'Work at Home Contact Center Agent (Full-Time & Part-Time) (AR)', 'Digital Designer', 'Content Manager', 'Senior Data Analyst', 'Bilingual Corporate Senior Associate', 'JUNIOR DEVELOPER -- Remote', 'Captain Waiter and Runner', 'Marketing Specialist', 'Digital Marketing Specialist', 'Peer Educator', 'Software Developer', 'Search Engine Optimization Specialist', 'Technical Services Representative', 'Technical Workshop Coordinator', 'Finance Associate Manager - Capex Planning, AMESA Sector HQ', 'Pharmacist', 'HR Manager', 'Digital Marketing Manager', 'Chief Accounting Officer', 'Supply Chain Sr Manager – Demand Planning, AMESA Sector HQ', 'Head of Customer Support, Trilogy (Remote) - $400,000/year USD', 'Assistant', 'Outside Sales Representative', 'Technical Services Analyst', 'Tech Lead-Manager (F/H)', 'Website Content Writer', 'WPE Case Worker - Akkar', 'Senior Executive - Media', 'Python Developer', 'Senior Accountant', 'Female English Teacher (Middle School)', 'Telesales Representative', 'Education Coordinator (Head of Program) - Beirut', 'Multimedia Specialist', 'Electrical Design Engineer', 'Waitress', 'Content Curator', 'Financial/Legal Arabic <> English Lead Translator needed in Lebanon', 'Real Estate Agent', 'Acting/LHIF Country Coordinator (Parental Cover) - Beirut', 'Digital Marketing Specialist', 'Waitress', 'Senior System Analyst', 'Programme Specialist (Education)', 'Sales Representative', 'Intermediate QA Engineer', 'Scoping Engineer', 'Senior Community-Based Protection Assistant - 28927', 'User Experience Designer', 'Executive Recruiter', 'Digital Designer', 'Site Engineer/RF Field Service Manager', 'Paid Marketing Manager', 'BIM Coordinator', 'M&E Officer - Akkar', 'Market Research Operations Manager', 'RBT Content Specialist', 'DATA ENGINEER INTERN - Dubai or Remote', 'Senior ERP Specialist (Oracle- JDE)', 'Junior Software Engineer', 'Digital Marketing Specialist', 'ET_BO_12960_Process Business Analyst Lead', 'Construction Foreman', 'Azure, D365 FO/CE, Data & Analytics, AI/ML, Azure Apps Champion', 'Beirut- Programme Policy Officer (Gender) SC 8', 'Creative Designer', 'Mental Health & Psychosocial Support (MHPSS) Project Manager', 'Islamic Banking Flexcube Consultant', 'Data Integration Analyst M/W', 'Videographer editor', 'Intermediate RF Engineer', 'Senior Instructors', 'Software Sales Specialist', 'Market Research Project Manager', 'Electronicien', 'Lebanon Resource Center (LRC) - Audit & Assurance | Senior', 'Jewelry Matrix Designer/Operator', 'IT Security Specialist', 'Outdoor sales agent', 'Maintenance Services Representative', 'Senior Account Manager – A2P SMS', 'Finance and Contract Coordinator (ERICC)', 'Graphic Designer', 'Production and BIM Manager', 'Technical Data Engineer', 'Advisor, Supply Chain Information Systems', 'Study a Masters Online', 'Performance Manager', 'React Native', 'Architectural Specification Writer', 'Data Integration Engineer', 'SAP Functional Consultant', 'Unity Developer', 'Infrastructure Engineer (Remote)', 'SAP Success Factor Consultant', 'Corporate lawyer', 'Pharmacist', 'Senior Executive - Media', 'Clinical Research Associate', 'restaurant and flower shop manager', 'Creative Designer', 'Product Designer', 'Graphic Designer', 'SC Sr Manager - Productivity & LSS, AMESA', 'Sales Engineer - Equipment (Lebanon)', 'IT - Business Intelligence Manager', 'Frontend Developer', 'DATA ENGINEER - Dubai or Remote', 'Mobile Developer (Freelancer)', 'Group Fitness Instructor', '3D Designer', 'Senior Data Consultant', 'Senior Associate – Paid Search', 'ICRC MOVEMENT COMMUNICATION ADVISER - NEAR AND MIDDLE EAST (NAME)', '3D Outfit Designer', 'Software Quality Assurance Analyst', 'Draftsperson - Mechanical', 'Digital Conversion Optimization Specialist', 'Senior Associate (Remote) - $200,000/year USD', 'Back-End Developer', 'Food Hygiene & Safety Supervisor', 'Pharmacist', 'Cyber Security Business Development Manager', 'Application Developer', 'Automation Technician', 'Facilitator, ARD (195 Days)', 'Art Director (In-house)', 'Senior Art Director', 'Mechanical Technician', 'Freelance Animator', 'Senior Sales - CFD and Forex Trading', 'Graphic & Digital Marketing Designer', 'Mobile Application Developer', 'Legal Counsel', 'Software Quality Assurance Analyst', 'Shelter and Settlements Coordinator Lebanon Beirut', 'Lead Analyst/Project Manager, Lebanon Crisis Analytics Hub - Beirut, Lebanon', 'Mobile Application Developer', 'Product Owner', 'Junior Graphic Designer', 'Graphic Designer', 'Senior Associate (Remote) - $200,000/year USD', 'Graphic Designer', 'Graphic Designer', 'Deals, Transaction Services - Financial Due Diligence - Financial Services - Senior Associate - Beirut', 'Consultant & Software engineer', 'Study a Masters Online in Finance', 'Track Vehicle Maintenance Trainer', 'UI Designer', 'Junior Graphic Designer', 'Senior Art Director', 'Research Programme Coordinator – Education Research in Conflict and Protracted Crisis (ERICC)', 'Senior Mechanical Engineer', 'Oracle Applications Sales Representative (CX Territory)', 'Mobile Developer', 'Arabic Digital Learning Glossary Consultant', 'Architecte sécurité informatique H/F-Montréal', 'Automotive Technician', 'Software Developer', 'Graphic Designer', 'UI/UX Designer', 'ERC Manager Levant', 'React native Developer', 'Tax & Legal Services Graduates - Lebanon', 'Senior Manager Customer Support, Trilogy (Remote) - $400,000/year USD', 'Back End Developer', 'Software Architect', 'Graphic Designer and Copywriter', 'WORK FROM HOME | Selfie Video Data Collection for Arabic Speakers in Lebanon', 'Full Stack Engineer', 'UX/UI designer', 'iOS Developer', 'مدرسين جامعيين ناطقين باللغة العربية للتدريس عبر الانترنت', 'Management & Sales Training Program', 'Full Stack Engineer', 'Video Editor', 'Sales Area Manager (Pulp experience)', 'Software Engineer', 'Electrician', 'Intermediate Software Engineer', 'Microsoft Dynamics Consultant', 'Videographer', 'Senior Power BI Consultant', 'Web Developer', 'UI/UX Designer', 'Electrician', 'Graphic Designer', 'Web Developer', 'Mobile Developer', 'STRUCTURAL ENGINEER - BIM SPECIALIST', 'Senior Interior Designer', 'Bartender', 'Mobile Developer', 'Senior Field Producer', 'Senior Associate - Tax & Accounting', 'Mid / Senior Quality Assurance', 'Graphic Designer', 'Graphic Designer', 'Senior Graphic Designer', 'Graphic Designer', 'Horticulture and Pest Control Manager', 'Education Sector Coordinator, P-4, Beirut Lebanon, Temporary Appointment 364 days', 'UI Designer', 'Regional Emergency Director', 'Graphic Designer', 'Graphic Designer', 'Support Manager Lebanon BML - National Position', 'Full Stack Web Developer', 'Software Developer', 'Switching & Transmission Engineer', 'Mechanical Technician', 'SEO Specialist (Arabic Speaker)', 'Graphic Designer', 'Senior Art Director', 'Graphic Designer', 'Teacher, Itinerant (195 Days)', 'Graphic Designer', 'Graphic Designer', 'Full Stack GIS Developer', 'React Web Developer', 'Head Chef', 'Graphic Designer - Beirut', 'Graphic Designer', 'Graphic Designer', 'Graphic Designer', 'Graphic Designer', 'DevOps Engineer', 'UX/UI Designer', 'Wordpress Developer', 'Graphic Designer', 'Mobility Therapist (195 Days)', 'Freelance Photographer', 'Graphic Designer', 'Chief WASH, P5, Post #85233, Beirut, Lebanon, [Re-advertisement]', 'Graphic Designer', 'Senior System Administrator', 'Software Engineer', 'Consulting - Financial Services - Front Office Transformation- Senior Consultant (Lebanon)', 'Senior Graphic Designer/Social Media Specialist', 'Graphic Designer', '房务经理', 'Executive Chef', 'Clinical Educator', 'Consulting - Financial Services - Digital Transformation - Manager (Lebanon)', 'Dental Laboratory Technician', 'Mobile App Developer (Flutter)', 'IFS - Engagement & Communications Manager - Lebanon', 'Programme Director – Education Research in Conflict and Protracted Crisis (ERICC)', 'Graphic Designer', 'PHP Developer', 'Full Stack Developer', 'Graphic Designer', 'Senior Art Director', 'Graphic Designer', 'Graphic Designer', 'Senior Digital Designer', 'Kitchen Staff', 'MICROSOFT DYNAMICS 365 DEVELOPER', 'Mobile Developer (Flutter)', 'Graphic Designer', 'Electro Mechanical Technician', 'Graphic Designer', 'Senior Project Manager – Monitoring and Evaluation Technology (M&E)', 'Senior Software Engineer', 'Software Engineer', 'Java Software Engineer', 'Full Stack Developer', 'Mobile Application Developer', 'Full-stack Developer', 'Server/Waiter/Waitress', 'Graphic Designer', 'Head of Finance, Levant', 'Graphic Designer', 'Senior Anti-Corruption Advisor (S-ACA)', 'Heavy Equipment Technician', 'Android Developer', 'Executive Chef', 'Hairstylist', 'Software Architect', 'Graphic Designer', 'Dotnet Developer', 'Full-stack Developer', 'Medewerker Montage', 'Backend Software Developer', 'DevOps/ Site Reliability Engineer', 'Senior Web Developer', '3D Artist', 'Hair And Makeup Artist', 'Graphic Designer', 'Software Engineer', 'iOS Developer', 'Android Developer', 'Projects Service Crew Mechanical', 'React Native Developer', 'Senior Software Developer', 'AI Jobs -Photo Collection – Global Participants', 'Motion Graphic Designer', 'Creative Graphic Designer for a Printing Press', 'PHP Developer', 'Unity 3d Developer', 'Analyst, Commercial Technologies Software Engineering', 'Senior Graphic Designer', 'Experienced PostgreSQL Professional', 'iOS Developer', 'Cloud Infrastructure Engineer', 'Graphic Designer (UI/UX)', 'Restaurant Manager - Pizza background', 'Manicurist', 'SR. MECHANICAL MAINTENANCE ENGINEER SPECIALIST', 'Part Time Full Stack Engineer', 'Senior Web Developer', 'Motion Graphic Designer', 'Senior System Administrator (Linux)', 'Product CTO, Trilogy (Remote) - $400,000/year USD', '3D Animator', 'Senior Web Application Developer', '.Net and SQL Server Developer', 'Motion Graphic Designers', 'Senior Graphic Designer', 'Senior Java Software Engineer', 'Consulting - Financial Services - Risk & Regulation - Senior Consultant (Lebanon)', 'Senior Software Engineer', 'Motion Graphic Designer', 'PHP Web Developer', 'Senior PHP Developer Wanted!', 'Executive Chef', 'Senior Legal Manager - Beirut', 'Global Support Manager, Trilogy (Remote) - $400,000/year USD', 'A senior developer PHP', 'Angular Developer', 'Senior Public Health Officer, P4, Beirut', 'MID/Senior Frontend Web Developer', 'Experienced DB2 Professional', 'Product CTO, Trilogy (Remote) - $400,000/year USD', 'Intermediate Android Developer', 'PHP Developer', 'Senior Software Developer', 'Senior Java Developer', 'Teacher, Hospital/Homebound (191 Days)', 'Senior Dotnet Developer', 'Freelance Video Editor & Animator', 'Video Data Collection in Lebanon', 'Senior Angular Developer / Team lead', 'Pilates Instructor', 'Senior Java Javaee Developer', 'GO Developer (GOLANG)', 'Pastry Sous chef', 'Motion Graphic Designer', 'Technical Lead, IgniteTech (Remote) - $100,000/year USD', 'Senior Developer', 'Senior Software Developer', 'IT SECURITY OFFICER', 'Senior UI/UX Designer', 'Mid/Senior iOS Developer', 'Senior Dotnet Developer', 'Technical Lead, IgniteTech (Remote) - $100,000/year USD', '3D Animator', 'Dermatologist', 'Teach in China! Full Support & Free Flights(select locations)', 'Mid/Senior Frontend Developer', 'Mid/Senior Android Developer', 'Clinical Dermatologist', 'Team Leader Software Engineer', 'Finance Manager, Trilogy (Remote) - $100,000/year USD', 'Java Software Engineer', 'Senior Software Engineer', 'Spa Head Therapist', '(Full-Time Job) Experienced Angular Software Engineer', 'AI Jobs -Photo Collection – Global Participants', '.NET Full Stack Engineer', 'Java Full Stack Engineer', 'Physics Teacher', 'Doctors - General Practitioner/ Internal Medicine', 'AI Jobs -Photo Collection – Global Participants', 'Senior .Net Developer (ERP)', 'AI Jobs -Photo Collection – Global Participants', 'Senior Software Developer', 'Data Pipeline Engineer (Bangkok based, relocation provided)', 'React Native Software Engineer', 'Senior Dynamics 365 Business Central Developer', 'Pharmacist', 'Mobile Application Developer (iOS or Android)', 'Back End Team – Engineer (Bangkok based – Relocation provided)', 'Senior PHP Backend Developer/Technical Lead', 'Python Back-end Developer - Dubai, UAE', 'Full Stack Engineer', '(Full-Time Job) Experienced Angular Software Engineer', 'Registered Nurse', 'Principal Architect (FinOps), Trilogy (Remote) - $400,000/year USD', 'Senior Full Stack Engineer', 'Software Engineer - Amazon Alexa', 'Finance Manager, Trilogy (Remote) - $100,000/year USD', 'Machine Learning Engineer (Bangkok based, relocation provided)', 'Full Stack Engineer (Data Team) (All Levels) (Bangkok based, relocation provided)', 'chef', 'Full Time Nail Technician for a Day Spa in Lebanon .', 'Overseas Physiotherapists required to work in Northern Ireland', 'Full Stack Engineer', 'Senior Android Developer', 'Senior Software Developer', 'Senior Java Backend Developer', 'Sr Java Script Developer', 'Full Time Nail Technician for a Day Spa in Lebanon .', 'Tax & Legal Services - Tax - Tax Advisory Services - Manager - Beirut', 'Home Health Nurse', 'Overseas Nurses( Lebanon)', 'Senior node.js dev', 'Principal Engineer, Trilogy (Remote) - $800,000/year USD', 'Distinguished Engineer, Trilogy (Remote) - $800,000/year USD', 'chef de partie', 'Staff Software Engineer I', 'Mid/Senior Java Backend Developer', 'Full Time Nail Technician for a High Street Salon in Lebanon .', 'Full Time Beauty Therapist for a High Street Salon in Lebanon .', 'Chef de Partie', 'demi chef de partie', 'Full Time Hair Stylist for a High Street Salon in Lebanon .', 'Senior PHP Backend Developer / Technical Lead', 'Lead Software Engineer (FinOps), Trilogy (Remote) - $400,000/year USD', 'Home based Software Engineering Lead - Open Source', 'Senior Wordpress Developer – Full-time, Remote', 'Full Time Massage Therapist for a 5 Star Hotel Spa in Lebanon .', 'Principal Software Architect, Trilogy (Remote) - $400,000/year USD', '[REMOTE] Senior Blockchain Developer – Full-time', '[REMOTE] Senior Blockchain Developer – Full-time', '[REMOTE] Senior Blockchain Developer – Full-time', 'Senior Wordpress Developer – Full-time, Remote', 'Senior Statistical Programmer', 'Software Engineer II (Backend)', 'Senior Go Developer – Full-time, Remote', 'Principal Software Engineer (FinOps), Trilogy (Remote) - $400,000/year USD', 'Senior Software Engineer, Trilogy (Remote) - $100,000/year USD', 'Full Time Massage Therapist for a Day Spa in Lebanon .', '[REMOTE] Senior Android Developer – Full-time', 'Senior Wordpress Developer – Full-time, Remote', 'Senior Go Developer – Full-time, Remote', 'Senior Software Architect, Trilogy (Remote) - $400,000/year USD', 'Senior Go Developer – Full-time, Remote', 'Senior Software Engineer, Trilogy (Remote) - $100,000/year USD', 'Senior Software Architect, Trilogy (Remote) - $100,000/year USD', 'Senior Software Architect, Trilogy (Remote) - $100,000/year USD', 'Data Lead/ Staff Software Engineer (Bangkok based, relocation provided)', 'Tax & Legal Services - Tax - Tax Advisory Services - Associate - Beirut', 'Data DevOps Engineer (Hadoop Platform) (Bangkok based, Relocation provided)', 'Data Engineer – Apache Spark (Java/Scala) (Bangkok based, Relocation provided)', '[REMOTE] Senior Ruby on Rails Developer – Full-time', '[REMOTE] Senior Ruby on Rails Developer – Full-time', '[REMOTE] Senior Android Developer – Full-time', '[REMOTE] Senior Android Developer – Full-time', 'Back End Lead / Staff Software Engineer (Bangkok based – Relocation provided)', 'Senior React Developer – Full-time, Remote', 'Senior React Developer – Full-time, Remote', 'Senior Data Pipeline Engineer (Golang) (Bangkok based, relocation provided)', 'Senior React Developer – Full-time, Remote', 'Senior Data Engineer – Apache Spark (Java/Scala) (Bangkok based, Relocation provided)', 'Senior Machine Learning Engineer – Data Platform Team (Bangkok based, relocation provided)', 'Senior Software Engineer – Real-Time Microservices (Bangkok based, relocation provided)', '[REMOTE] Senior Ruby on Rails Developer – Full-time', 'Staff/Senior Front End Engineer – Data Experience Team (Bangkok based, relocation provided)', '[REMOTE] Senior Ruby on Rails Developer – Full-time']\n",
      "791\n"
     ]
    }
   ],
   "source": [
    "#Scrapping the Title\n",
    "job_title = []\n",
    "for job in jobs:\n",
    "    job_title0 = job.find_element_by_css_selector('h3').get_attribute('innerText')\n",
    "    job_title.append(job_title0)\n",
    "print(job_title)\n",
    "print(len(job_title))"
   ]
  },
  {
   "cell_type": "code",
   "execution_count": 15,
   "metadata": {},
   "outputs": [
    {
     "name": "stdout",
     "output_type": "stream",
     "text": [
      "['Shabab Lab', 'NokNok', 'PawPots', 'NokNok', 'CAFU', 'EDITEC', 'Confidential', 'TheSoul Publishing', 'Toumajean Couture', 'Cedarcom - Mobi', 'Studio Al Fankoosh', 'Confidential', 'EMC- Elie Melhem Clinics', 'Broadnet Technologies', 'Gabriel Bocti s.a.l', 'Funding Souq | فندينق سوق', 'Anghami', 'EMPG', 'St.John technical institute', 'Catafago & Co.', 'AGRIWA sal', 'International School of Innovation', 'Multinational Insurance Company', 'KHOUBOURAT HR Program', 'United Nations Economic and Social Commission for Western Asia (ESCWA)', 'JOIN Solutions', 'Oakridge Hotel & Spa', 'Norwegian Refugee Council', 'Holdal - Abou Adal Group', 'Asteya', 'UNV LTD', 'Patchi', 'Al-Fanar Media', '\\uf0a7 ELPadrino Italian and Baba Sweets', 'Landmark Health', 'Marcura', 'Yaduna WHHC', 'ELIE SAAB', 'EY', 'noon', 'Multinational Insurance Company', 'Fidelity Insurance', 'Al Maher Trading Est.', 'Moustache Group', 'Holdal - Abou Adal Group', 'noon', 'UNHCR, the UN Refugee Agency', 'Monty Mobile', 'Leo Burnett', 'Steelgreen S.A.', 'Confidential', 'SUCAFINA', 'Maroun Chedid SAL', 'Ahliah School', 'Brainnest', 'Confidential', 'Unimec International', 'Eli Lilly and Company', 'Deloitte', 'HeadHunter S.A.R.L', 'SITA', 'Modern University for Business and Science', 'Confidential', 'Jeunesse Global', 'Transmed', 'Absolutely Digital', 'virus gaming center', 'BUTEC', 'The Lebanese Bakery', \"L'Orient-Le Jour\", 'EY', 'Resource Group', 'EMPG', 'Meptico SAL', 'N N RENT A CAR', 'EMPG', 'Falamank fine jewerly', 'Insurance Business America', 'BUTEC', 'Antwerp Technologies', 'International Labour Organization', 'Confidential', 'Presentail', 'BetterFly Travel Consultancy and Services s.a.r.l', 'Marcura', 'Al Wadi Al Akhdar', 'Siren Associates', 'Holdal - Abou Adal Group', 'Toy Market Group Holding', 'Al hachem superstore', 'Roche', 'Medicals International', 'MOVENPICK', 'Standard Group LB', 'Novelus', 'BV', 'SNS', 'Bridge Capital Holding', 'MINDFLARES', 'Wetpaint Creative Digital Solutions', 'IDS FinTech', 'Sallaum Lines', 'Francevision', 'Al Forno Gourmet', 'Confidential', 'SNS', 'Librairie nour', 'Holdal - Abou Adal Group', 'Kempinski Hotels', 'YEPREM', 'Allianz SNA', 'ELIE SAAB', 'compagnie des sources du Liban - Sannine', 'DAI', 'Transmed', 'Next Parcel', 'The Kode', 'JMEDIA PRODUCTION', 'DRC - Danish Refugee Council', 'Confidential', 'TEDMOB SAL', 'PwC', 'Pharmacy', 'Tamer Freres sal', \"Eddy's Group\", 'C.A.T. Group', 'Emakina Asia', 'A.N.Boukather Holding', 'Danish Refugee Council / Dansk Flygtningehjælp', 'Leo Burnett', 'Karmic Consultancy DMCC', 'PwC', 'OMD MENA', 'Orjoan', 'GlobeMed Group', 'Droguerie Phenicia', 'Generation R Holding', 'Podeo | بوديو', 'Multiply Group', 'Monty Mobile', 'Danone', 'Sharks Creators', 'Deloitte', 'Confidential', 'Ethos Interactive', 'Klangoo', 'Other', 'global Foods S.A.L.', 'Al Makassed Philanthropic Islamic Association of Beirut', 'RYMCO', 'SABIS®', 'Premium Delivery', 'Confidential', 'NRC Europe - Norwegian Refugee Council', 'Maids.cc', 'Monty Mobile', 'Touch Of Art', 'Besancon beirut', 'Aliston', 'Swiss U life', 'Beauty Products', \"ALVIN D'OR\", 'Dar', 'B Groove Public Health', 'Presentail', 'ICMPD - International Centre for Migration Policy Development', 'Monty Mobile', 'BRIO Bags', 'Dealers Group sarl.🇱🇧', 'Confidential', 'Philip Morris International', 'MOVENPICK', 'Cummins Inc.', 'Confidential', 'Salt', 'SABIS®', 'Presentail', 'Novelus', 'EY', 'Steelgreen S.A.', 'OLFKI Sarl', 'Tapis Mahmoud Kabalan', 'Podeo | بوديو', 'insurance', 'FoodStyles', 'Fidelity Insurance', 'MOVENPICK', 'Cie. Des Sources Du Liban - Sannine', 'Cedar White Bradley (CWB)', 'Menasa', 'Logisoft', 'Turas Group', 'Phoenicia Real Estate', 'Broadnet Technologies', 'Drapp_me', 'MetLife Lebanon', 'OneLife', 'Acción contra el Hambre', 'Sociele', 'FEER McQUEEN', 'Confidential', 'PawPots', 'Podeo | بوديو', 'SOFTSTM', 'MOVENPICK', 'Confidential', 'EY', 'Matco Marketing and Trading co.', 'GlobeMed Group', 'Confidential', 'Lemonade Fashion', 'Crystal Networks', 'Modus Capital', 'NFIB', 'Future Pipe Industries', 'Presentail', 'Podeo | بوديو', 'CrossBoundary', 'Foodteq', 'Wick', 'Ghosn Group', 'Confidential', 'Methle Methlak', 'Eli Lilly and Company', 'Edari', 'Menasa', 'Novelus', 'Cisco', 'IAAT Education', 'Confidential', 'Holdal - Abou Adal Group', 'UNESCO - United Nations Educational, Scientific and Cultural Organization', 'UNESCO - United Nations Educational, Scientific and Cultural Organization', 'Starbridge Capital', 'MoeAbdallah.com', 'MOVENPICK', 'Ethos Interactive', 'GlobeMed Group', 'Starcom', 'Lebanese Association for Scientific Research (LASeR)', 'Medicals International', 'Nestlé Waters', 'The Insurance Experts', 'EY', 'OMD MENA', 'Turas Group', 'Zaatar W Zeit', 'Hikvision MENA', 'Steelgreen S.A.', 'Confidential', 'Ambula', 'Publicis Sapient', 'Ian, Evan & Alexander Corporation an EverWatch Co.', 'Welthungerhilfe', 'HERO agency', 'Mashriq Energy', 'Presentail', 'Aljadeed TV', 'MOE', 'International Rescue Committee', 'Beirut Evangelical School ,Rabieh', 'Safelane Insurance Solutions', 'Confidential.', 'Cedar White Bradley (CWB)', 'InSure Agency', 'Kiron Open Higher Education', 'IN@TCO SARL', 'Binance', 'Confidential', 'Ghalico Group SARL', 'Multiply Group', 'Promoteam, Organisers Of Specialty Exhibitions Since 1991', 'American global company', 'Dental Labs & Clinics', 'Goodwill International School', 'Pictura sal', 'Binance', 'Confidential', 'MAN Enterprise', 'Cedarcom - Mobi', 'International Rescue Committee', 'International Labour Organization', 'Ahliah School', 'WarnerMedia', 'ALUSTEEL', 'Brush Art Co. - Your space is our Canvas', 'Proximie', 'Kiron Open Higher Education', 'Cobblestone Energy', 'Confidential', 'Cobblestone Energy', 'Cobblestone Energy', 'Foodics', 'Cinema & Tv', 'JSK Real Estate', 'Antal International', 'Edubolt', 'SAFICO Holding', 'Deloitte', 'PwC', 'Murex', 'AMAGS GLOBAL', 'RWS Group', 'PepsiCo', 'Sword Group', \"Malik's Lebanon\", 'Confidential (Banking)', 'POCO', 'UNHCR, the UN Refugee Agency', 'SAVERS Agency', 'IPT PowerTech Group', 'Deloitte', 'Arvest Bank', 'EXEO', 'World Food Programme', 'Medicals International', 'Procedars', 'Podeo | بوديو', 'Cobblestone Energy', 'AMB Group', 'RUSH & REEZ', 'EverteamGS-Intalio', 'Save the Children International', 'Angels Unit', 'MOVENPICK', 'International Rescue Committee', 'Elias Showroom', 'Clap Clap', 'International Rescue Committee', 'Novelus', 'A.B. PoultryCo', 'Mass Markets', 'M&C SAATCHI MENA', 'Podeo | بوديو', 'Monty Mobile', 'IDEX Consulting Ltd', 'Cobblestone Energy', 'Cafe77', 'Krikor Jabotian', 'Debbane Saikali Group', 'Rashet Kheir', 'Net-Recrute', 'Tecomsa SAL', 'Panasonic Avionics Corporation', 'Rashet Kheir', 'PepsiCo', 'Pharmacie Ste Thérèse Zouk Mikael', 'Podeo | بوديو', 'Touch Of Art', 'ABYAT', 'PepsiCo', 'Crossover for Work', 'GAB LIQUIDATIONS Buy, Sell, Rent Real Estate & Renovation Services.', 'Shanshal Chocolate', 'New Metrics', 'EQUADIS SA', 'Podeo | بوديو', 'International Rescue Committee', 'Publicis Sapient', 'Castalise', 'Confidential.', 'Al-Bayader Beirut', 'A.R. JUBAILI & CO.', 'International Rescue Committee', 'UDU JOBS LLC', 'METS Energy SAL', 'Business Umbrella-Recruitment ,training & consulting', 'Podeo | بوديو', 'RWS Group', 'dyarcom real estate', 'International Rescue Committee', 'IntoSports app LLC', 'Business Umbrella-Recruitment ,training & consulting', 'Cedar White Bradley (CWB)', 'UNESCO - United Nations Educational, Scientific and Cultural Organization', 'Elite Solutions', 'eddress', 'Novelus', 'UNHCR, the UN Refugee Agency', 'Absolutely Digital', 'International Rescue Committee', 'Kashida', 'Novelus', 'Wick', 'A-Consult Dolly Debs Architects', 'International Rescue Committee', 'InfoPro sal', 'Monty Mobile', 'Cobblestone Energy', 'USL/ Sidewalks', 'General Paint Co.', 'DayOm', 'EY', 'Construction&', 'Netways', 'World Food Programme', 'Digitect', 'Medair', 'JMR Infotech', 'EXEO', 'And Beyond Mena', 'Novelus', 'Modern Online Education', 'Click Round Technologies', 'InfoPro sal', 'SOCIMEX IMPORT - EXPORT', 'Deloitte', 'jewelry', 'Mada Communications international', 'AROPE Insurance | Lebanon', 'Panasonic Avionics Corporation', 'INFO-Telecom Shpk', 'International Rescue Committee', 'The Supporters', 'BUTEC', 'Apgar Consulting', 'International Rescue Committee', 'Educatly', 'Mindshare', 'BTekUp', 'Construction & Builders Consultants', 'Apgar Consulting', 'Sword Group', 'BLACK LEMON', 'Landmark Health', 'Inflexion Tech', 'Sami Nahas Law Firm', 'Cherfan pharmacies', 'Starcom', 'IQVIA', 'La Ménagerie', 'GlobeMed Group', 'Menasa', 'The Station Media & Production', 'PepsiCo', 'Trane Technologies', 'Wooden Bakery', 'ArabiaGIS', 'Cobblestone Energy', 'Achour Holding', '1TRIBE', 'Impresario.Live', 'Maven Insights and Solutions', 'Merkle MENA', 'International Committee of the Red Cross - ICRC', 'ChrisKinterior', 'Sword Group', 'Dar', 'Confidential', 'Crossover for Work', 'CognativeX', 'GCC SERVICES', 'Pharmacie BioSanté', 'Confidential', 'ArabiaGIS', 'Brasserie Almaza - Heineken Lebanon', 'Dallas ISD', 'Multiply Group', 'Gabriel Bocti sal', 'city-blu', 'Ned Animation - Youtube Channel', 'Confidential', \"Foody's International\", 'New Company', 'Podeo | بوديو', 'CSS Providers', 'NRC Europe - Norwegian Refugee Council', 'Mercy Corps', 'Vagary', 'Murex', 'GEEXEL', 'BLOOM AUTHENTIC OUTLETS', 'Crossover for Work', 'Poème Chocolate', 'GSM Facility Services', 'PwC Middle East', 'Aliston', 'Educatly', 'IDS International', 'Salem Group', 'GEEXEL', 'Levant Communication Group', 'International Rescue Committee', 'C.A.T. Group', 'Oracle', 'Equitick Financials', 'UNESCO - United Nations Educational, Scientific and Cultural Organization', 'Cooptalis', 'Confidential', 'Makassed General Hospital', 'IDML Products Limited', 'TWIG Finance', 'Novartis', 'White Stork', 'PwC', 'Crossover for Work', 'QUAYO Mobility', 'Capital Banking Solutions', 'Confidential', 'Appen', 'EQUADIS SA', 'Ftc', 'Mobile Arts', 'University of the People', 'Sherwin-Williams', 'Drapp_me', 'INDIGO Communication Arts', 'Jobskey Search and Selection', 'AlgoTraders', 'Red-Site S.A.R.L', 'The Web Addicts', 'Integrated Digital Systems (IDS)', 'Le Passeport Culinaire', 'HR CHAMP', 'ARTECH', 'areeba', 'Red-Site S.A.R.L', 'Librairie Antoine', 'Presentail', 'Capital Banking Solutions', 'Dar', 'Sahaco', 'Cave Des Ours', 'AEONODE', 'WarnerMedia', 'Grant Thornton Lebanon', 'FOO', 'Dental Labs & Clinics', '53DOTS_Dar Al Kotob', 'Confidential', 'e-mood', 'MJ Services Group', 'UNICEF', 'Designi', 'International Rescue Committee', 'Bureau Veritas Group', 'Rubicom Agency', 'NRC Europe - Norwegian Refugee Council', 'BARB', 'Acteos', 'MADA Communications International S.A.L', 'Entretien et Constructions Mécanique s.a.l (E.C.M s.a.l)', 'ITP Media Group', 'Plus Holding', 'Communication Design SAL', 'Yawmiyati.com', 'Dallas ISD', 'CodenDot', 'Grow Up!', 'Modern Geographic Technologies Corp', 'AlgoTraders', 'Cafe77', 'International Rescue Committee', 'Yawmiyati.com', 'HotelShop', 'Media Solutions', 'IMPACT BBDO', 'Novelus', 'Podeo | بوديو', 'Presentail', 'BASMA.com', 'Dallas ISD', 'Fleystars', 'Bepro', 'UNICEF', 'Ecomz', 'FOO', 'anexya', 'PwC Middle East', 'B-GROUP s.a.r.l', 'socialCRTL', 'MOVENPICK', 'Khoury Kitchen', 'Landmark Health', 'PwC Middle East', 'Technological Crown Innovation', 'Abiroot', 'PwC Middle East', 'International Rescue Committee', 'MYassine Woodworks and Design', 'Strive Middle East', 'Pioneers Gate', 'Matensa', 'VintageCellar App', 'Fly-Foot', 'AddBloom', 'Ethos Interactive', 'Pick a Poke', 'Dar', 'TWIG Finance', 'Nascode', 'Philka Group', 'PBM Real Estate in Lebanon', 'International Rescue Committee', 'Washmen', 'EDGE3 Technologies', 'Capital Banking Solutions', 'BASMA.com', 'ASAP Systems', 'Inhouse Production LTD', 'Radisson Hotel Group', 'Lebanese National Bloc - حزب الكتلة الوطنيّة اللبنانيّة', 'Novartis', 'IIS E-Solutions', 'BlueForce Inc.', 'soprel liban', 'QUAYO Mobility', 'Quick Meal Group SARL', 'Rima nail bar & beauty lounge', 'GlobeMed Group', 'Parallax Graphics', 'TWIG Finance', 'Oboulo International Limited', 'Timing', 'Podeo | بوديو', 'CC Staffing International Ltd.', 'Capital Banking Solutions', 'Monty Mobile', 'MiMi JAY', 'Douda Vermiculture Solutions', 'ASAP Systems - Cloud/On-Premises Inventory System & Asset Tracking Solutions', 'Monty Mobile', 'Monty Mobile', 'Aggreko ME and Central Ops', 'Webased', 'Advanced Business Solutions', 'TransPerfect', 'Sociele', 'Aleph Printing Press and Graphics', 'ElBarid Group', 'Growth Technology LLC', 'Cardinal Health', 'Aljesr.org', 'Procedars', 'Smartcode Internet Solutions', 'Proximie', 'EverteamGS-Intalio', 'RESTOGROUP', 'Nails & spa', 'Eni', 'Massyve.tech', 'WEBBOXED', 'Jusur', 'FOO', 'Crossover for Work', 'Confidential', 'QUALIZONE', 'SUCAFINA', 'District General Trading and Contracting Company', 'Zein Design', 'Capital Banking Solutions', 'PwC Middle East', 'Ethan Group', 'YEPREM', 'Xtreme Media Solutions Pro', 'Securealm S.A.L. Offshore.', 'Monty Mobile', 'International Rescue Committee', 'Crossover for Work', 'Broadnet Technologies', 'Human Capital Management', 'UNHCR, the UN Refugee Agency', 'FOO', 'Procedars', 'Crossover for Work', 'eddress', 'WhiteBeard', 'Path Solutions', 'areeba', 'Dallas ISD', 'STeP Systems That Perform', 'Self-Employed Contractor', 'Appen', 'Ecomz', 'Pilates 4 Everyone', 'EverteamGS-Intalio', 'Sword Group', 'Yummy yard Jbeil', 'IMPACT BBDO', 'Crossover for Work', 'Bottomline Technologies', 'Resource Group', 'Amana Capital', 'FOO', 'FOO', 'Net-Recrute', 'Crossover for Work', 'Gboard', 'Cosmedica clinic Bahrain', 'EF English First', 'FOO', 'FOO', 'The Career Club', 'Menasa', 'Crossover for Work', 'Best Assistance Lebanon', 'The Swan Pro', 'Kempinski Hotels', 'Rubix - Partner for Digital Business', 'TransPerfect', 'Microtech Solutions S.A.L.', 'CME', 'Jobs | Careers | Recruitment | Hiring Alerts Worldwide', 'Medisense Healthcare Solutions Pvt. Ltd.', 'TransPerfect', 'Integrated Digital Systems (IDS)', 'TransPerfect', 'AccuV', 'Agoda', 'Menasa', 'Dynamaze CA', 'KADRI PHARMACY', 'Band Industries (Roadie Music)', 'Agoda', 'FOO', 'Cobblestone Energy', 'Postlight', 'Rubix - Partner for Digital Business', 'AUBMC', 'Crossover for Work', 'Net-Recrute', 'Podeo | بوديو', 'Crossover for Work', 'Agoda', 'Agoda', 'Radisson Hotel Group', 'Spa Staff.com', 'Medical Recruitment UK', 'Postlight', 'FOO', 'Murex', 'FOO', 'Wider Talent Consultancy', 'Spa Staff.com', 'PwC Middle East', 'Self-employed', 'Medical Recruitment UK', 'Wider Talent Consultancy', 'Crossover for Work', 'Crossover for Work', 'Radisson Hotel Group', 'Careem', 'FOO', 'Spa Staff.com', 'Spa Staff.com', 'Radisson Hotel Group', 'Radisson Hotel Group', 'Spa Staff.com', 'FOO', 'Crossover for Work', 'Canonical', 'Toptal', 'Spa Staff.com', 'Crossover for Work', 'Toptal', 'Toptal', 'Toptal', 'Toptal', 'IQVIA', 'Careem', 'Toptal', 'Crossover for Work', 'Crossover for Work', 'Spa Staff.com', 'Toptal', 'Toptal', 'Toptal', 'Crossover for Work', 'Toptal', 'Crossover for Work', 'Crossover for Work', 'Crossover for Work', 'Agoda', 'PwC Middle East', 'Agoda', 'Agoda', 'Toptal', 'Toptal', 'Toptal', 'Toptal', 'Agoda', 'Toptal', 'Toptal', 'Agoda', 'Toptal', 'Agoda', 'Agoda', 'Agoda', 'Toptal', 'Agoda', 'Toptal']\n",
      "\n",
      "791\n"
     ]
    }
   ],
   "source": [
    "#Company Name\n",
    "comp=browser.find_elements_by_class_name(\"hidden-nested-link\")\n",
    "comp_name=[]\n",
    "for i in comp:\n",
    "    comp_name.append(i.text)\n",
    "    \n",
    "print(comp_name)\n",
    "print()\n",
    "print(len(comp_name))"
   ]
  },
  {
   "cell_type": "code",
   "execution_count": 16,
   "metadata": {},
   "outputs": [
    {
     "name": "stdout",
     "output_type": "stream",
     "text": [
      "['Beirut, Lebanon', 'Beirut, Lebanon', 'Beirut, Lebanon', 'Beirut, Lebanon', 'Beirut, Lebanon', 'Beirut, Beirut, Lebanon', 'Beirut, Lebanon', 'Beirut, Lebanon', 'Beirut, Lebanon', 'Beirut, Beirut, Lebanon', 'Beirut, Beirut, Lebanon', 'Sinn El Fil, Mount Lebanon, Lebanon', 'Sinn El Fil, Mount Lebanon, Lebanon', 'Beirut, Lebanon', 'Beirut, Beirut, Lebanon', 'Beirut, Lebanon', 'Beirut, Lebanon', 'Beirut, Beirut, Lebanon', 'Zgharta, North, Lebanon', 'Beirut, Lebanon', 'Beirut, Beirut, Lebanon', 'Ain Baal, South, Lebanon', 'Zalqa, Mount Lebanon, Lebanon', 'Beirut, Lebanon', 'Beirut, Lebanon', 'Lebanon', 'Keserwan District, Mount Lebanon, Lebanon', 'Mount Lebanon, Lebanon', 'Beirut, Lebanon', 'Lebanon', 'Beirut, Beirut, Lebanon', 'Beirut, Lebanon', 'Lebanon', 'Saida, South, Lebanon', 'Lebanon', 'Lebanon', 'Baabda, Mount Lebanon, Lebanon', 'Beirut, Lebanon', 'Beyrouth, Beirut, Lebanon', 'Lebanon', 'Beyrouth, Beirut, Lebanon', 'Beirut, Lebanon', 'Beirut, Beirut, Lebanon', 'Beirut, Lebanon', 'Beirut, Lebanon', 'Beirut, Lebanon', 'Tripoli, North, Lebanon', 'Beirut, Lebanon', 'Beirut, Lebanon', 'Beirut, Beirut, Lebanon', 'Beirut, Lebanon', 'Beirut, Lebanon', 'Beirut, Lebanon', 'Beirut, Lebanon', 'Beirut, Beirut, Lebanon', 'Beirut, Lebanon', 'Beirut, Lebanon', 'Beirut, Lebanon', 'Beirut, Lebanon', 'Beirut, Lebanon', 'Beirut, Beirut, Lebanon', 'Beirut, Lebanon', 'Beirut, Beirut, Lebanon', 'Beirut, Beirut, Lebanon', 'Beirut, Lebanon', 'Beirut, Lebanon', 'Beirut, Lebanon', 'Beirut, Lebanon', 'Beirut, Lebanon', 'Beirut, Lebanon', 'Beyrouth, Beirut, Lebanon', 'Beirut, Lebanon', 'Beirut, Beirut, Lebanon', 'Zouk Mkayel, Mount Lebanon, Lebanon', 'Antelias, Mount Lebanon, Lebanon', 'Beirut, Beirut, Lebanon', 'Beyrouth, Beirut, Lebanon', 'Beyrouth, Beirut, Lebanon', 'Beirut, Lebanon', 'Tyre District, South, Lebanon', 'Beirut, Beirut, Lebanon', 'Beirut, Lebanon', 'Tripoli, North, Lebanon', 'Beirut, Beirut, Lebanon', 'Lebanon', 'Beirut, Lebanon', 'Beirut, Lebanon', 'Beirut, Lebanon', 'Beirut, Lebanon', 'Raifoun, Mount Lebanon, Lebanon', 'Beirut, Lebanon', 'Mansouriye, Mount Lebanon, Lebanon', 'Beyrouth, Beirut, Lebanon', 'Hazmiye, North, Lebanon', 'El Mkalless, Mount Lebanon, Lebanon', 'Broummana, Mount Lebanon, Lebanon', 'Beirut, Lebanon', 'Beirut, Lebanon', 'Beirut, Lebanon', 'Beirut, Lebanon', 'Beirut, Beirut, Lebanon', 'Beirut, Lebanon', 'Beirut, Lebanon', 'Beyrouth, Beirut, Lebanon', 'Beirut, Lebanon', 'Beirut, Lebanon', 'Baabda, Mount Lebanon, Lebanon', 'Beirut, Lebanon', 'Beirut, Beirut, Lebanon', 'Beirut, Lebanon', 'Beyrouth, Beirut, Lebanon', 'Beirut, Lebanon', 'Bqaatouta, Mount Lebanon, Lebanon', 'Beirut, Beirut, Lebanon', 'Beirut, Lebanon', 'Beirut, Lebanon', 'Beirut, Beirut, Lebanon', 'Beirut, Lebanon', 'Bekaa, Baalbek Hermel, Lebanon', 'Zouk Mkayel, Mount Lebanon, Lebanon', 'Beirut, Beirut, Lebanon', 'Beirut, Beirut, Lebanon', 'Ain El Rommane, Mount Lebanon, Lebanon', 'Beirut, Beirut, Lebanon', 'Jdaide, Mount Lebanon, Lebanon', 'Beirut, Lebanon', 'Beirut, Beirut, Lebanon', 'Beirut, Lebanon', 'Beirut, Lebanon', 'Beirut, Lebanon', 'Beirut, Lebanon', 'Beirut, Beirut, Lebanon', 'Beirut, Lebanon', 'Borj Hammoud, Mount Lebanon, Lebanon', 'Sinn El Fil, Mount Lebanon, Lebanon', 'Beirut, Lebanon', 'Beirut, Beirut, Lebanon', 'Beirut, Beirut, Lebanon', 'Beirut, Lebanon', 'Beirut, Lebanon', 'Beirut, Beirut, Lebanon', 'Jūniyah, Mount Lebanon, Lebanon', 'Beirut, Lebanon', 'Matn District, Mount Lebanon, Lebanon', 'Beirut, Beirut, Lebanon', 'Jūniyah, Mount Lebanon, Lebanon', 'Zalqa, Mount Lebanon, Lebanon', 'Beirut, Lebanon', 'Beirut, Lebanon', 'Beirut, Lebanon', 'Adma Et Dafna, Mount Lebanon, Lebanon', 'Beirut, Beirut, Lebanon', 'Beirut, Lebanon', 'Beirut, Beirut, Lebanon', 'Beirut, Lebanon', 'Beirut, Lebanon', 'Beirut, Lebanon', 'Beirut, Beirut, Lebanon', 'Beirut, Lebanon', 'Beirut, Beirut, Lebanon', 'Beirut, Lebanon', 'North, Lebanon', 'Beirut, Lebanon', 'Beirut, Beirut, Lebanon', 'Beirut, Beirut, Lebanon', 'Beirut, Beirut, Lebanon', 'Beirut, Lebanon', 'Tripoli, North, Lebanon', 'Beirut, Beirut, Lebanon', 'Beirut, Lebanon', 'Beirut, Beirut, Lebanon', 'Beyrouth, Beirut, Lebanon', 'Zouk Mkayel, Mount Lebanon, Lebanon', 'Beirut, Lebanon', 'Beirut, Lebanon', 'Adma Et Dafna, Mount Lebanon, Lebanon', 'Beirut, Beirut, Lebanon', 'Beirut, Lebanon', 'Beyrouth, Beirut, Lebanon', 'Beirut, Beirut, Lebanon', 'Ghazir, Mount Lebanon, Lebanon', 'Beirut, Lebanon', 'Beirut, Beirut, Lebanon', 'Beirut, Lebanon', 'Beirut, Lebanon', 'Jall Ed Dib, Mount Lebanon, Lebanon', 'Beirut, Beirut, Lebanon', 'Bqaatouta, Mount Lebanon, Lebanon', 'Beirut, Lebanon', 'Forn Ech Chebbak, Mount Lebanon, Lebanon', 'Beirut, Beirut, Lebanon', 'Beirut, Beirut, Lebanon', 'Keserwan District, Mount Lebanon, Lebanon', 'Beirut, Lebanon', 'Beirut, Lebanon', 'Beirut, Lebanon', 'Jbeil District, Mount Lebanon, Lebanon', 'Beirut, Lebanon', 'Beirut, Lebanon', 'Jeita, Mount Lebanon, Lebanon', 'Beirut, Lebanon', 'Dbaiyeh, Mount Lebanon, Lebanon', 'Beirut, Beirut, Lebanon', 'Beirut, Beirut, Lebanon', 'Beirut, Beirut, Lebanon', 'Beirut, Beirut, Lebanon', 'Beyrouth, Beirut, Lebanon', 'Beirut, Lebanon', 'Sinn El Fil, Mount Lebanon, Lebanon', 'Beirut, Lebanon', 'Beirut, Beirut, Lebanon', 'Beirut, Lebanon', 'Lebanon', 'Lebanon', 'Beirut, Beirut, Lebanon', 'Beirut, Beirut, Lebanon', 'Beirut, Beirut, Lebanon', 'Beirut, Beirut, Lebanon', 'Beirut, Beirut, Lebanon', 'Beirut, Beirut, Lebanon', 'Sarba, Mount Lebanon, Lebanon', 'Beirut, Lebanon', 'Beirut, Lebanon', 'Beirut, Lebanon', 'Beirut, Lebanon', 'Forn Ech Chebbak, Mount Lebanon, Lebanon', 'Beirut, Lebanon', 'Beirut, Beirut, Lebanon', 'Zalqa, Mount Lebanon, Lebanon', 'Beirut, Lebanon', 'Beirut, Lebanon', 'Beirut, Beirut, Lebanon', 'Beirut, Beirut, Lebanon', 'Beirut, Beirut, Lebanon', 'Beirut, Lebanon', 'Beyrouth, Beirut, Lebanon', 'Matn District, Mount Lebanon, Lebanon', 'Sinn El Fil, Mount Lebanon, Lebanon', 'Beirut, Beirut, Lebanon', 'Tripoli, North, Lebanon', 'Beirut, Lebanon', 'Falougha, Mount Lebanon, Lebanon', 'Beirut, Lebanon', 'Beyrouth, Beirut, Lebanon', 'Beirut, Lebanon', 'Beirut, Beirut, Lebanon', 'Jeita, Mount Lebanon, Lebanon', 'Beirut, Lebanon', 'Beirut, Beirut, Lebanon', 'Mount Lebanon, Lebanon', 'Beirut, Lebanon', 'Beirut, Beirut, Lebanon', 'Beirut, Beirut, Lebanon', 'Tikrit, Akkar, Lebanon', 'Beirut, Lebanon', 'Beirut, Lebanon', 'Beirut, Beirut, Lebanon', 'Beirut, Beirut, Lebanon', 'Beirut, Lebanon', 'Beirut, Beirut, Lebanon', 'Beirut, Beirut, Lebanon', 'Zalqa, Mount Lebanon, Lebanon', 'Borj Hammoud, Mount Lebanon, Lebanon', 'Beirut, Lebanon', 'Jall Ed Dib, Mount Lebanon, Lebanon', 'Beirut, Beirut, Lebanon', 'Jdaide, Mount Lebanon, Lebanon', 'Beirut, Beirut, Lebanon', 'Mazraat Yachouaa, Mount Lebanon, Lebanon', 'Beirut, Lebanon', 'Beirut, Lebanon', 'Beirut, Lebanon', 'Beirut, Lebanon', 'Beirut, Lebanon', 'Matn District, Mount Lebanon, Lebanon', 'Sinn El Fil, Mount Lebanon, Lebanon', 'Beirut, Beirut, Lebanon', 'Beirut, Lebanon', 'Beirut, Lebanon', 'Beirut, Beirut, Lebanon', 'Marhat Aakkar, Akkar, Lebanon', 'Beirut, Beirut, Lebanon', 'Beirut, Lebanon', 'Beirut, Lebanon', 'Beirut, Beirut, Lebanon', 'Beirut, Beirut, Lebanon', 'Beirut, Beirut, Lebanon', 'Beirut, Beirut, Lebanon', 'Beirut, Beirut, Lebanon', 'Jall Ed Dib, Mount Lebanon, Lebanon', 'Beirut, Beirut, Lebanon', 'Beirut, Beirut, Lebanon', 'Beirut, Beirut, Lebanon', 'Baabda, Mount Lebanon, Lebanon', 'Beirut, Lebanon', 'Beirut, Lebanon', 'Beirut, Beirut, Lebanon', 'Beirut, Lebanon', 'Beirut, Lebanon', 'Beirut, Beirut, Lebanon', 'Beirut Central District, Beirut, Lebanon', 'Jubayl, Mount Lebanon, Lebanon', 'Mount Lebanon, Lebanon', 'Beyrouth, Beirut, Lebanon', 'Beirut, Lebanon', 'Beirut, Beirut, Lebanon', 'Beirut, Lebanon', 'Jūniyah, Mount Lebanon, Lebanon', 'Beirut, Beirut, Lebanon', 'Zalqa, Mount Lebanon, Lebanon', 'Beirut, Lebanon', 'Beirut, Lebanon', 'Lebanon', 'Beirut, Beirut, Lebanon', 'Tripoli, North, Lebanon', 'Beirut, Lebanon', 'Beirut, Lebanon', 'Beirut, Beirut, Lebanon', 'Beirut, Beirut, Lebanon', 'Beirut, Beirut, Lebanon', 'Lebanon', 'Beirut, Lebanon', 'Beirut, Beirut, Lebanon', 'Dbaiyeh, Mount Lebanon, Lebanon', 'Beyrouth, Beirut, Lebanon', 'Marhat Aakkar, Akkar, Lebanon', 'Beirut, Lebanon', 'Beirut, Lebanon', 'Beirut, Beirut, Lebanon', 'El Mkalless, Mount Lebanon, Lebanon', 'Baaqline, Mount Lebanon, Lebanon', 'Lebanon', 'Beirut, Lebanon', 'Beirut, Beirut, Lebanon', 'Beirut, Lebanon', 'Beirut, Lebanon', 'Beirut, Beirut, Lebanon', 'Beirut, Beirut, Lebanon', 'Beirut, Lebanon', 'Zouk Mkayel, Mount Lebanon, Lebanon', 'Beirut, Lebanon', 'Beirut, Lebanon', 'Beirut, Lebanon', 'Beirut, Beirut, Lebanon', 'Beirut, Lebanon', 'Beyrouth, Beirut, Lebanon', 'Zouk Mkayel, Mount Lebanon, Lebanon', 'Beirut, Beirut, Lebanon', 'Antelias, Mount Lebanon, Lebanon', 'Lebanon', 'Beyrouth, Beirut, Lebanon', 'Beirut, Beirut, Lebanon', 'Adonīs, Mount Lebanon, Lebanon', 'Beirut, Lebanon', 'Lebanon', 'Beirut, Lebanon', 'Beirut, Beirut, Lebanon', 'Marhat Aakkar, Akkar, Lebanon', 'Beirut, Beirut, Lebanon', 'Lebanon', 'Beirut, Lebanon', 'Beirut, Lebanon', 'Ghaziye, South, Lebanon', 'Beirut, Beirut, Lebanon', 'Ouata Amaret Chalhoub, Mount Lebanon, Lebanon', 'Bchamoun, Mount Lebanon, Lebanon', 'Beirut, Lebanon', 'Beirut, Beirut, Lebanon', 'Kesrwan, Mount Lebanon, Lebanon', 'Beirut, Lebanon', 'Beirut, Beirut, Lebanon', 'Beirut, Lebanon', 'South, Lebanon', 'Beirut, Lebanon', 'Beirut, Beirut, Lebanon', 'Beirut, Beirut, Lebanon', 'Beirut, Lebanon', 'Beirut, Lebanon', 'Zahle, Beqaa, Lebanon', 'Beirut, Lebanon', 'Beirut, Beirut, Lebanon', 'Beirut, Lebanon', 'Beirut, Lebanon', 'Beirut, Beirut, Lebanon', 'Keserwan District, Mount Lebanon, Lebanon', 'Marhat Aakkar, Akkar, Lebanon', 'Beirut, Lebanon', 'Beirut, Lebanon', 'Beirut, Beirut, Lebanon', 'Beirut, Lebanon', 'Ghazir, Mount Lebanon, Lebanon', 'Beirut, Lebanon', 'Beyrouth, Beirut, Lebanon', 'Beirut, Lebanon', 'Beirut, Beirut, Lebanon', 'Tripoli, North, Lebanon', 'Beirut, Lebanon', 'Beirut, Beirut, Lebanon', 'Beirut, Lebanon', 'Beirut, Beirut, Lebanon', 'Jall Ed Dib, Mount Lebanon, Lebanon', 'El Mkalless, Mount Lebanon, Lebanon', 'Beirut, Beirut, Lebanon', 'Saida Dekerman, South, Lebanon', 'Beirut, Lebanon', 'Beirut, Lebanon', 'Beirut, Lebanon', 'Keserwan District, Mount Lebanon, Lebanon', 'Beirut, Lebanon', 'Beirut, Beirut, Lebanon', 'Beirut, Beirut, Lebanon', 'Beirut, Lebanon', 'Beirut, Beirut, Lebanon', 'Beirut, Beirut, Lebanon', 'Beirut, Lebanon', 'Jbeil District, Mount Lebanon, Lebanon', 'Beirut, Beirut, Lebanon', 'Lebanon', 'Beirut, Lebanon', 'Lebanon', 'Beirut, Lebanon', 'Jbeil District, Mount Lebanon, Lebanon', 'Beirut, Lebanon', 'Jubayl, Mount Lebanon, Lebanon', 'Lebanon', 'Beirut, Lebanon', 'Beirut, Lebanon', 'Ain Saade, Mount Lebanon, Lebanon', 'Beirut, Beirut, Lebanon', 'Beirut, Beirut, Lebanon', 'Beirut, Lebanon', 'Sinn El Fil, Mount Lebanon, Lebanon', 'Forn Ech Chebbak, Mount Lebanon, Lebanon', 'Beirut, Beirut, Lebanon', 'Beyrouth, Beirut, Lebanon', 'Beirut, Beirut, Lebanon', 'Antelias, Mount Lebanon, Lebanon', 'Beirut, Lebanon', 'Beirut, Beirut, Lebanon', 'Beirut, Lebanon', 'Beirut, Lebanon', 'Beirut, Lebanon', 'Lebanon', 'Beirut, Beirut, Lebanon', 'Beirut, Lebanon', 'Beirut, Lebanon', 'Beirut, Lebanon', 'Beirut, Lebanon', 'Beirut, Lebanon', 'Beirut, Beirut, Lebanon', 'Beirut, Lebanon', 'Borj El Naqoura, South, Lebanon', 'Jbeil District, Mount Lebanon, Lebanon', 'Beirut, Lebanon', 'Beirut, Lebanon', 'Beirut, Lebanon', 'Erkay, South, Lebanon', 'Beirut, Lebanon', 'Mar Roukouz Et Dahr El Hssaine, Mount Lebanon, Lebanon', 'Beirut, Lebanon', 'Beirut, Lebanon', 'Beirut, Lebanon', 'Beirut, Lebanon', 'Zgharta, North, Lebanon', 'Beirut, Beirut, Lebanon', 'Beirut, Lebanon', 'Beirut, Beirut, Lebanon', 'Beirut, Beirut, Lebanon', 'Tripoli, North, Lebanon', 'Beirut Central District, Beirut, Lebanon', 'Beirut, Lebanon', 'Majdel Koura, North, Lebanon', 'Beirut, Beirut, Lebanon', 'Aramoune, Mount Lebanon, Lebanon', 'Beirut, Lebanon', 'Beirut, Beirut, Lebanon', 'Beirut, Lebanon', 'Lebanon', 'Ghosta, Mount Lebanon, Lebanon', 'Beirut, Lebanon', 'Beirut, Beirut, Lebanon', 'Sinn El Fil, Mount Lebanon, Lebanon', 'Beirut, Beirut, Lebanon', 'Beirut, Lebanon', 'Beirut, Lebanon', 'Beirut, Beirut, Lebanon', 'Beirut, Beirut, Lebanon', 'Beirut, Lebanon', 'Beirut, Lebanon', 'Beirut, Beirut, Lebanon', 'Beirut, Lebanon', 'Lebanon', 'Beirut, Beirut, Lebanon', 'Beirut, Lebanon', 'Beirut, Beirut, Lebanon', 'Beirut, Beirut, Lebanon', 'Beyrouth, Beirut, Lebanon', 'Beirut, Lebanon', 'Beirut, Lebanon', 'Beirut, Lebanon', 'Beirut, Lebanon', 'Beirut, Beirut, Lebanon', 'Beirut, Lebanon', 'Lebanon', 'Lebanon', 'Beirut, Lebanon', 'Lebanon', 'Beirut, Beirut, Lebanon', 'Beirut, Lebanon', 'Jūniyah, Mount Lebanon, Lebanon', 'Sinn El Fil, Mount Lebanon, Lebanon', 'Beirut, Lebanon', 'Beirut, Lebanon', 'Beirut, Lebanon', 'Tripoli, North, Lebanon', 'Beirut, Lebanon', 'Jūniyah, Mount Lebanon, Lebanon', 'El Mkalless, Mount Lebanon, Lebanon', 'Beirut, Beirut, Lebanon', 'Beirut, Lebanon', 'Beirut, Lebanon', 'Zouk Mkayel, Mount Lebanon, Lebanon', 'Beirut, Lebanon', 'Beirut, Lebanon', 'Beirut, Beirut, Lebanon', 'Beirut, Lebanon', 'Sinn El Fil, Mount Lebanon, Lebanon', 'Sinn El Fil, Mount Lebanon, Lebanon', 'Bchamoun, Mount Lebanon, Lebanon', 'Jūniyah, Mount Lebanon, Lebanon', 'Beirut, Lebanon', 'Saida, South, Lebanon', 'Beirut, Lebanon', 'Beirut, Lebanon', 'Beirut, Beirut, Lebanon', 'Beirut, Lebanon', 'Kesrwan, Mount Lebanon, Lebanon', 'Beirut, Beirut, Lebanon', 'Lebanon', 'Beirut, Lebanon', 'Beirut, Lebanon', 'Jbeil District, Mount Lebanon, Lebanon', 'Mount Lebanon, Mount Lebanon, Lebanon', 'Beirut, Lebanon', 'Beirut, Lebanon', 'Beirut, Beirut, Lebanon', 'Erkay, South, Lebanon', 'Tripoli, North, Lebanon', 'North, Lebanon', 'Beirut, Beirut, Lebanon', 'Beirut, Lebanon', 'Beirut, Lebanon', 'Beirut, Beirut, Lebanon', 'Beirut, Beirut, Lebanon', 'Beirut, Lebanon', 'Beirut, Lebanon', 'Beirut, Lebanon', 'Beirut, Lebanon', 'Beirut, Beirut, Lebanon', 'Beirut, Beirut, Lebanon', 'Beirut, Lebanon', 'Erkay, South, Lebanon', 'Beirut, Lebanon', 'Beirut, Lebanon', 'Beirut, Lebanon', 'Beirut, Lebanon', 'Sinn El Fil, Mount Lebanon, Lebanon', 'Ed Dekouane, Mount Lebanon, Lebanon', 'Beirut, Beirut, Lebanon', 'Beirut, Beirut, Lebanon', 'Beirut, Lebanon', 'Beyrouth, Beirut, Lebanon', 'Tripoli, North, Lebanon', 'Lebanon', 'Beirut, Beirut, Lebanon', 'Zalqa, Mount Lebanon, Lebanon', 'Ghazir, Mount Lebanon, Lebanon', 'Beirut, Beirut, Lebanon', 'Beirut, Beirut, Lebanon', 'Mount Lebanon, Lebanon', 'Beirut, Beirut, Lebanon', 'Saida Ville, South, Lebanon', 'Remhala, Mount Lebanon, Lebanon', 'Beirut, Beirut, Lebanon', 'Beirut, Beirut, Lebanon', 'Dbaiyeh, Mount Lebanon, Lebanon', 'Matn District, Mount Lebanon, Lebanon', 'Beirut, Lebanon', 'Beirut, Lebanon', 'Beirut, Lebanon', 'Beirut, Lebanon', 'Borj Hammoud, Mount Lebanon, Lebanon', 'Beirut, Lebanon', 'Beirut, Beirut, Lebanon', 'Beirut, Beirut, Lebanon', 'Beirut, Lebanon', 'Beirut, Lebanon', 'Beirut, Lebanon', 'Antelias, Mount Lebanon, Lebanon', 'Beirut Central District, Beirut, Lebanon', 'Beirut, Beirut, Lebanon', 'Beirut, Lebanon', 'Beirut, Beirut, Lebanon', 'Haret Hreik, Mount Lebanon, Lebanon', 'Beirut, Beirut, Lebanon', 'Halate, Mount Lebanon, Lebanon', 'Beirut, Beirut, Lebanon', 'Taanayel, Beqaa, Lebanon', 'Saida, South, Lebanon', 'Sinn El Fil, Mount Lebanon, Lebanon', 'Chekka, North, Lebanon', 'Lebanon', 'Lebanon', 'Lebanon', 'Beirut, Beirut, Lebanon', 'Lebanon', 'Beirut, Lebanon', 'Beirut, Lebanon', 'Ghaziye, South, Lebanon', 'Beirut, Lebanon', 'Beirut, Lebanon', 'Beirut, Lebanon', 'Beirut, Lebanon', 'Beirut, Beirut, Lebanon', 'Beirut, Lebanon', 'Dbaiyeh, Mount Lebanon, Lebanon', 'Zahle, Beqaa, Lebanon', 'Beirut, Beirut, Lebanon', 'El Mkalless, Mount Lebanon, Lebanon', 'Beirut, Lebanon', 'Dbaiyeh, Mount Lebanon, Lebanon', 'Zalqa, Mount Lebanon, Lebanon', 'Beirut, Lebanon', 'Beirut, Lebanon', 'Beirut, Lebanon', 'Beirut, Beirut, Lebanon', 'Beirut, Lebanon', 'Beirut, Beirut, Lebanon', 'Beirut, Beirut, Lebanon', 'Tripoli, North, Lebanon', 'Beirut, Lebanon', 'Zouk Mkayel, Mount Lebanon, Lebanon', 'Beirut, Lebanon', 'Sinn El Fil, Mount Lebanon, Lebanon', 'Beirut, Beirut, Lebanon', 'Beirut, Lebanon', 'Beirut, Lebanon', 'Beirut, Lebanon', 'Beirut, Lebanon', 'Beirut, Beirut, Lebanon', 'Beirut, Lebanon', 'Beirut, Beirut, Lebanon', 'Beirut, Lebanon', 'Beirut, Lebanon', 'Jūniyah, Mount Lebanon, Lebanon', 'Beirut, Lebanon', 'Beirut, Lebanon', 'Beirut, Beirut, Lebanon', 'Beirut, Beirut, Lebanon', 'Beirut, Lebanon', 'Beirut, Beirut, Lebanon', 'Beirut, Lebanon', 'Sinn El Fil, Mount Lebanon, Lebanon', 'Beirut, Lebanon', 'Beirut, Beirut, Lebanon', 'Beirut, Lebanon', 'Beirut, Lebanon', 'El Mkalless, Mount Lebanon, Lebanon', 'Beirut, Lebanon', 'Erkay, South, Lebanon', 'Beirut, Lebanon', 'Beirut, Lebanon', 'Lebanon', 'Beirut, Lebanon', 'Beirut, Beirut, Lebanon', 'Beirut, Lebanon', 'Beirut, Lebanon', 'Jbeil District, Mount Lebanon, Lebanon', 'Beirut, Lebanon', 'Beirut, Beirut, Lebanon', 'Beirut, Beirut, Lebanon', 'Beirut, Lebanon', 'Beirut, Lebanon', 'Sinn El Fil, Mount Lebanon, Lebanon', 'Sinn El Fil, Mount Lebanon, Lebanon', 'Beirut, Lebanon', 'Beirut, Beirut, Lebanon', 'Adma Et Dafna, Mount Lebanon, Lebanon', 'Beirut, Beirut, Lebanon', 'Beirut, Lebanon', 'Sinn El Fil, Mount Lebanon, Lebanon', 'Sinn El Fil, Mount Lebanon, Lebanon', 'Beirut, Lebanon', 'Forn Ech Chebbak, Mount Lebanon, Lebanon', 'Beirut, Beirut, Lebanon', 'Beirut, Lebanon', 'Beirut, Lebanon', 'Beirut, Beirut, Lebanon', 'Lebanon', 'Tripoli, North, Lebanon', 'Beirut, Beirut, Lebanon', 'Beirut, Lebanon', 'Şūr, South, Lebanon', 'Lebanon', 'Beirut, Lebanon', 'Beirut, Lebanon', 'Saida, South, Lebanon', 'Beirut, Beirut, Lebanon', 'Beirut, Beirut, Lebanon', 'Forn Ech Chebbak, Mount Lebanon, Lebanon', 'Beirut, Lebanon', 'Zahle, Beqaa, Lebanon', 'Mansouriye, Mount Lebanon, Lebanon', 'Beirut, Beirut, Lebanon', 'Sinn El Fil, Mount Lebanon, Lebanon', 'Beirut, Beirut, Lebanon', 'Beirut, Lebanon', 'Beirut, Lebanon', 'Beirut, Lebanon', 'Beirut, Beirut, Lebanon', 'Beirut, Beirut, Lebanon', 'Beirut, Beirut, Lebanon', 'Beirut, Beirut, Lebanon', 'Beirut, Beirut, Lebanon', 'Beirut, Beirut, Lebanon', 'Beirut, Beirut, Lebanon', 'Mount Lebanon, Mount Lebanon, Lebanon', 'Beyrouth, Beirut, Lebanon', 'Beirut, Beirut, Lebanon', 'Sinn El Fil, Mount Lebanon, Lebanon', 'Beyrouth, Beirut, Lebanon', 'Sinn El Fil, Mount Lebanon, Lebanon', 'Lebanon', 'Beirut, Beirut, Lebanon', 'Beirut, Beirut, Lebanon', 'Saida, South, Lebanon', 'Tripoli, North, Lebanon', 'Lebanon', 'Beirut, Beirut, Lebanon', 'Beirut, Beirut, Lebanon', 'Beirut, Beirut, Lebanon', 'Beirut, Beirut, Lebanon', 'Sinn El Fil, Mount Lebanon, Lebanon', 'Beirut, Beirut, Lebanon', 'Beirut, Beirut, Lebanon', 'Beirut, Beirut, Lebanon', 'Beirut, Beirut, Lebanon', 'Beirut, Beirut, Lebanon', 'Sinn El Fil, Mount Lebanon, Lebanon', 'Beirut, Beirut, Lebanon', 'Beirut, Beirut, Lebanon', 'Sidon, South, Lebanon', 'Mount Lebanon, Mount Lebanon, Lebanon', 'Beirut, Beirut, Lebanon', 'Sidon, South, Lebanon', 'Tripoli, North, Lebanon', 'Tyre, South, Lebanon', 'Tyre, South, Lebanon', 'Beirut, Beirut, Lebanon', 'Beirut, Beirut, Lebanon', 'Tripoli, North, Lebanon', 'Beirut, Beirut, Lebanon', 'Beirut, Beirut, Lebanon', 'Mount Lebanon, Mount Lebanon, Lebanon', 'Tyre, South, Lebanon', 'Tripoli, North, Lebanon', 'Tyre, South, Lebanon', 'Beirut, Beirut, Lebanon', 'Sidon, South, Lebanon', 'Beirut, Beirut, Lebanon', 'Beirut, Beirut, Lebanon', 'Beirut, Beirut, Lebanon', 'Beirut, Beirut, Lebanon', 'Beirut, Beirut, Lebanon', 'Beirut, Beirut, Lebanon', 'Beirut, Beirut, Lebanon', 'Sidon, South, Lebanon', 'Tyre, South, Lebanon', 'Tripoli, North, Lebanon', 'Sidon, South, Lebanon', 'Beirut, Beirut, Lebanon', 'Sidon, South, Lebanon', 'Tripoli, North, Lebanon', 'Beirut, Beirut, Lebanon', 'Tyre, South, Lebanon', 'Beirut, Beirut, Lebanon', 'Beirut, Beirut, Lebanon', 'Beirut, Beirut, Lebanon', 'Beirut, Beirut, Lebanon', 'Beirut, Beirut, Lebanon', 'Tripoli, North, Lebanon']\n",
      "\n",
      "791\n"
     ]
    }
   ],
   "source": [
    "#Location\n",
    "location=browser.find_elements_by_class_name(\"job-search-card__location\")\n",
    "location_name=[]\n",
    "for i in location:\n",
    "    location_name.append(i.text)\n",
    "    \n",
    "print(location_name)\n",
    "print()\n",
    "print(len(location_name))"
   ]
  },
  {
   "cell_type": "code",
   "execution_count": 17,
   "metadata": {},
   "outputs": [
    {
     "name": "stdout",
     "output_type": "stream",
     "text": [
      "['2021-08-23', '2021-08-23', '2021-08-23', '2021-08-23', '2021-08-23', '2021-08-23', '2021-08-23', '2021-08-23', '2021-08-23', '2021-08-23', '2021-08-23', '2021-08-23', '2021-08-23', '2021-08-23', '2021-08-23', '2021-08-23', '2021-08-23', '2021-08-19', '2021-08-03', '2021-08-23', '2021-08-05', '2021-08-22', '2021-08-23', '2021-08-23', '2021-08-23', '2021-08-19', '2021-08-17', '2021-08-20', '2021-08-19', '2021-08-23', '2021-08-16', '2021-08-19', '2021-08-16', '2021-08-20', '2021-08-23', '2021-08-20', '2021-08-02', '2021-08-11', '2021-08-21', '2021-08-09', '2021-08-12', '2021-08-22', '2021-08-05', '2021-08-23', '2021-08-13', '2021-08-05', '2021-08-11', '2021-08-16', '2021-08-17', '2021-07-24', '2021-08-22', '2021-08-18', '2021-08-23', '2021-08-02', '2021-08-22', '2021-08-22', '2021-08-22', '2021-08-17', '2021-08-03', '2021-08-04', '2021-08-16', '2021-08-23', '2021-08-09', '2021-08-06', '2021-08-18', '2021-08-18', '2021-08-18', '2021-08-11', '2021-08-12', '2021-08-18', '2021-08-20', '2021-08-12', '2021-08-17', '2021-08-17', '2021-08-02', '2021-08-18', '2021-08-17', '2021-08-20', '2021-08-10', '2021-08-05', '2021-08-11', '2021-08-13', '2021-06-30', '2021-07-26', '2021-08-20', '2021-08-11', '2021-08-23', '2021-08-17', '2021-08-02', '2021-08-10', '2021-08-19', '2021-08-03', '2021-08-10', '2021-08-16', '2021-08-12', '2021-08-10', '2021-07-30', '2021-07-30', '2021-08-09', '2021-08-19', '2021-08-17', '2021-08-19', '2021-08-10', '2021-07-29', '2021-08-12', '2021-07-30', '2021-07-29', '2021-08-13', '2021-07-22', '2021-08-16', '2021-08-10', '2021-08-11', '2021-08-16', '2021-08-15', '2021-08-06', '2021-07-28', '2021-08-04', '2021-08-08', '2021-08-17', '2021-08-16', '2021-08-03', '2021-07-07', '2021-08-18', '2021-08-05', '2021-08-09', '2021-08-18', '2021-08-02', '2021-08-18', '2021-08-11', '2021-08-20', '2021-08-12', '2021-07-07', '2021-07-27', '2021-08-05', '2021-08-02', '2021-08-17', '2021-08-19', '2021-08-16', '2021-08-10', '2021-08-05', '2021-08-19', '2021-08-09', '2021-08-18', '2021-08-12', '2021-07-21', '2021-08-12', '2021-08-19', '2021-07-29', '2021-07-25', '2021-08-09', '2021-08-16', '2021-08-07', '2021-08-10', '2021-08-20', '2021-08-23', '2021-08-10', '2021-08-20', '2021-08-02', '2021-08-10', '2021-08-02', '2021-08-16', '2021-08-15', '2021-08-16', '2021-08-13', '2021-08-02', '2021-08-06', '2021-08-13', '2021-08-15', '2021-08-09', '2021-08-15', '2021-08-19', '2021-08-10', '2021-08-12', '2021-08-13', '2021-08-01', '2021-07-29', '2021-06-30', '2021-08-10', '2021-08-20', '2021-06-17', '2021-08-19', '2021-08-05', '2021-07-20', '2021-08-06', '2021-08-23', '2021-08-05', '2021-08-10', '2021-08-12', '2021-07-30', '2021-07-28', '2021-08-16', '2021-07-28', '2021-08-18', '2021-08-16', '2021-08-09', '2021-08-06', '2021-07-26', '2021-07-27', '2021-08-10', '2021-08-09', '2021-08-11', '2021-07-29', '2021-08-17', '2021-08-03', '2021-08-10', '2021-08-09', '2021-08-20', '2021-08-09', '2021-08-12', '2021-08-17', '2021-07-30', '2021-08-11', '2021-08-19', '2021-08-22', '2021-08-05', '2021-07-13', '2021-07-08', '2021-07-26', '2021-07-29', '2021-07-19', '2021-08-08', '2021-08-04', '2021-07-29', '2021-08-10', '2021-08-16', '2021-08-02', '2021-08-11', '2021-08-17', '2021-08-03', '2021-07-29', '2021-08-13', '2021-08-16', '2021-08-16', '2021-08-02', '2021-08-04', '2021-08-10', '2021-08-06', '2021-08-02', '2021-08-04', '2021-08-18', '2021-07-21', '2021-08-06', '2021-07-31', '2021-08-20', '2021-07-27', '2021-07-28', '2021-08-19', '2021-08-15', '2021-06-30', '2021-08-13', '2021-08-15', '2021-08-04', '2021-08-20', '2021-08-20', '2021-08-18', '2021-08-10', '2021-07-14', '2021-08-12', '2021-08-10', '2021-08-19', '2021-08-05', '2021-08-02', '2021-08-02', '2021-08-19', '2021-08-11', '2021-08-11', '2021-08-13', '2021-08-21', '2021-07-26', '2021-08-02', '2021-08-05', '2021-08-04', '2021-07-29', '2021-08-05', '2021-08-04', '2021-08-05', '2021-08-21', '2021-08-03', '2021-07-22', '2021-08-16', '2021-08-15', '2021-08-18', '2021-08-02', '2021-08-05', '2021-08-17', '2021-08-09', '2021-07-24', '2021-08-16', '2021-07-01', '2021-08-03', '2021-07-01', '2021-07-01', '2021-07-03', '2021-08-02', '2021-08-19', '2021-08-13', '2021-08-04', '2021-08-13', '2021-08-03', '2021-07-07', '2021-07-26', '2021-08-20', '2021-08-19', '2021-08-18', '2021-07-27', '2021-08-06', '2021-07-29', '2021-08-05', '2021-08-11', '2021-07-26', '2021-08-11', '2021-08-18', '2021-08-11', '2021-07-28', '2021-08-20', '2021-08-06', '2021-08-23', '2021-07-06', '2021-07-01', '2021-08-03', '2021-07-31', '2021-08-03', '2021-08-23', '2021-08-05', '2021-08-10', '2021-08-11', '2021-08-09', '2021-08-17', '2021-08-13', '2021-08-19', '2021-08-05', '2021-07-20', '2021-08-20', '2021-06-30', '2021-08-02', '2021-08-04', '2021-07-01', '2021-08-17', '2021-07-22', '2021-08-11', '2021-07-27', '2021-08-23', '2021-08-18', '2021-08-05', '2021-07-26', '2021-08-18', '2021-08-17', '2021-06-03', '2021-08-09', '2021-08-13', '2021-08-21', '2021-08-18', '2021-08-01', '2021-07-05', '2021-07-29', '2021-08-03', '2021-08-04', '2021-08-16', '2021-08-02', '2021-07-28', '2021-08-17', '2021-07-26', '2021-08-10', '2021-08-19', '2021-08-02', '2021-08-14', '2021-08-23', '2021-07-08', '2021-07-27', '2021-07-26', '2021-08-23', '2021-07-28', '2021-08-17', '2021-07-30', '2021-06-30', '2021-07-15', '2021-08-13', '2021-08-05', '2021-08-11', '2021-08-19', '2021-07-17', '2021-08-06', '2021-08-05', '2021-07-28', '2021-08-10', '2021-08-15', '2021-06-07', '2021-08-23', '2021-07-01', '2021-08-20', '2021-08-07', '2021-07-16', '2021-08-20', '2021-07-31', '2021-08-16', '2021-08-10', '2021-08-06', '2021-08-20', '2021-08-10', '2021-07-01', '2021-08-13', '2021-08-11', '2021-08-10', '2021-08-05', '2021-06-07', '2021-08-11', '2021-08-03', '2021-08-17', '2021-05-18', '2021-08-02', '2021-08-04', '2021-07-02', '2021-07-23', '2021-08-03', '2021-08-03', '2021-07-28', '2021-07-08', '2021-08-06', '2021-08-02', '2021-08-05', '2021-08-10', '2021-07-28', '2021-07-27', '2021-08-21', '2021-08-10', '2021-08-02', '2021-08-02', '2021-08-05', '2021-08-02', '2021-08-03', '2021-07-31', '2021-08-10', '2021-07-28', '2021-08-20', '2021-08-18', '2021-06-07', '2021-08-02', '2021-08-05', '2021-07-01', '2021-08-20', '2021-08-01', '2021-08-18', '2021-08-12', '2021-08-05', '2021-08-09', '2021-08-22', '2021-08-06', '2021-08-06', '2021-07-28', '2021-08-23', '2021-08-22', '2021-07-05', '2021-08-05', '2021-07-21', '2021-07-26', '2021-08-19', '2021-08-18', '2021-08-04', '2021-08-17', '2021-07-29', '2021-08-22', '2021-05-19', '2021-08-19', '2021-08-09', '2021-07-28', '2021-08-16', '2021-07-05', '2021-07-30', '2021-08-13', '2021-07-26', '2021-08-05', '2021-08-09', '2021-08-18', '2021-08-12', '2021-08-15', '2021-08-17', '2021-08-04', '2021-08-09', '2021-06-30', '2021-08-23', '2021-08-03', '2021-08-10', '2021-07-23', '2021-08-11', '2021-08-10', '2021-07-25', '2021-08-16', '2021-08-06', '2021-08-13', '2021-07-27', '2021-08-19', '2021-08-12', '2021-08-06', '2021-08-17', '2021-07-07', '2021-08-23', '2021-08-04', '2021-08-10', '2021-08-18', '2021-07-28', '2021-08-06', '2021-07-27', '2021-08-23', '2021-07-08', '2021-08-23', '2021-08-17', '2021-08-11', '2021-07-27', '2021-08-18', '2021-08-03', '2021-08-23', '2021-07-02', '2021-08-02', '2021-08-16', '2021-08-10', '2021-08-12', '2021-08-03', '2021-08-05', '2021-07-08', '2021-08-06', '2021-07-28', '2021-08-03', '2021-07-25', '2021-07-30', '2021-08-12', '2021-08-05', '2021-07-17', '2021-08-03', '2021-08-05', '2021-08-23', '2021-07-26', '2021-08-06', '2021-07-26', '2021-08-03', '2021-06-26', '2021-08-16', '2021-08-09', '2021-07-26', '2021-08-23', '2021-07-28', '2021-06-16', '2021-07-29', '2021-08-09', '2021-07-26', '2021-08-06', '2021-08-03', '2021-08-18', '2021-08-05', '2021-07-27', '2021-08-22', '2021-07-27', '2021-08-17', '2021-08-18', '2021-08-10', '2021-08-04', '2021-08-22', '2021-08-11', '2021-07-28', '2021-08-04', '2021-07-09', '2021-07-28', '2021-08-16', '2021-07-28', '2021-07-27', '2021-07-26', '2021-07-28', '2021-07-17', '2021-08-04', '2021-08-10', '2021-08-09', '2021-08-02', '2021-08-10', '2021-08-12', '2021-08-02', '2021-08-10', '2021-08-02', '2021-08-10', '2021-07-19', '2021-07-25', '2021-08-01', '2021-08-11', '2021-08-03', '2021-08-02', '2021-08-06', '2021-08-05', '2021-08-06', '2021-08-19', '2021-08-04', '2021-07-28', '2021-08-12', '2021-07-26', '2021-08-02', '2021-08-23', '2021-07-14', '2021-08-06', '2021-07-06', '2021-08-17', '2021-08-02', '2021-07-26', '2021-08-13', '2021-08-17', '2021-08-03', '2021-08-06', '2021-07-26', '2021-07-19', '2021-08-02', '2021-08-04', '2021-08-05', '2021-07-29', '2021-08-02', '2021-07-28', '2021-08-12', '2021-07-28', '2021-07-29', '2021-08-17', '2021-07-27', '2021-08-06', '2021-08-02', '2021-08-07', '2021-07-27', '2021-07-28', '2021-08-12', '2021-08-17', '2021-07-02', '2021-08-02', '2021-07-31', '2021-08-18', '2021-08-16', '2021-07-29', '2021-07-28', '2021-08-03', '2021-08-21', '2021-08-05', '2021-08-12', '2021-08-08', '2021-07-26', '2021-08-20', '2021-08-06', '2021-08-16', '2021-07-29', '2021-08-05', '2021-08-05', '2021-07-26', '2021-08-22', '2021-08-23', '2021-07-29', '2021-08-13', '2021-06-29', '2021-08-18', '2021-07-28', '2021-08-23', '2021-08-10', '2021-08-07', '2021-08-12', '2021-08-03', '2021-08-11', '2021-08-03', '2021-07-18', '2021-08-23', '2021-08-23', '2021-08-11', '2021-08-16', '2021-07-17', '2021-08-12', '2021-08-18', '2021-08-13', '2021-07-29', '2021-07-26', '2021-08-12', '2021-08-18', '2021-06-02', '2021-07-29', '2021-08-06', '2021-08-09', '2021-07-28', '2021-08-16', '2021-08-06', '2021-07-30', '2021-07-26', '2021-08-18', '2021-07-27', '2021-07-26', '2021-07-30', '2021-07-17', '2021-07-17', '2021-07-30', '2021-08-23', '2021-08-20', '2021-08-18', '2021-08-23', '2021-07-27', '2021-07-17', '2021-08-23', '2021-07-28', '2021-08-18', '2021-08-10', '2021-07-29', '2021-07-22', '2021-08-20', '2021-08-13', '2021-08-03', '2021-08-03', '2021-08-13', '2021-08-20', '2021-08-13', '2021-08-13', '2021-08-13', '2021-07-25', '2021-08-13', '2021-07-28', '2021-08-10', '2021-08-06', '2021-07-30', '2021-08-11', '2021-07-17', '2021-07-01', '2021-08-11', '2021-08-19', '2021-08-06', '2021-08-23', '2021-08-16', '2021-07-28', '2021-08-23', '2021-08-05', '2021-08-04', '2021-08-03', '2021-07-03', '2021-08-13', '2021-07-03', '2021-08-01', '2021-08-20', '2021-08-22', '2021-08-18', '2021-07-04', '2021-08-20', '2021-08-03', '2021-07-11', '2021-08-06', '2021-08-23', '2021-08-23', '2021-08-17', '2021-08-07', '2021-07-17', '2021-07-04', '2021-07-04', '2021-08-03', '2021-08-11', '2021-07-04', '2021-07-28', '2021-08-23', '2021-07-25', '2021-08-19', '2021-07-01', '2021-08-23', '2021-08-18', '2021-08-19', '2021-08-18', '2021-08-19', '2021-08-06', '2021-07-27', '2021-08-02', '2021-08-23', '2021-08-23', '2021-07-01', '2021-08-18', '2021-08-19', '2021-08-02', '2021-08-23', '2021-08-02', '2021-08-18', '2021-08-23', '2021-08-18', '2021-08-05', '2021-08-18', '2021-08-17', '2021-08-09', '2021-08-18', '2021-08-18', '2021-08-18', '2021-08-18', '2021-08-13', '2021-08-02', '2021-08-02', '2021-08-13', '2021-08-02', '2021-08-09', '2021-08-05', '2021-08-22', '2021-08-18', '2021-08-04', '2021-08-18']\n",
      "791\n"
     ]
    }
   ],
   "source": [
    "#Date\n",
    "date = [] \n",
    "for job in jobs:\n",
    "    date0 = job.find_element_by_css_selector('div>div>time').get_attribute('datetime')\n",
    "    date.append(date0)\n",
    "    \n",
    "print(date)\n",
    "print(len(date))"
   ]
  },
  {
   "cell_type": "code",
   "execution_count": 21,
   "metadata": {},
   "outputs": [],
   "source": [
    "jobs_in_lebanon_23_08_2021 = pd.DataFrame({\n",
    "'Job Title': job_title,\n",
    "'Company': comp_name,\n",
    "'Location': location_name,\n",
    "'Date': date,\n",
    "})"
   ]
  },
  {
   "cell_type": "code",
   "execution_count": 23,
   "metadata": {},
   "outputs": [
    {
     "data": {
      "text/html": [
       "<div>\n",
       "<style scoped>\n",
       "    .dataframe tbody tr th:only-of-type {\n",
       "        vertical-align: middle;\n",
       "    }\n",
       "\n",
       "    .dataframe tbody tr th {\n",
       "        vertical-align: top;\n",
       "    }\n",
       "\n",
       "    .dataframe thead th {\n",
       "        text-align: right;\n",
       "    }\n",
       "</style>\n",
       "<table border=\"1\" class=\"dataframe\">\n",
       "  <thead>\n",
       "    <tr style=\"text-align: right;\">\n",
       "      <th></th>\n",
       "      <th>Job Title</th>\n",
       "      <th>Company</th>\n",
       "      <th>Location</th>\n",
       "      <th>Date</th>\n",
       "    </tr>\n",
       "  </thead>\n",
       "  <tbody>\n",
       "    <tr>\n",
       "      <th>0</th>\n",
       "      <td>Managing Director</td>\n",
       "      <td>Shabab Lab</td>\n",
       "      <td>Beirut, Lebanon</td>\n",
       "      <td>2021-08-23</td>\n",
       "    </tr>\n",
       "    <tr>\n",
       "      <th>1</th>\n",
       "      <td>Customer Service Agent</td>\n",
       "      <td>NokNok</td>\n",
       "      <td>Beirut, Lebanon</td>\n",
       "      <td>2021-08-23</td>\n",
       "    </tr>\n",
       "    <tr>\n",
       "      <th>2</th>\n",
       "      <td>Production Supervisor</td>\n",
       "      <td>PawPots</td>\n",
       "      <td>Beirut, Lebanon</td>\n",
       "      <td>2021-08-23</td>\n",
       "    </tr>\n",
       "    <tr>\n",
       "      <th>3</th>\n",
       "      <td>Warehouse Controller</td>\n",
       "      <td>NokNok</td>\n",
       "      <td>Beirut, Lebanon</td>\n",
       "      <td>2021-08-23</td>\n",
       "    </tr>\n",
       "    <tr>\n",
       "      <th>4</th>\n",
       "      <td>Dashboard Supervisor</td>\n",
       "      <td>CAFU</td>\n",
       "      <td>Beirut, Lebanon</td>\n",
       "      <td>2021-08-23</td>\n",
       "    </tr>\n",
       "    <tr>\n",
       "      <th>5</th>\n",
       "      <td>Africa Based - Commercial Manager</td>\n",
       "      <td>EDITEC</td>\n",
       "      <td>Beirut, Beirut, Lebanon</td>\n",
       "      <td>2021-08-23</td>\n",
       "    </tr>\n",
       "    <tr>\n",
       "      <th>6</th>\n",
       "      <td>Sales Executive</td>\n",
       "      <td>Confidential</td>\n",
       "      <td>Beirut, Lebanon</td>\n",
       "      <td>2021-08-23</td>\n",
       "    </tr>\n",
       "    <tr>\n",
       "      <th>7</th>\n",
       "      <td>English-Arabic Translator</td>\n",
       "      <td>TheSoul Publishing</td>\n",
       "      <td>Beirut, Lebanon</td>\n",
       "      <td>2021-08-23</td>\n",
       "    </tr>\n",
       "    <tr>\n",
       "      <th>8</th>\n",
       "      <td>Sales Associate</td>\n",
       "      <td>Toumajean Couture</td>\n",
       "      <td>Beirut, Lebanon</td>\n",
       "      <td>2021-08-23</td>\n",
       "    </tr>\n",
       "    <tr>\n",
       "      <th>9</th>\n",
       "      <td>Call Center Representative</td>\n",
       "      <td>Cedarcom - Mobi</td>\n",
       "      <td>Beirut, Beirut, Lebanon</td>\n",
       "      <td>2021-08-23</td>\n",
       "    </tr>\n",
       "    <tr>\n",
       "      <th>10</th>\n",
       "      <td>Arabic Writer - Content on Arab Youtubers</td>\n",
       "      <td>Studio Al Fankoosh</td>\n",
       "      <td>Beirut, Beirut, Lebanon</td>\n",
       "      <td>2021-08-23</td>\n",
       "    </tr>\n",
       "    <tr>\n",
       "      <th>11</th>\n",
       "      <td>Content Strategist</td>\n",
       "      <td>Confidential</td>\n",
       "      <td>Sinn El Fil, Mount Lebanon, Lebanon</td>\n",
       "      <td>2021-08-23</td>\n",
       "    </tr>\n",
       "    <tr>\n",
       "      <th>12</th>\n",
       "      <td>Marketing Executive</td>\n",
       "      <td>EMC- Elie Melhem Clinics</td>\n",
       "      <td>Sinn El Fil, Mount Lebanon, Lebanon</td>\n",
       "      <td>2021-08-23</td>\n",
       "    </tr>\n",
       "    <tr>\n",
       "      <th>13</th>\n",
       "      <td>Information Technology Support Specialist</td>\n",
       "      <td>Broadnet Technologies</td>\n",
       "      <td>Beirut, Lebanon</td>\n",
       "      <td>2021-08-23</td>\n",
       "    </tr>\n",
       "    <tr>\n",
       "      <th>14</th>\n",
       "      <td>Community Manager</td>\n",
       "      <td>Gabriel Bocti s.a.l</td>\n",
       "      <td>Beirut, Beirut, Lebanon</td>\n",
       "      <td>2021-08-23</td>\n",
       "    </tr>\n",
       "    <tr>\n",
       "      <th>15</th>\n",
       "      <td>Marketing Manager</td>\n",
       "      <td>Funding Souq | فندينق سوق</td>\n",
       "      <td>Beirut, Lebanon</td>\n",
       "      <td>2021-08-23</td>\n",
       "    </tr>\n",
       "    <tr>\n",
       "      <th>16</th>\n",
       "      <td>Social Media Executive</td>\n",
       "      <td>Anghami</td>\n",
       "      <td>Beirut, Lebanon</td>\n",
       "      <td>2021-08-23</td>\n",
       "    </tr>\n",
       "    <tr>\n",
       "      <th>17</th>\n",
       "      <td>Operations Executive - E-commerce</td>\n",
       "      <td>EMPG</td>\n",
       "      <td>Beirut, Beirut, Lebanon</td>\n",
       "      <td>2021-08-19</td>\n",
       "    </tr>\n",
       "    <tr>\n",
       "      <th>18</th>\n",
       "      <td>Director General</td>\n",
       "      <td>St.John technical institute</td>\n",
       "      <td>Zgharta, North, Lebanon</td>\n",
       "      <td>2021-08-03</td>\n",
       "    </tr>\n",
       "    <tr>\n",
       "      <th>19</th>\n",
       "      <td>Medical Sales Representative</td>\n",
       "      <td>Catafago &amp; Co.</td>\n",
       "      <td>Beirut, Lebanon</td>\n",
       "      <td>2021-08-23</td>\n",
       "    </tr>\n",
       "  </tbody>\n",
       "</table>\n",
       "</div>"
      ],
      "text/plain": [
       "                                    Job Title                      Company  \\\n",
       "0                           Managing Director                   Shabab Lab   \n",
       "1                      Customer Service Agent                       NokNok   \n",
       "2                       Production Supervisor                      PawPots   \n",
       "3                        Warehouse Controller                       NokNok   \n",
       "4                        Dashboard Supervisor                         CAFU   \n",
       "5           Africa Based - Commercial Manager                       EDITEC   \n",
       "6                             Sales Executive                 Confidential   \n",
       "7                   English-Arabic Translator           TheSoul Publishing   \n",
       "8                             Sales Associate            Toumajean Couture   \n",
       "9                  Call Center Representative              Cedarcom - Mobi   \n",
       "10  Arabic Writer - Content on Arab Youtubers           Studio Al Fankoosh   \n",
       "11                         Content Strategist                 Confidential   \n",
       "12                        Marketing Executive     EMC- Elie Melhem Clinics   \n",
       "13  Information Technology Support Specialist        Broadnet Technologies   \n",
       "14                          Community Manager          Gabriel Bocti s.a.l   \n",
       "15                          Marketing Manager    Funding Souq | فندينق سوق   \n",
       "16                     Social Media Executive                      Anghami   \n",
       "17          Operations Executive - E-commerce                         EMPG   \n",
       "18                           Director General  St.John technical institute   \n",
       "19               Medical Sales Representative               Catafago & Co.   \n",
       "\n",
       "                               Location        Date  \n",
       "0                       Beirut, Lebanon  2021-08-23  \n",
       "1                       Beirut, Lebanon  2021-08-23  \n",
       "2                       Beirut, Lebanon  2021-08-23  \n",
       "3                       Beirut, Lebanon  2021-08-23  \n",
       "4                       Beirut, Lebanon  2021-08-23  \n",
       "5               Beirut, Beirut, Lebanon  2021-08-23  \n",
       "6                       Beirut, Lebanon  2021-08-23  \n",
       "7                       Beirut, Lebanon  2021-08-23  \n",
       "8                       Beirut, Lebanon  2021-08-23  \n",
       "9               Beirut, Beirut, Lebanon  2021-08-23  \n",
       "10              Beirut, Beirut, Lebanon  2021-08-23  \n",
       "11  Sinn El Fil, Mount Lebanon, Lebanon  2021-08-23  \n",
       "12  Sinn El Fil, Mount Lebanon, Lebanon  2021-08-23  \n",
       "13                      Beirut, Lebanon  2021-08-23  \n",
       "14              Beirut, Beirut, Lebanon  2021-08-23  \n",
       "15                      Beirut, Lebanon  2021-08-23  \n",
       "16                      Beirut, Lebanon  2021-08-23  \n",
       "17              Beirut, Beirut, Lebanon  2021-08-19  \n",
       "18              Zgharta, North, Lebanon  2021-08-03  \n",
       "19                      Beirut, Lebanon  2021-08-23  "
      ]
     },
     "execution_count": 23,
     "metadata": {},
     "output_type": "execute_result"
    }
   ],
   "source": [
    "jobs_in_lebanon_23_08_2021.head(20)"
   ]
  },
  {
   "cell_type": "markdown",
   "metadata": {},
   "source": [
    "# Create a new column that groups similar job positions together"
   ]
  },
  {
   "cell_type": "markdown",
   "metadata": {},
   "source": [
    "For example, this column will assign \"graphic designer\" to \"uixi graphic designer\", \"graphic designer adobe\"... "
   ]
  },
  {
   "cell_type": "code",
   "execution_count": 209,
   "metadata": {},
   "outputs": [],
   "source": [
    "import pandas as pd\n",
    "import numpy as np\n",
    "import plotly.graph_objects as go\n",
    "import plotly.offline as py\n"
   ]
  },
  {
   "cell_type": "code",
   "execution_count": 203,
   "metadata": {},
   "outputs": [
    {
     "data": {
      "text/html": [
       "<div>\n",
       "<style scoped>\n",
       "    .dataframe tbody tr th:only-of-type {\n",
       "        vertical-align: middle;\n",
       "    }\n",
       "\n",
       "    .dataframe tbody tr th {\n",
       "        vertical-align: top;\n",
       "    }\n",
       "\n",
       "    .dataframe thead th {\n",
       "        text-align: right;\n",
       "    }\n",
       "</style>\n",
       "<table border=\"1\" class=\"dataframe\">\n",
       "  <thead>\n",
       "    <tr style=\"text-align: right;\">\n",
       "      <th></th>\n",
       "      <th>Job Title</th>\n",
       "      <th>Company</th>\n",
       "      <th>Location</th>\n",
       "      <th>Date</th>\n",
       "      <th>Month</th>\n",
       "      <th>Count</th>\n",
       "      <th>Category</th>\n",
       "    </tr>\n",
       "  </thead>\n",
       "  <tbody>\n",
       "    <tr>\n",
       "      <th>0</th>\n",
       "      <td>Net Full Stack Engineer</td>\n",
       "      <td>Microtech Solutions S.A.L.</td>\n",
       "      <td>Beirut, Beirut, Lebanon</td>\n",
       "      <td>8/3/21</td>\n",
       "      <td>8</td>\n",
       "      <td>1</td>\n",
       "      <td>Engineer</td>\n",
       "    </tr>\n",
       "    <tr>\n",
       "      <th>1</th>\n",
       "      <td>Human Resources Coordinators Bekaa Bml North S...</td>\n",
       "      <td>Nrc Europe - Norwegian Refugee Council</td>\n",
       "      <td>Beirut, Beirut, Lebanon</td>\n",
       "      <td>8/20/21</td>\n",
       "      <td>8</td>\n",
       "      <td>1</td>\n",
       "      <td>Human Resource Specialist</td>\n",
       "    </tr>\n",
       "    <tr>\n",
       "      <th>2</th>\n",
       "      <td>Experienced Angular Software Engineer</td>\n",
       "      <td>Rubix - Partner For Digital Business</td>\n",
       "      <td>Lebanon</td>\n",
       "      <td>8/20/21</td>\n",
       "      <td>8</td>\n",
       "      <td>1</td>\n",
       "      <td>Engineer</td>\n",
       "    </tr>\n",
       "    <tr>\n",
       "      <th>3</th>\n",
       "      <td>Experienced Angular Software Engineer</td>\n",
       "      <td>Rubix - Partner For Digital Business</td>\n",
       "      <td>Beirut, Lebanon</td>\n",
       "      <td>8/19/21</td>\n",
       "      <td>8</td>\n",
       "      <td>1</td>\n",
       "      <td>Engineer</td>\n",
       "    </tr>\n",
       "    <tr>\n",
       "      <th>4</th>\n",
       "      <td>Senior Android Developer FullTime</td>\n",
       "      <td>Toptal</td>\n",
       "      <td>Tyre, South, Lebanon</td>\n",
       "      <td>8/18/21</td>\n",
       "      <td>8</td>\n",
       "      <td>1</td>\n",
       "      <td>Developer</td>\n",
       "    </tr>\n",
       "  </tbody>\n",
       "</table>\n",
       "</div>"
      ],
      "text/plain": [
       "                                           Job Title  \\\n",
       "0                            Net Full Stack Engineer   \n",
       "1  Human Resources Coordinators Bekaa Bml North S...   \n",
       "2              Experienced Angular Software Engineer   \n",
       "3              Experienced Angular Software Engineer   \n",
       "4                  Senior Android Developer FullTime   \n",
       "\n",
       "                                  Company                 Location     Date  \\\n",
       "0              Microtech Solutions S.A.L.  Beirut, Beirut, Lebanon   8/3/21   \n",
       "1  Nrc Europe - Norwegian Refugee Council  Beirut, Beirut, Lebanon  8/20/21   \n",
       "2    Rubix - Partner For Digital Business                  Lebanon  8/20/21   \n",
       "3    Rubix - Partner For Digital Business          Beirut, Lebanon  8/19/21   \n",
       "4                                  Toptal     Tyre, South, Lebanon  8/18/21   \n",
       "\n",
       "   Month  Count                   Category  \n",
       "0      8      1                   Engineer  \n",
       "1      8      1  Human Resource Specialist  \n",
       "2      8      1                   Engineer  \n",
       "3      8      1                   Engineer  \n",
       "4      8      1                  Developer  "
      ]
     },
     "execution_count": 203,
     "metadata": {},
     "output_type": "execute_result"
    }
   ],
   "source": [
    "df.head()"
   ]
  },
  {
   "cell_type": "code",
   "execution_count": 204,
   "metadata": {},
   "outputs": [
    {
     "name": "stderr",
     "output_type": "stream",
     "text": [
      "<ipython-input-204-74d6605992c5>:2: FutureWarning:\n",
      "\n",
      "The pandas.np module is deprecated and will be removed from pandas in a future version. Import numpy directly instead\n",
      "\n",
      "<ipython-input-204-74d6605992c5>:3: FutureWarning:\n",
      "\n",
      "The pandas.np module is deprecated and will be removed from pandas in a future version. Import numpy directly instead\n",
      "\n",
      "<ipython-input-204-74d6605992c5>:4: FutureWarning:\n",
      "\n",
      "The pandas.np module is deprecated and will be removed from pandas in a future version. Import numpy directly instead\n",
      "\n",
      "<ipython-input-204-74d6605992c5>:5: FutureWarning:\n",
      "\n",
      "The pandas.np module is deprecated and will be removed from pandas in a future version. Import numpy directly instead\n",
      "\n",
      "<ipython-input-204-74d6605992c5>:6: FutureWarning:\n",
      "\n",
      "The pandas.np module is deprecated and will be removed from pandas in a future version. Import numpy directly instead\n",
      "\n",
      "<ipython-input-204-74d6605992c5>:7: FutureWarning:\n",
      "\n",
      "The pandas.np module is deprecated and will be removed from pandas in a future version. Import numpy directly instead\n",
      "\n",
      "<ipython-input-204-74d6605992c5>:8: FutureWarning:\n",
      "\n",
      "The pandas.np module is deprecated and will be removed from pandas in a future version. Import numpy directly instead\n",
      "\n",
      "<ipython-input-204-74d6605992c5>:9: FutureWarning:\n",
      "\n",
      "The pandas.np module is deprecated and will be removed from pandas in a future version. Import numpy directly instead\n",
      "\n",
      "<ipython-input-204-74d6605992c5>:10: FutureWarning:\n",
      "\n",
      "The pandas.np module is deprecated and will be removed from pandas in a future version. Import numpy directly instead\n",
      "\n",
      "<ipython-input-204-74d6605992c5>:11: FutureWarning:\n",
      "\n",
      "The pandas.np module is deprecated and will be removed from pandas in a future version. Import numpy directly instead\n",
      "\n",
      "<ipython-input-204-74d6605992c5>:12: FutureWarning:\n",
      "\n",
      "The pandas.np module is deprecated and will be removed from pandas in a future version. Import numpy directly instead\n",
      "\n",
      "<ipython-input-204-74d6605992c5>:13: FutureWarning:\n",
      "\n",
      "The pandas.np module is deprecated and will be removed from pandas in a future version. Import numpy directly instead\n",
      "\n",
      "<ipython-input-204-74d6605992c5>:14: FutureWarning:\n",
      "\n",
      "The pandas.np module is deprecated and will be removed from pandas in a future version. Import numpy directly instead\n",
      "\n",
      "<ipython-input-204-74d6605992c5>:15: FutureWarning:\n",
      "\n",
      "The pandas.np module is deprecated and will be removed from pandas in a future version. Import numpy directly instead\n",
      "\n",
      "<ipython-input-204-74d6605992c5>:16: FutureWarning:\n",
      "\n",
      "The pandas.np module is deprecated and will be removed from pandas in a future version. Import numpy directly instead\n",
      "\n",
      "<ipython-input-204-74d6605992c5>:17: FutureWarning:\n",
      "\n",
      "The pandas.np module is deprecated and will be removed from pandas in a future version. Import numpy directly instead\n",
      "\n",
      "<ipython-input-204-74d6605992c5>:18: FutureWarning:\n",
      "\n",
      "The pandas.np module is deprecated and will be removed from pandas in a future version. Import numpy directly instead\n",
      "\n",
      "<ipython-input-204-74d6605992c5>:19: FutureWarning:\n",
      "\n",
      "The pandas.np module is deprecated and will be removed from pandas in a future version. Import numpy directly instead\n",
      "\n",
      "<ipython-input-204-74d6605992c5>:20: FutureWarning:\n",
      "\n",
      "The pandas.np module is deprecated and will be removed from pandas in a future version. Import numpy directly instead\n",
      "\n",
      "<ipython-input-204-74d6605992c5>:21: FutureWarning:\n",
      "\n",
      "The pandas.np module is deprecated and will be removed from pandas in a future version. Import numpy directly instead\n",
      "\n",
      "<ipython-input-204-74d6605992c5>:22: FutureWarning:\n",
      "\n",
      "The pandas.np module is deprecated and will be removed from pandas in a future version. Import numpy directly instead\n",
      "\n",
      "<ipython-input-204-74d6605992c5>:23: FutureWarning:\n",
      "\n",
      "The pandas.np module is deprecated and will be removed from pandas in a future version. Import numpy directly instead\n",
      "\n",
      "<ipython-input-204-74d6605992c5>:24: FutureWarning:\n",
      "\n",
      "The pandas.np module is deprecated and will be removed from pandas in a future version. Import numpy directly instead\n",
      "\n",
      "<ipython-input-204-74d6605992c5>:25: FutureWarning:\n",
      "\n",
      "The pandas.np module is deprecated and will be removed from pandas in a future version. Import numpy directly instead\n",
      "\n",
      "<ipython-input-204-74d6605992c5>:26: FutureWarning:\n",
      "\n",
      "The pandas.np module is deprecated and will be removed from pandas in a future version. Import numpy directly instead\n",
      "\n",
      "<ipython-input-204-74d6605992c5>:27: FutureWarning:\n",
      "\n",
      "The pandas.np module is deprecated and will be removed from pandas in a future version. Import numpy directly instead\n",
      "\n",
      "<ipython-input-204-74d6605992c5>:28: FutureWarning:\n",
      "\n",
      "The pandas.np module is deprecated and will be removed from pandas in a future version. Import numpy directly instead\n",
      "\n",
      "<ipython-input-204-74d6605992c5>:29: FutureWarning:\n",
      "\n",
      "The pandas.np module is deprecated and will be removed from pandas in a future version. Import numpy directly instead\n",
      "\n",
      "<ipython-input-204-74d6605992c5>:30: FutureWarning:\n",
      "\n",
      "The pandas.np module is deprecated and will be removed from pandas in a future version. Import numpy directly instead\n",
      "\n",
      "<ipython-input-204-74d6605992c5>:31: FutureWarning:\n",
      "\n",
      "The pandas.np module is deprecated and will be removed from pandas in a future version. Import numpy directly instead\n",
      "\n",
      "<ipython-input-204-74d6605992c5>:32: FutureWarning:\n",
      "\n",
      "The pandas.np module is deprecated and will be removed from pandas in a future version. Import numpy directly instead\n",
      "\n",
      "<ipython-input-204-74d6605992c5>:33: FutureWarning:\n",
      "\n",
      "The pandas.np module is deprecated and will be removed from pandas in a future version. Import numpy directly instead\n",
      "\n",
      "<ipython-input-204-74d6605992c5>:34: FutureWarning:\n",
      "\n",
      "The pandas.np module is deprecated and will be removed from pandas in a future version. Import numpy directly instead\n",
      "\n",
      "<ipython-input-204-74d6605992c5>:35: FutureWarning:\n",
      "\n",
      "The pandas.np module is deprecated and will be removed from pandas in a future version. Import numpy directly instead\n",
      "\n",
      "<ipython-input-204-74d6605992c5>:36: FutureWarning:\n",
      "\n",
      "The pandas.np module is deprecated and will be removed from pandas in a future version. Import numpy directly instead\n",
      "\n",
      "<ipython-input-204-74d6605992c5>:37: FutureWarning:\n",
      "\n",
      "The pandas.np module is deprecated and will be removed from pandas in a future version. Import numpy directly instead\n",
      "\n",
      "<ipython-input-204-74d6605992c5>:38: FutureWarning:\n",
      "\n",
      "The pandas.np module is deprecated and will be removed from pandas in a future version. Import numpy directly instead\n",
      "\n",
      "<ipython-input-204-74d6605992c5>:39: FutureWarning:\n",
      "\n",
      "The pandas.np module is deprecated and will be removed from pandas in a future version. Import numpy directly instead\n",
      "\n",
      "<ipython-input-204-74d6605992c5>:40: FutureWarning:\n",
      "\n",
      "The pandas.np module is deprecated and will be removed from pandas in a future version. Import numpy directly instead\n",
      "\n",
      "<ipython-input-204-74d6605992c5>:41: FutureWarning:\n",
      "\n",
      "The pandas.np module is deprecated and will be removed from pandas in a future version. Import numpy directly instead\n",
      "\n",
      "<ipython-input-204-74d6605992c5>:42: FutureWarning:\n",
      "\n",
      "The pandas.np module is deprecated and will be removed from pandas in a future version. Import numpy directly instead\n",
      "\n",
      "<ipython-input-204-74d6605992c5>:43: FutureWarning:\n",
      "\n",
      "The pandas.np module is deprecated and will be removed from pandas in a future version. Import numpy directly instead\n",
      "\n",
      "<ipython-input-204-74d6605992c5>:44: FutureWarning:\n",
      "\n",
      "The pandas.np module is deprecated and will be removed from pandas in a future version. Import numpy directly instead\n",
      "\n",
      "<ipython-input-204-74d6605992c5>:45: FutureWarning:\n",
      "\n",
      "The pandas.np module is deprecated and will be removed from pandas in a future version. Import numpy directly instead\n",
      "\n",
      "<ipython-input-204-74d6605992c5>:46: FutureWarning:\n",
      "\n",
      "The pandas.np module is deprecated and will be removed from pandas in a future version. Import numpy directly instead\n",
      "\n",
      "<ipython-input-204-74d6605992c5>:47: FutureWarning:\n",
      "\n",
      "The pandas.np module is deprecated and will be removed from pandas in a future version. Import numpy directly instead\n",
      "\n",
      "<ipython-input-204-74d6605992c5>:48: FutureWarning:\n",
      "\n",
      "The pandas.np module is deprecated and will be removed from pandas in a future version. Import numpy directly instead\n",
      "\n",
      "<ipython-input-204-74d6605992c5>:49: FutureWarning:\n",
      "\n",
      "The pandas.np module is deprecated and will be removed from pandas in a future version. Import numpy directly instead\n",
      "\n",
      "<ipython-input-204-74d6605992c5>:50: FutureWarning:\n",
      "\n",
      "The pandas.np module is deprecated and will be removed from pandas in a future version. Import numpy directly instead\n",
      "\n",
      "<ipython-input-204-74d6605992c5>:51: FutureWarning:\n",
      "\n",
      "The pandas.np module is deprecated and will be removed from pandas in a future version. Import numpy directly instead\n",
      "\n",
      "<ipython-input-204-74d6605992c5>:52: FutureWarning:\n",
      "\n",
      "The pandas.np module is deprecated and will be removed from pandas in a future version. Import numpy directly instead\n",
      "\n",
      "<ipython-input-204-74d6605992c5>:53: FutureWarning:\n",
      "\n",
      "The pandas.np module is deprecated and will be removed from pandas in a future version. Import numpy directly instead\n",
      "\n",
      "<ipython-input-204-74d6605992c5>:54: FutureWarning:\n",
      "\n",
      "The pandas.np module is deprecated and will be removed from pandas in a future version. Import numpy directly instead\n",
      "\n",
      "<ipython-input-204-74d6605992c5>:55: FutureWarning:\n",
      "\n",
      "The pandas.np module is deprecated and will be removed from pandas in a future version. Import numpy directly instead\n",
      "\n",
      "<ipython-input-204-74d6605992c5>:56: FutureWarning:\n",
      "\n",
      "The pandas.np module is deprecated and will be removed from pandas in a future version. Import numpy directly instead\n",
      "\n",
      "<ipython-input-204-74d6605992c5>:57: FutureWarning:\n",
      "\n",
      "The pandas.np module is deprecated and will be removed from pandas in a future version. Import numpy directly instead\n",
      "\n",
      "<ipython-input-204-74d6605992c5>:58: FutureWarning:\n",
      "\n",
      "The pandas.np module is deprecated and will be removed from pandas in a future version. Import numpy directly instead\n",
      "\n",
      "<ipython-input-204-74d6605992c5>:59: FutureWarning:\n",
      "\n",
      "The pandas.np module is deprecated and will be removed from pandas in a future version. Import numpy directly instead\n",
      "\n",
      "<ipython-input-204-74d6605992c5>:60: FutureWarning:\n",
      "\n",
      "The pandas.np module is deprecated and will be removed from pandas in a future version. Import numpy directly instead\n",
      "\n",
      "<ipython-input-204-74d6605992c5>:61: FutureWarning:\n",
      "\n",
      "The pandas.np module is deprecated and will be removed from pandas in a future version. Import numpy directly instead\n",
      "\n",
      "<ipython-input-204-74d6605992c5>:62: FutureWarning:\n",
      "\n",
      "The pandas.np module is deprecated and will be removed from pandas in a future version. Import numpy directly instead\n",
      "\n",
      "<ipython-input-204-74d6605992c5>:63: FutureWarning:\n",
      "\n",
      "The pandas.np module is deprecated and will be removed from pandas in a future version. Import numpy directly instead\n",
      "\n",
      "<ipython-input-204-74d6605992c5>:64: FutureWarning:\n",
      "\n",
      "The pandas.np module is deprecated and will be removed from pandas in a future version. Import numpy directly instead\n",
      "\n",
      "<ipython-input-204-74d6605992c5>:65: FutureWarning:\n",
      "\n",
      "The pandas.np module is deprecated and will be removed from pandas in a future version. Import numpy directly instead\n",
      "\n",
      "<ipython-input-204-74d6605992c5>:66: FutureWarning:\n",
      "\n",
      "The pandas.np module is deprecated and will be removed from pandas in a future version. Import numpy directly instead\n",
      "\n",
      "<ipython-input-204-74d6605992c5>:67: FutureWarning:\n",
      "\n",
      "The pandas.np module is deprecated and will be removed from pandas in a future version. Import numpy directly instead\n",
      "\n",
      "<ipython-input-204-74d6605992c5>:68: FutureWarning:\n",
      "\n",
      "The pandas.np module is deprecated and will be removed from pandas in a future version. Import numpy directly instead\n",
      "\n",
      "<ipython-input-204-74d6605992c5>:69: FutureWarning:\n",
      "\n",
      "The pandas.np module is deprecated and will be removed from pandas in a future version. Import numpy directly instead\n",
      "\n",
      "<ipython-input-204-74d6605992c5>:70: FutureWarning:\n",
      "\n",
      "The pandas.np module is deprecated and will be removed from pandas in a future version. Import numpy directly instead\n",
      "\n",
      "<ipython-input-204-74d6605992c5>:71: FutureWarning:\n",
      "\n",
      "The pandas.np module is deprecated and will be removed from pandas in a future version. Import numpy directly instead\n",
      "\n",
      "<ipython-input-204-74d6605992c5>:72: FutureWarning:\n",
      "\n",
      "The pandas.np module is deprecated and will be removed from pandas in a future version. Import numpy directly instead\n",
      "\n",
      "<ipython-input-204-74d6605992c5>:73: FutureWarning:\n",
      "\n",
      "The pandas.np module is deprecated and will be removed from pandas in a future version. Import numpy directly instead\n",
      "\n",
      "<ipython-input-204-74d6605992c5>:74: FutureWarning:\n",
      "\n",
      "The pandas.np module is deprecated and will be removed from pandas in a future version. Import numpy directly instead\n",
      "\n",
      "<ipython-input-204-74d6605992c5>:75: FutureWarning:\n",
      "\n",
      "The pandas.np module is deprecated and will be removed from pandas in a future version. Import numpy directly instead\n",
      "\n",
      "<ipython-input-204-74d6605992c5>:76: FutureWarning:\n",
      "\n",
      "The pandas.np module is deprecated and will be removed from pandas in a future version. Import numpy directly instead\n",
      "\n",
      "<ipython-input-204-74d6605992c5>:77: FutureWarning:\n",
      "\n",
      "The pandas.np module is deprecated and will be removed from pandas in a future version. Import numpy directly instead\n",
      "\n",
      "<ipython-input-204-74d6605992c5>:78: FutureWarning:\n",
      "\n",
      "The pandas.np module is deprecated and will be removed from pandas in a future version. Import numpy directly instead\n",
      "\n",
      "<ipython-input-204-74d6605992c5>:79: FutureWarning:\n",
      "\n",
      "The pandas.np module is deprecated and will be removed from pandas in a future version. Import numpy directly instead\n",
      "\n"
     ]
    }
   ],
   "source": [
    "temp= df_new['Job Title'].astype(str)\n",
    "df_new['Category'] = pd.np.where(temp.str.contains(\"Graphic Designer\"), \"Designer\", \n",
    "                 pd.np.where(temp.str.contains(\"Financ\"), \"Finance Specialist\",\n",
    "                 pd.np.where(temp.str.contains(\"Art\"), \"Art\", \n",
    "                 pd.np.where(temp.str.contains(\"Market\"), \"Marketer\", \n",
    "                 pd.np.where(temp.str.contains(\"Teacher\"), \"Teacher\",\n",
    "                 pd.np.where(temp.str.contains(\"Sales\"), \"Sales Person\",\n",
    "                 pd.np.where(temp.str.contains(\"Social Media\"), \"Social Media\",\n",
    "                 pd.np.where(temp.str.contains(\"Develop\"), \"Developer\",\n",
    "                 pd.np.where(temp.str.contains(\"Account\"), \"Accountant\",\n",
    "                 pd.np.where(temp.str.contains(\"Therap\"), \"Therapist\",\n",
    "                 pd.np.where(temp.str.contains(\"Analy\"), \"Analyst\",            \n",
    "                 pd.np.where(temp.str.contains(\"Manage\"), \"Manager\",            \n",
    "                 pd.np.where(temp.str.contains(\"Officer\"), \"Officer\",            \n",
    "                 pd.np.where(temp.str.contains(\"Associate\"), \"Associate\",            \n",
    "                 pd.np.where(temp.str.contains(\"Waiter\"), \"Waiter\",\n",
    "                 pd.np.where(temp.str.contains(\"Chef\"), \"Chef\",            \n",
    "                 pd.np.where(temp.str.contains(\"Ai\"), \"Analyst\",            \n",
    "                 pd.np.where(temp.str.contains(\"AI\"), \"Analyst\",            \n",
    "                 pd.np.where(temp.str.contains(\"Videographer\"), \"Cinema\",            \n",
    "                 pd.np.where(temp.str.contains(\"Agent\"), \"Assistant\",            \n",
    "                 pd.np.where(temp.str.contains(\"Consultant\"), \"Consultant\", \n",
    "                 pd.np.where(temp.str.contains(\"Technician\"), \"Technician\",\n",
    "                 pd.np.where(temp.str.contains(\"Assistant\"), \"Assistant\",            \n",
    "                 pd.np.where(temp.str.contains(\"Operator\"), \"Operator\",            \n",
    "                 pd.np.where(temp.str.contains(\"Copywriter\"), \"Copywriter\",            \n",
    "                 pd.np.where(temp.str.contains(\"Pharm\"), \"Pharmacist\",            \n",
    "                 pd.np.where(temp.str.contains(\"Design\"), \"Designer\",            \n",
    "                 pd.np.where(temp.str.contains(\"Buying\"), \"Sales Person\",\n",
    "                 pd.np.where(temp.str.contains(\"Research\"), \"Researcher\",             \n",
    "                 pd.np.where(temp.str.contains(\"Service\"), \"Services\",             \n",
    "                 pd.np.where(temp.str.contains(\"Data\"), \"Analyst\",             \n",
    "                 pd.np.where(temp.str.contains(\"Dermatologist\"), \"Medical Doctor\",\n",
    "                 pd.np.where(temp.str.contains(\"Trade\"), \"Finance Specialist\",            \n",
    "                 pd.np.where(temp.str.contains(\"Education\"), \"Teacher\",            \n",
    "                 pd.np.where(temp.str.contains(\"Technology\"), \"Technology Specialist\",            \n",
    "                 pd.np.where(temp.str.contains(\"Dermatologist\"), \"Medical Doctor\",            \n",
    "                 pd.np.where(temp.str.contains(\"Php\"), \"Pharmacist\",            \n",
    "                 pd.np.where(temp.str.contains(\"Promotion\"), \"Sales Person\",            \n",
    "                 pd.np.where(temp.str.contains(\"Tutor\"), \"Teacher\",            \n",
    "                 pd.np.where(temp.str.contains(\"Executive\"), \"Associate\",            \n",
    "                 pd.np.where(temp.str.contains(\"Associate\"), \"Associate\",            \n",
    "                 pd.np.where(temp.str.contains(\"Instructor\"), \"Teacher\",            \n",
    "                 pd.np.where(temp.str.contains(\"Website Content Writer\"), \"Website Content Writer\",             \n",
    "                 pd.np.where(temp.str.contains(\"Art\"), \"Artist\",            \n",
    "                 pd.np.where(temp.str.contains(\"Hotel\"), \"Hospitality\",            \n",
    "                 pd.np.where(temp.str.contains(\"Human Resource\"), \"Human Resource Specialist\",            \n",
    "                 pd.np.where(temp.str.contains(\"it \"), \"Technology Specialist\",\\\n",
    "                 pd.np.where(temp.str.contains(\"Econ\"), \"Economist\",            \n",
    "                 pd.np.where(temp.str.contains(\"Team Lead\"), \"Manager\",            \n",
    "                 pd.np.where(temp.str.contains(\"Retail\"), \"Sales Person\",             \n",
    "                 pd.np.where(temp.str.contains(\"Auditor\"), \"Accountant\",             \n",
    "                 pd.np.where(temp.str.contains(\"Coordinator\"), \"Coordinator\",             \n",
    "                 pd.np.where(temp.str.contains(\"Director\"), \"Cinema\",             \n",
    "                 pd.np.where(temp.str.contains(\"Auditor\"), \"Accountant\",             \n",
    "                 pd.np.where(temp.str.contains(\"Advisor\"), \"Advisor\",             \n",
    "                 pd.np.where(temp.str.contains(\"Supervisor\"), \"advisor\",\n",
    "                 pd.np.where(temp.str.contains(\"Animator\"), \"Animator\",            \n",
    "                 pd.np.where(temp.str.contains(\"Business\"), \"Business Specialist\",            \n",
    "                 pd.np.where(temp.str.contains(\"Call center\"), \"Call center Representative\",            \n",
    "                 pd.np.where(temp.str.contains(\"Lawyer\"), \"Lawyer\",            \n",
    "                 pd.np.where(temp.str.contains(\"oficer\"), \"Officer\",            \n",
    "                 pd.np.where(temp.str.contains(\"Photographer\"), \"Photographer\",            \n",
    "                 pd.np.where(temp.str.contains(\"Accoun\"), \"Accountant\",            \n",
    "                 pd.np.where(temp.str.contains(\"Asistant\"), \"Assistant\", \n",
    "                 pd.np.where(temp.str.contains(\"Administrator\"), \"Administrator\",            \n",
    "                 pd.np.where(temp.str.contains(\"Advertis\"), \"Advertising Specialist\",            \n",
    "                 pd.np.where(temp.str.contains(\"Editor\"), \"Writer\",            \n",
    "                 pd.np.where(temp.str.contains(\"Writer\"), \"Writer\",            \n",
    "                 pd.np.where(temp.str.contains(\"Computer Science\"), \"Technology Specialist\",            \n",
    "                 pd.np.where(temp.str.contains(\"Asociate\"), \"Associate\",            \n",
    "                 pd.np.where(temp.str.contains(\"Scien\"), \"Scientist\",            \n",
    "                 pd.np.where(temp.str.contains(\"Biolo\"), \"Scientist\",            \n",
    "                 pd.np.where(temp.str.contains(\"Busines\"), \"Business Specialist\",            \n",
    "                 pd.np.where(temp.str.contains(\"Cameraman\"), \"Photographer\",           \n",
    "                 pd.np.where(temp.str.contains(\"Cashier\"), \"Cashier\",            \n",
    "                 pd.np.where(temp.str.contains(\"Clinical\"), \"Clinical Specialist\",            \n",
    "                 pd.np.where(temp.str.contains(\"Communic\"), \"Communication Specialist\",                       \n",
    "                 pd.np.where(temp.str.contains(\"Engine\"), \"Engineer\", \"Other\"))))))))))))))))))))))))))))))))))))))))))))))))))))))))))))))))))))))))))))))\n",
    "           "
   ]
  },
  {
   "cell_type": "code",
   "execution_count": 207,
   "metadata": {},
   "outputs": [
    {
     "data": {
      "text/plain": [
       "Other                        162\n",
       "Manager                      128\n",
       "Developer                    119\n",
       "Sales Person                  75\n",
       "Designer                      73\n",
       "Engineer                      70\n",
       "Analyst                       59\n",
       "Marketer                      57\n",
       "Associate                     40\n",
       "Finance Specialist            35\n",
       "Assistant                     25\n",
       "Consultant                    23\n",
       "Teacher                       21\n",
       "Social Media                  16\n",
       "Officer                       13\n",
       "Chef                          13\n",
       "Writer                        12\n",
       "Services                      12\n",
       "Accountant                    11\n",
       "Art                           11\n",
       "advisor                        9\n",
       "Copywriter                     9\n",
       "Technician                     9\n",
       "Technology Specialist          8\n",
       "Advisor                        7\n",
       "Cinema                         7\n",
       "Human Resource Specialist      7\n",
       "Business Specialist            6\n",
       "Therapist                      5\n",
       "Animator                       5\n",
       "Pharmacist                     5\n",
       "Communication Specialist       4\n",
       "Researcher                     4\n",
       "Coordinator                    4\n",
       "Waiter                         3\n",
       "Administrator                  3\n",
       "Scientist                      2\n",
       "Operator                       2\n",
       "Medical Doctor                 2\n",
       "Cashier                        2\n",
       "Photographer                   2\n",
       "Hospitality                    1\n",
       "Website Content Writer         1\n",
       "Economist                      1\n",
       "Advertising Specialist         1\n",
       "Lawyer                         1\n",
       "Name: Category, dtype: int64"
      ]
     },
     "execution_count": 207,
     "metadata": {},
     "output_type": "execute_result"
    }
   ],
   "source": [
    "df_new['Category'].value_counts()"
   ]
  },
  {
   "cell_type": "code",
   "execution_count": 208,
   "metadata": {},
   "outputs": [
    {
     "data": {
      "application/vnd.plotly.v1+json": {
       "config": {
        "linkText": "Export to plot.ly",
        "plotlyServerURL": "https://plot.ly",
        "showLink": false
       },
       "data": [
        {
         "type": "bar",
         "x": [
          "Other",
          "Manager",
          "Developer",
          "Sales Person",
          "Designer",
          "Engineer",
          "Analyst",
          "Marketer",
          "Associate",
          "Finance Specialist",
          "Assistant",
          "Consultant",
          "Teacher",
          "Social Media",
          "Accountant",
          "Chef",
          "Writer",
          "Officer",
          "Services",
          "Art",
          "Technician",
          "Technology Specialist",
          "advisor",
          "Copywriter",
          "Advisor",
          "Human Resource Specialist",
          "Cinema",
          "Business Specialist",
          "Therapist",
          "Animator",
          "Pharmacist",
          "Researcher",
          "Coordinator",
          "Communication Specialist",
          "Waiter",
          "Cashier",
          "Administrator",
          "Operator",
          "Medical Doctor",
          "Scientist",
          "Photographer",
          "Lawyer",
          "Website Content Writer",
          "Advertising Specialist",
          "Hospitality",
          "Economist",
          "Clinical Specialist"
         ],
         "y": [
          171,
          132,
          124,
          90,
          76,
          74,
          62,
          59,
          42,
          37,
          31,
          24,
          21,
          16,
          15,
          13,
          13,
          13,
          13,
          12,
          10,
          9,
          9,
          9,
          8,
          8,
          8,
          6,
          5,
          5,
          5,
          5,
          5,
          4,
          3,
          3,
          3,
          2,
          2,
          2,
          2,
          1,
          1,
          1,
          1,
          1,
          1
         ]
        }
       ],
       "layout": {
        "template": {
         "data": {
          "bar": [
           {
            "error_x": {
             "color": "#2a3f5f"
            },
            "error_y": {
             "color": "#2a3f5f"
            },
            "marker": {
             "line": {
              "color": "#E5ECF6",
              "width": 0.5
             }
            },
            "type": "bar"
           }
          ],
          "barpolar": [
           {
            "marker": {
             "line": {
              "color": "#E5ECF6",
              "width": 0.5
             }
            },
            "type": "barpolar"
           }
          ],
          "carpet": [
           {
            "aaxis": {
             "endlinecolor": "#2a3f5f",
             "gridcolor": "white",
             "linecolor": "white",
             "minorgridcolor": "white",
             "startlinecolor": "#2a3f5f"
            },
            "baxis": {
             "endlinecolor": "#2a3f5f",
             "gridcolor": "white",
             "linecolor": "white",
             "minorgridcolor": "white",
             "startlinecolor": "#2a3f5f"
            },
            "type": "carpet"
           }
          ],
          "choropleth": [
           {
            "colorbar": {
             "outlinewidth": 0,
             "ticks": ""
            },
            "type": "choropleth"
           }
          ],
          "contour": [
           {
            "colorbar": {
             "outlinewidth": 0,
             "ticks": ""
            },
            "colorscale": [
             [
              0,
              "#0d0887"
             ],
             [
              0.1111111111111111,
              "#46039f"
             ],
             [
              0.2222222222222222,
              "#7201a8"
             ],
             [
              0.3333333333333333,
              "#9c179e"
             ],
             [
              0.4444444444444444,
              "#bd3786"
             ],
             [
              0.5555555555555556,
              "#d8576b"
             ],
             [
              0.6666666666666666,
              "#ed7953"
             ],
             [
              0.7777777777777778,
              "#fb9f3a"
             ],
             [
              0.8888888888888888,
              "#fdca26"
             ],
             [
              1,
              "#f0f921"
             ]
            ],
            "type": "contour"
           }
          ],
          "contourcarpet": [
           {
            "colorbar": {
             "outlinewidth": 0,
             "ticks": ""
            },
            "type": "contourcarpet"
           }
          ],
          "heatmap": [
           {
            "colorbar": {
             "outlinewidth": 0,
             "ticks": ""
            },
            "colorscale": [
             [
              0,
              "#0d0887"
             ],
             [
              0.1111111111111111,
              "#46039f"
             ],
             [
              0.2222222222222222,
              "#7201a8"
             ],
             [
              0.3333333333333333,
              "#9c179e"
             ],
             [
              0.4444444444444444,
              "#bd3786"
             ],
             [
              0.5555555555555556,
              "#d8576b"
             ],
             [
              0.6666666666666666,
              "#ed7953"
             ],
             [
              0.7777777777777778,
              "#fb9f3a"
             ],
             [
              0.8888888888888888,
              "#fdca26"
             ],
             [
              1,
              "#f0f921"
             ]
            ],
            "type": "heatmap"
           }
          ],
          "heatmapgl": [
           {
            "colorbar": {
             "outlinewidth": 0,
             "ticks": ""
            },
            "colorscale": [
             [
              0,
              "#0d0887"
             ],
             [
              0.1111111111111111,
              "#46039f"
             ],
             [
              0.2222222222222222,
              "#7201a8"
             ],
             [
              0.3333333333333333,
              "#9c179e"
             ],
             [
              0.4444444444444444,
              "#bd3786"
             ],
             [
              0.5555555555555556,
              "#d8576b"
             ],
             [
              0.6666666666666666,
              "#ed7953"
             ],
             [
              0.7777777777777778,
              "#fb9f3a"
             ],
             [
              0.8888888888888888,
              "#fdca26"
             ],
             [
              1,
              "#f0f921"
             ]
            ],
            "type": "heatmapgl"
           }
          ],
          "histogram": [
           {
            "marker": {
             "colorbar": {
              "outlinewidth": 0,
              "ticks": ""
             }
            },
            "type": "histogram"
           }
          ],
          "histogram2d": [
           {
            "colorbar": {
             "outlinewidth": 0,
             "ticks": ""
            },
            "colorscale": [
             [
              0,
              "#0d0887"
             ],
             [
              0.1111111111111111,
              "#46039f"
             ],
             [
              0.2222222222222222,
              "#7201a8"
             ],
             [
              0.3333333333333333,
              "#9c179e"
             ],
             [
              0.4444444444444444,
              "#bd3786"
             ],
             [
              0.5555555555555556,
              "#d8576b"
             ],
             [
              0.6666666666666666,
              "#ed7953"
             ],
             [
              0.7777777777777778,
              "#fb9f3a"
             ],
             [
              0.8888888888888888,
              "#fdca26"
             ],
             [
              1,
              "#f0f921"
             ]
            ],
            "type": "histogram2d"
           }
          ],
          "histogram2dcontour": [
           {
            "colorbar": {
             "outlinewidth": 0,
             "ticks": ""
            },
            "colorscale": [
             [
              0,
              "#0d0887"
             ],
             [
              0.1111111111111111,
              "#46039f"
             ],
             [
              0.2222222222222222,
              "#7201a8"
             ],
             [
              0.3333333333333333,
              "#9c179e"
             ],
             [
              0.4444444444444444,
              "#bd3786"
             ],
             [
              0.5555555555555556,
              "#d8576b"
             ],
             [
              0.6666666666666666,
              "#ed7953"
             ],
             [
              0.7777777777777778,
              "#fb9f3a"
             ],
             [
              0.8888888888888888,
              "#fdca26"
             ],
             [
              1,
              "#f0f921"
             ]
            ],
            "type": "histogram2dcontour"
           }
          ],
          "mesh3d": [
           {
            "colorbar": {
             "outlinewidth": 0,
             "ticks": ""
            },
            "type": "mesh3d"
           }
          ],
          "parcoords": [
           {
            "line": {
             "colorbar": {
              "outlinewidth": 0,
              "ticks": ""
             }
            },
            "type": "parcoords"
           }
          ],
          "pie": [
           {
            "automargin": true,
            "type": "pie"
           }
          ],
          "scatter": [
           {
            "marker": {
             "colorbar": {
              "outlinewidth": 0,
              "ticks": ""
             }
            },
            "type": "scatter"
           }
          ],
          "scatter3d": [
           {
            "line": {
             "colorbar": {
              "outlinewidth": 0,
              "ticks": ""
             }
            },
            "marker": {
             "colorbar": {
              "outlinewidth": 0,
              "ticks": ""
             }
            },
            "type": "scatter3d"
           }
          ],
          "scattercarpet": [
           {
            "marker": {
             "colorbar": {
              "outlinewidth": 0,
              "ticks": ""
             }
            },
            "type": "scattercarpet"
           }
          ],
          "scattergeo": [
           {
            "marker": {
             "colorbar": {
              "outlinewidth": 0,
              "ticks": ""
             }
            },
            "type": "scattergeo"
           }
          ],
          "scattergl": [
           {
            "marker": {
             "colorbar": {
              "outlinewidth": 0,
              "ticks": ""
             }
            },
            "type": "scattergl"
           }
          ],
          "scattermapbox": [
           {
            "marker": {
             "colorbar": {
              "outlinewidth": 0,
              "ticks": ""
             }
            },
            "type": "scattermapbox"
           }
          ],
          "scatterpolar": [
           {
            "marker": {
             "colorbar": {
              "outlinewidth": 0,
              "ticks": ""
             }
            },
            "type": "scatterpolar"
           }
          ],
          "scatterpolargl": [
           {
            "marker": {
             "colorbar": {
              "outlinewidth": 0,
              "ticks": ""
             }
            },
            "type": "scatterpolargl"
           }
          ],
          "scatterternary": [
           {
            "marker": {
             "colorbar": {
              "outlinewidth": 0,
              "ticks": ""
             }
            },
            "type": "scatterternary"
           }
          ],
          "surface": [
           {
            "colorbar": {
             "outlinewidth": 0,
             "ticks": ""
            },
            "colorscale": [
             [
              0,
              "#0d0887"
             ],
             [
              0.1111111111111111,
              "#46039f"
             ],
             [
              0.2222222222222222,
              "#7201a8"
             ],
             [
              0.3333333333333333,
              "#9c179e"
             ],
             [
              0.4444444444444444,
              "#bd3786"
             ],
             [
              0.5555555555555556,
              "#d8576b"
             ],
             [
              0.6666666666666666,
              "#ed7953"
             ],
             [
              0.7777777777777778,
              "#fb9f3a"
             ],
             [
              0.8888888888888888,
              "#fdca26"
             ],
             [
              1,
              "#f0f921"
             ]
            ],
            "type": "surface"
           }
          ],
          "table": [
           {
            "cells": {
             "fill": {
              "color": "#EBF0F8"
             },
             "line": {
              "color": "white"
             }
            },
            "header": {
             "fill": {
              "color": "#C8D4E3"
             },
             "line": {
              "color": "white"
             }
            },
            "type": "table"
           }
          ]
         },
         "layout": {
          "annotationdefaults": {
           "arrowcolor": "#2a3f5f",
           "arrowhead": 0,
           "arrowwidth": 1
          },
          "autotypenumbers": "strict",
          "coloraxis": {
           "colorbar": {
            "outlinewidth": 0,
            "ticks": ""
           }
          },
          "colorscale": {
           "diverging": [
            [
             0,
             "#8e0152"
            ],
            [
             0.1,
             "#c51b7d"
            ],
            [
             0.2,
             "#de77ae"
            ],
            [
             0.3,
             "#f1b6da"
            ],
            [
             0.4,
             "#fde0ef"
            ],
            [
             0.5,
             "#f7f7f7"
            ],
            [
             0.6,
             "#e6f5d0"
            ],
            [
             0.7,
             "#b8e186"
            ],
            [
             0.8,
             "#7fbc41"
            ],
            [
             0.9,
             "#4d9221"
            ],
            [
             1,
             "#276419"
            ]
           ],
           "sequential": [
            [
             0,
             "#0d0887"
            ],
            [
             0.1111111111111111,
             "#46039f"
            ],
            [
             0.2222222222222222,
             "#7201a8"
            ],
            [
             0.3333333333333333,
             "#9c179e"
            ],
            [
             0.4444444444444444,
             "#bd3786"
            ],
            [
             0.5555555555555556,
             "#d8576b"
            ],
            [
             0.6666666666666666,
             "#ed7953"
            ],
            [
             0.7777777777777778,
             "#fb9f3a"
            ],
            [
             0.8888888888888888,
             "#fdca26"
            ],
            [
             1,
             "#f0f921"
            ]
           ],
           "sequentialminus": [
            [
             0,
             "#0d0887"
            ],
            [
             0.1111111111111111,
             "#46039f"
            ],
            [
             0.2222222222222222,
             "#7201a8"
            ],
            [
             0.3333333333333333,
             "#9c179e"
            ],
            [
             0.4444444444444444,
             "#bd3786"
            ],
            [
             0.5555555555555556,
             "#d8576b"
            ],
            [
             0.6666666666666666,
             "#ed7953"
            ],
            [
             0.7777777777777778,
             "#fb9f3a"
            ],
            [
             0.8888888888888888,
             "#fdca26"
            ],
            [
             1,
             "#f0f921"
            ]
           ]
          },
          "colorway": [
           "#636efa",
           "#EF553B",
           "#00cc96",
           "#ab63fa",
           "#FFA15A",
           "#19d3f3",
           "#FF6692",
           "#B6E880",
           "#FF97FF",
           "#FECB52"
          ],
          "font": {
           "color": "#2a3f5f"
          },
          "geo": {
           "bgcolor": "white",
           "lakecolor": "white",
           "landcolor": "#E5ECF6",
           "showlakes": true,
           "showland": true,
           "subunitcolor": "white"
          },
          "hoverlabel": {
           "align": "left"
          },
          "hovermode": "closest",
          "mapbox": {
           "style": "light"
          },
          "paper_bgcolor": "white",
          "plot_bgcolor": "#E5ECF6",
          "polar": {
           "angularaxis": {
            "gridcolor": "white",
            "linecolor": "white",
            "ticks": ""
           },
           "bgcolor": "#E5ECF6",
           "radialaxis": {
            "gridcolor": "white",
            "linecolor": "white",
            "ticks": ""
           }
          },
          "scene": {
           "xaxis": {
            "backgroundcolor": "#E5ECF6",
            "gridcolor": "white",
            "gridwidth": 2,
            "linecolor": "white",
            "showbackground": true,
            "ticks": "",
            "zerolinecolor": "white"
           },
           "yaxis": {
            "backgroundcolor": "#E5ECF6",
            "gridcolor": "white",
            "gridwidth": 2,
            "linecolor": "white",
            "showbackground": true,
            "ticks": "",
            "zerolinecolor": "white"
           },
           "zaxis": {
            "backgroundcolor": "#E5ECF6",
            "gridcolor": "white",
            "gridwidth": 2,
            "linecolor": "white",
            "showbackground": true,
            "ticks": "",
            "zerolinecolor": "white"
           }
          },
          "shapedefaults": {
           "line": {
            "color": "#2a3f5f"
           }
          },
          "ternary": {
           "aaxis": {
            "gridcolor": "white",
            "linecolor": "white",
            "ticks": ""
           },
           "baxis": {
            "gridcolor": "white",
            "linecolor": "white",
            "ticks": ""
           },
           "bgcolor": "#E5ECF6",
           "caxis": {
            "gridcolor": "white",
            "linecolor": "white",
            "ticks": ""
           }
          },
          "title": {
           "x": 0.05
          },
          "xaxis": {
           "automargin": true,
           "gridcolor": "white",
           "linecolor": "white",
           "ticks": "",
           "title": {
            "standoff": 15
           },
           "zerolinecolor": "white",
           "zerolinewidth": 2
          },
          "yaxis": {
           "automargin": true,
           "gridcolor": "white",
           "linecolor": "white",
           "ticks": "",
           "title": {
            "standoff": 15
           },
           "zerolinecolor": "white",
           "zerolinewidth": 2
          }
         }
        }
       }
      },
      "text/html": [
       "<div>                            <div id=\"9fe5ff3c-4b32-45b3-8c84-baefe1f9894e\" class=\"plotly-graph-div\" style=\"height:525px; width:100%;\"></div>            <script type=\"text/javascript\">                require([\"plotly\"], function(Plotly) {                    window.PLOTLYENV=window.PLOTLYENV || {};                                    if (document.getElementById(\"9fe5ff3c-4b32-45b3-8c84-baefe1f9894e\")) {                    Plotly.newPlot(                        \"9fe5ff3c-4b32-45b3-8c84-baefe1f9894e\",                        [{\"type\": \"bar\", \"x\": [\"Other\", \"Manager\", \"Developer\", \"Sales Person\", \"Designer\", \"Engineer\", \"Analyst\", \"Marketer\", \"Associate\", \"Finance Specialist\", \"Assistant\", \"Consultant\", \"Teacher\", \"Social Media\", \"Accountant\", \"Chef\", \"Writer\", \"Officer\", \"Services\", \"Art\", \"Technician\", \"Technology Specialist\", \"advisor\", \"Copywriter\", \"Advisor\", \"Human Resource Specialist\", \"Cinema\", \"Business Specialist\", \"Therapist\", \"Animator\", \"Pharmacist\", \"Researcher\", \"Coordinator\", \"Communication Specialist\", \"Waiter\", \"Cashier\", \"Administrator\", \"Operator\", \"Medical Doctor\", \"Scientist\", \"Photographer\", \"Lawyer\", \"Website Content Writer\", \"Advertising Specialist\", \"Hospitality\", \"Economist\", \"Clinical Specialist\"], \"y\": [171, 132, 124, 90, 76, 74, 62, 59, 42, 37, 31, 24, 21, 16, 15, 13, 13, 13, 13, 12, 10, 9, 9, 9, 8, 8, 8, 6, 5, 5, 5, 5, 5, 4, 3, 3, 3, 2, 2, 2, 2, 1, 1, 1, 1, 1, 1]}],                        {\"template\": {\"data\": {\"bar\": [{\"error_x\": {\"color\": \"#2a3f5f\"}, \"error_y\": {\"color\": \"#2a3f5f\"}, \"marker\": {\"line\": {\"color\": \"#E5ECF6\", \"width\": 0.5}}, \"type\": \"bar\"}], \"barpolar\": [{\"marker\": {\"line\": {\"color\": \"#E5ECF6\", \"width\": 0.5}}, \"type\": \"barpolar\"}], \"carpet\": [{\"aaxis\": {\"endlinecolor\": \"#2a3f5f\", \"gridcolor\": \"white\", \"linecolor\": \"white\", \"minorgridcolor\": \"white\", \"startlinecolor\": \"#2a3f5f\"}, \"baxis\": {\"endlinecolor\": \"#2a3f5f\", \"gridcolor\": \"white\", \"linecolor\": \"white\", \"minorgridcolor\": \"white\", \"startlinecolor\": \"#2a3f5f\"}, \"type\": \"carpet\"}], \"choropleth\": [{\"colorbar\": {\"outlinewidth\": 0, \"ticks\": \"\"}, \"type\": \"choropleth\"}], \"contour\": [{\"colorbar\": {\"outlinewidth\": 0, \"ticks\": \"\"}, \"colorscale\": [[0.0, \"#0d0887\"], [0.1111111111111111, \"#46039f\"], [0.2222222222222222, \"#7201a8\"], [0.3333333333333333, \"#9c179e\"], [0.4444444444444444, \"#bd3786\"], [0.5555555555555556, \"#d8576b\"], [0.6666666666666666, \"#ed7953\"], [0.7777777777777778, \"#fb9f3a\"], [0.8888888888888888, \"#fdca26\"], [1.0, \"#f0f921\"]], \"type\": \"contour\"}], \"contourcarpet\": [{\"colorbar\": {\"outlinewidth\": 0, \"ticks\": \"\"}, \"type\": \"contourcarpet\"}], \"heatmap\": [{\"colorbar\": {\"outlinewidth\": 0, \"ticks\": \"\"}, \"colorscale\": [[0.0, \"#0d0887\"], [0.1111111111111111, \"#46039f\"], [0.2222222222222222, \"#7201a8\"], [0.3333333333333333, \"#9c179e\"], [0.4444444444444444, \"#bd3786\"], [0.5555555555555556, \"#d8576b\"], [0.6666666666666666, \"#ed7953\"], [0.7777777777777778, \"#fb9f3a\"], [0.8888888888888888, \"#fdca26\"], [1.0, \"#f0f921\"]], \"type\": \"heatmap\"}], \"heatmapgl\": [{\"colorbar\": {\"outlinewidth\": 0, \"ticks\": \"\"}, \"colorscale\": [[0.0, \"#0d0887\"], [0.1111111111111111, \"#46039f\"], [0.2222222222222222, \"#7201a8\"], [0.3333333333333333, \"#9c179e\"], [0.4444444444444444, \"#bd3786\"], [0.5555555555555556, \"#d8576b\"], [0.6666666666666666, \"#ed7953\"], [0.7777777777777778, \"#fb9f3a\"], [0.8888888888888888, \"#fdca26\"], [1.0, \"#f0f921\"]], \"type\": \"heatmapgl\"}], \"histogram\": [{\"marker\": {\"colorbar\": {\"outlinewidth\": 0, \"ticks\": \"\"}}, \"type\": \"histogram\"}], \"histogram2d\": [{\"colorbar\": {\"outlinewidth\": 0, \"ticks\": \"\"}, \"colorscale\": [[0.0, \"#0d0887\"], [0.1111111111111111, \"#46039f\"], [0.2222222222222222, \"#7201a8\"], [0.3333333333333333, \"#9c179e\"], [0.4444444444444444, \"#bd3786\"], [0.5555555555555556, \"#d8576b\"], [0.6666666666666666, \"#ed7953\"], [0.7777777777777778, \"#fb9f3a\"], [0.8888888888888888, \"#fdca26\"], [1.0, \"#f0f921\"]], \"type\": \"histogram2d\"}], \"histogram2dcontour\": [{\"colorbar\": {\"outlinewidth\": 0, \"ticks\": \"\"}, \"colorscale\": [[0.0, \"#0d0887\"], [0.1111111111111111, \"#46039f\"], [0.2222222222222222, \"#7201a8\"], [0.3333333333333333, \"#9c179e\"], [0.4444444444444444, \"#bd3786\"], [0.5555555555555556, \"#d8576b\"], [0.6666666666666666, \"#ed7953\"], [0.7777777777777778, \"#fb9f3a\"], [0.8888888888888888, \"#fdca26\"], [1.0, \"#f0f921\"]], \"type\": \"histogram2dcontour\"}], \"mesh3d\": [{\"colorbar\": {\"outlinewidth\": 0, \"ticks\": \"\"}, \"type\": \"mesh3d\"}], \"parcoords\": [{\"line\": {\"colorbar\": {\"outlinewidth\": 0, \"ticks\": \"\"}}, \"type\": \"parcoords\"}], \"pie\": [{\"automargin\": true, \"type\": \"pie\"}], \"scatter\": [{\"marker\": {\"colorbar\": {\"outlinewidth\": 0, \"ticks\": \"\"}}, \"type\": \"scatter\"}], \"scatter3d\": [{\"line\": {\"colorbar\": {\"outlinewidth\": 0, \"ticks\": \"\"}}, \"marker\": {\"colorbar\": {\"outlinewidth\": 0, \"ticks\": \"\"}}, \"type\": \"scatter3d\"}], \"scattercarpet\": [{\"marker\": {\"colorbar\": {\"outlinewidth\": 0, \"ticks\": \"\"}}, \"type\": \"scattercarpet\"}], \"scattergeo\": [{\"marker\": {\"colorbar\": {\"outlinewidth\": 0, \"ticks\": \"\"}}, \"type\": \"scattergeo\"}], \"scattergl\": [{\"marker\": {\"colorbar\": {\"outlinewidth\": 0, \"ticks\": \"\"}}, \"type\": \"scattergl\"}], \"scattermapbox\": [{\"marker\": {\"colorbar\": {\"outlinewidth\": 0, \"ticks\": \"\"}}, \"type\": \"scattermapbox\"}], \"scatterpolar\": [{\"marker\": {\"colorbar\": {\"outlinewidth\": 0, \"ticks\": \"\"}}, \"type\": \"scatterpolar\"}], \"scatterpolargl\": [{\"marker\": {\"colorbar\": {\"outlinewidth\": 0, \"ticks\": \"\"}}, \"type\": \"scatterpolargl\"}], \"scatterternary\": [{\"marker\": {\"colorbar\": {\"outlinewidth\": 0, \"ticks\": \"\"}}, \"type\": \"scatterternary\"}], \"surface\": [{\"colorbar\": {\"outlinewidth\": 0, \"ticks\": \"\"}, \"colorscale\": [[0.0, \"#0d0887\"], [0.1111111111111111, \"#46039f\"], [0.2222222222222222, \"#7201a8\"], [0.3333333333333333, \"#9c179e\"], [0.4444444444444444, \"#bd3786\"], [0.5555555555555556, \"#d8576b\"], [0.6666666666666666, \"#ed7953\"], [0.7777777777777778, \"#fb9f3a\"], [0.8888888888888888, \"#fdca26\"], [1.0, \"#f0f921\"]], \"type\": \"surface\"}], \"table\": [{\"cells\": {\"fill\": {\"color\": \"#EBF0F8\"}, \"line\": {\"color\": \"white\"}}, \"header\": {\"fill\": {\"color\": \"#C8D4E3\"}, \"line\": {\"color\": \"white\"}}, \"type\": \"table\"}]}, \"layout\": {\"annotationdefaults\": {\"arrowcolor\": \"#2a3f5f\", \"arrowhead\": 0, \"arrowwidth\": 1}, \"autotypenumbers\": \"strict\", \"coloraxis\": {\"colorbar\": {\"outlinewidth\": 0, \"ticks\": \"\"}}, \"colorscale\": {\"diverging\": [[0, \"#8e0152\"], [0.1, \"#c51b7d\"], [0.2, \"#de77ae\"], [0.3, \"#f1b6da\"], [0.4, \"#fde0ef\"], [0.5, \"#f7f7f7\"], [0.6, \"#e6f5d0\"], [0.7, \"#b8e186\"], [0.8, \"#7fbc41\"], [0.9, \"#4d9221\"], [1, \"#276419\"]], \"sequential\": [[0.0, \"#0d0887\"], [0.1111111111111111, \"#46039f\"], [0.2222222222222222, \"#7201a8\"], [0.3333333333333333, \"#9c179e\"], [0.4444444444444444, \"#bd3786\"], [0.5555555555555556, \"#d8576b\"], [0.6666666666666666, \"#ed7953\"], [0.7777777777777778, \"#fb9f3a\"], [0.8888888888888888, \"#fdca26\"], [1.0, \"#f0f921\"]], \"sequentialminus\": [[0.0, \"#0d0887\"], [0.1111111111111111, \"#46039f\"], [0.2222222222222222, \"#7201a8\"], [0.3333333333333333, \"#9c179e\"], [0.4444444444444444, \"#bd3786\"], [0.5555555555555556, \"#d8576b\"], [0.6666666666666666, \"#ed7953\"], [0.7777777777777778, \"#fb9f3a\"], [0.8888888888888888, \"#fdca26\"], [1.0, \"#f0f921\"]]}, \"colorway\": [\"#636efa\", \"#EF553B\", \"#00cc96\", \"#ab63fa\", \"#FFA15A\", \"#19d3f3\", \"#FF6692\", \"#B6E880\", \"#FF97FF\", \"#FECB52\"], \"font\": {\"color\": \"#2a3f5f\"}, \"geo\": {\"bgcolor\": \"white\", \"lakecolor\": \"white\", \"landcolor\": \"#E5ECF6\", \"showlakes\": true, \"showland\": true, \"subunitcolor\": \"white\"}, \"hoverlabel\": {\"align\": \"left\"}, \"hovermode\": \"closest\", \"mapbox\": {\"style\": \"light\"}, \"paper_bgcolor\": \"white\", \"plot_bgcolor\": \"#E5ECF6\", \"polar\": {\"angularaxis\": {\"gridcolor\": \"white\", \"linecolor\": \"white\", \"ticks\": \"\"}, \"bgcolor\": \"#E5ECF6\", \"radialaxis\": {\"gridcolor\": \"white\", \"linecolor\": \"white\", \"ticks\": \"\"}}, \"scene\": {\"xaxis\": {\"backgroundcolor\": \"#E5ECF6\", \"gridcolor\": \"white\", \"gridwidth\": 2, \"linecolor\": \"white\", \"showbackground\": true, \"ticks\": \"\", \"zerolinecolor\": \"white\"}, \"yaxis\": {\"backgroundcolor\": \"#E5ECF6\", \"gridcolor\": \"white\", \"gridwidth\": 2, \"linecolor\": \"white\", \"showbackground\": true, \"ticks\": \"\", \"zerolinecolor\": \"white\"}, \"zaxis\": {\"backgroundcolor\": \"#E5ECF6\", \"gridcolor\": \"white\", \"gridwidth\": 2, \"linecolor\": \"white\", \"showbackground\": true, \"ticks\": \"\", \"zerolinecolor\": \"white\"}}, \"shapedefaults\": {\"line\": {\"color\": \"#2a3f5f\"}}, \"ternary\": {\"aaxis\": {\"gridcolor\": \"white\", \"linecolor\": \"white\", \"ticks\": \"\"}, \"baxis\": {\"gridcolor\": \"white\", \"linecolor\": \"white\", \"ticks\": \"\"}, \"bgcolor\": \"#E5ECF6\", \"caxis\": {\"gridcolor\": \"white\", \"linecolor\": \"white\", \"ticks\": \"\"}}, \"title\": {\"x\": 0.05}, \"xaxis\": {\"automargin\": true, \"gridcolor\": \"white\", \"linecolor\": \"white\", \"ticks\": \"\", \"title\": {\"standoff\": 15}, \"zerolinecolor\": \"white\", \"zerolinewidth\": 2}, \"yaxis\": {\"automargin\": true, \"gridcolor\": \"white\", \"linecolor\": \"white\", \"ticks\": \"\", \"title\": {\"standoff\": 15}, \"zerolinecolor\": \"white\", \"zerolinewidth\": 2}}}},                        {\"responsive\": true}                    ).then(function(){\n",
       "                            \n",
       "var gd = document.getElementById('9fe5ff3c-4b32-45b3-8c84-baefe1f9894e');\n",
       "var x = new MutationObserver(function (mutations, observer) {{\n",
       "        var display = window.getComputedStyle(gd).display;\n",
       "        if (!display || display === 'none') {{\n",
       "            console.log([gd, 'removed!']);\n",
       "            Plotly.purge(gd);\n",
       "            observer.disconnect();\n",
       "        }}\n",
       "}});\n",
       "\n",
       "// Listen for the removal of the full notebook cells\n",
       "var notebookContainer = gd.closest('#notebook-container');\n",
       "if (notebookContainer) {{\n",
       "    x.observe(notebookContainer, {childList: true});\n",
       "}}\n",
       "\n",
       "// Listen for the clearing of the current output cell\n",
       "var outputEl = gd.closest('.output');\n",
       "if (outputEl) {{\n",
       "    x.observe(outputEl, {childList: true});\n",
       "}}\n",
       "\n",
       "                        })                };                });            </script>        </div>"
      ]
     },
     "metadata": {},
     "output_type": "display_data"
    }
   ],
   "source": [
    "a1 = df.Category.value_counts()\n",
    "\n",
    "x1 = list(a1.index)\n",
    "y1 = list(a1)\n",
    "\n",
    "data1 = [go.Bar(\n",
    "   x = x1,\n",
    "   y = y1\n",
    ")]\n",
    "fig = go.Figure(data=data1)\n",
    "iplot(fig)"
   ]
  },
  {
   "cell_type": "code",
   "execution_count": 187,
   "metadata": {},
   "outputs": [],
   "source": [
    "#from dataframe to a csv file\n",
    "df_new.to_csv(\"df.csv\", sep='\\t')"
   ]
  },
  {
   "cell_type": "code",
   "execution_count": 188,
   "metadata": {},
   "outputs": [],
   "source": [
    "#download the csv file to a folder on the desktop\n",
    "df.to_csv(r'/Users/user/Desktop/capstone_csv/df.csv')"
   ]
  },
  {
   "cell_type": "code",
   "execution_count": 24,
   "metadata": {},
   "outputs": [],
   "source": [
    "#from dataframe to a csv file\n",
    "jobs_in_lebanon_23_08_2021.to_csv(\"jobs_in_lebanon_23_08_2021.csv\", sep='\\t')"
   ]
  },
  {
   "cell_type": "code",
   "execution_count": 25,
   "metadata": {},
   "outputs": [],
   "source": [
    "#download the csv file to a folder on the desktop\n",
    "jobs_in_lebanon_23_08_2021.to_csv(r'/Users/user/Desktop/capstone_csv/jobs_in_lebanon_23_08_2021.csv')"
   ]
  },
  {
   "cell_type": "markdown",
   "metadata": {},
   "source": [
    "# To run all codes in 2 runs:"
   ]
  },
  {
   "cell_type": "code",
   "execution_count": null,
   "metadata": {},
   "outputs": [],
   "source": [
    "from selenium import webdriver\n",
    "import time\n",
    "import pandas as pd\n",
    "\n",
    "#provide the url that you need to scrape\n",
    "url='https://www.linkedin.com/jobs/search?keywords=&location=Lebanon&geoId=101834488&trk=public_jobs_jobs-search-bar_search-submit&position=1&pageNum=0'\n",
    "\n",
    "browser= webdriver.Chrome(executable_path='/Users/user/Desktop/capstone/chromedriver')\n",
    "browser.get(url)After running the above codes, you are going to be directed to a LinkedIn page (the url that u provided above). On that page, scroll down and keep on clicking on \"more jobs\" to reach the last job position. In order to scrape all the jobs that are on the page. Then run the below codes."
   ]
  },
  {
   "cell_type": "markdown",
   "metadata": {},
   "source": [
    "After running the above codes, you are going to be directed to a LinkedIn page (the url that u provided above). On that page, scroll down and keep on clicking on \"more jobs\" to reach the last job position. In order to scrape all the jobs that are on the page. Then run the below codes."
   ]
  },
  {
   "cell_type": "code",
   "execution_count": null,
   "metadata": {},
   "outputs": [],
   "source": [
    "#Title\n",
    "job_title = []\n",
    "for job in jobs:\n",
    "    job_title0 = job.find_element_by_css_selector('h3').get_attribute('innerText')\n",
    "    job_title.append(job_title0)\n",
    "\n",
    "#Company Name\n",
    "comp=browser.find_elements_by_class_name(\"hidden-nested-link\")\n",
    "comp_name=[]\n",
    "for i in comp:\n",
    "    comp_name.append(i.text)\n",
    "    \n",
    "#Location\n",
    "location=browser.find_elements_by_class_name(\"job-search-card__location\")\n",
    "location_name=[]\n",
    "for i in location:\n",
    "    location_name.append(i.text)\n",
    "    \n",
    "#Date\n",
    "date = [] \n",
    "for job in jobs:\n",
    "    date0 = job.find_element_by_css_selector('div>div>time').get_attribute('datetime')\n",
    "    date.append(date0)\n",
    "    \n",
    "jobs_in_lebanon_ = pd.DataFrame({\n",
    "'Job Title': job_title,\n",
    "'Company': comp_name,\n",
    "'Location': location_name,\n",
    "'Date': date,\n",
    "\n",
    "})\n",
    "\n",
    "#from dataframe to a csv file\n",
    "jobs_in_lebanon_.to_csv(\"jobs_in_lebanon_.csv\", sep='\\t')\n",
    "\n",
    "#download the csv file to a folder on the desktop\n",
    "jobs_in_lebanon_21_08_2021.to_csv(r'/Users/user/Desktop/capstone_csv/jobs_in_lebanon_21_08_2021.csv')"
   ]
  },
  {
   "cell_type": "markdown",
   "metadata": {},
   "source": [
    "# Cleaning and Preprocessing Data"
   ]
  },
  {
   "cell_type": "code",
   "execution_count": 118,
   "metadata": {},
   "outputs": [],
   "source": [
    "import pandas as pd\n",
    "import re # regular expression module\n",
    "import string"
   ]
  },
  {
   "cell_type": "code",
   "execution_count": 119,
   "metadata": {},
   "outputs": [],
   "source": [
    "df_new=pd.read_csv('/Users/user/Desktop/capstone/jobs_in_lebanon_24_08_2021.csv', encoding= 'unicode_escape')"
   ]
  },
  {
   "cell_type": "code",
   "execution_count": 216,
   "metadata": {},
   "outputs": [
    {
     "data": {
      "text/html": [
       "<div>\n",
       "<style scoped>\n",
       "    .dataframe tbody tr th:only-of-type {\n",
       "        vertical-align: middle;\n",
       "    }\n",
       "\n",
       "    .dataframe tbody tr th {\n",
       "        vertical-align: top;\n",
       "    }\n",
       "\n",
       "    .dataframe thead th {\n",
       "        text-align: right;\n",
       "    }\n",
       "</style>\n",
       "<table border=\"1\" class=\"dataframe\">\n",
       "  <thead>\n",
       "    <tr style=\"text-align: right;\">\n",
       "      <th></th>\n",
       "      <th>Job Title</th>\n",
       "      <th>Company</th>\n",
       "      <th>Location</th>\n",
       "      <th>Date</th>\n",
       "      <th>Month</th>\n",
       "      <th>Count</th>\n",
       "      <th>Category</th>\n",
       "    </tr>\n",
       "  </thead>\n",
       "  <tbody>\n",
       "    <tr>\n",
       "      <th>0</th>\n",
       "      <td>Physics Teacher</td>\n",
       "      <td>Jobs | Careers | Recruitment | Hiring Alerts W...</td>\n",
       "      <td>South, Lebanon</td>\n",
       "      <td>8/13/21</td>\n",
       "      <td>8</td>\n",
       "      <td>1</td>\n",
       "      <td>Teacher</td>\n",
       "    </tr>\n",
       "    <tr>\n",
       "      <th>1</th>\n",
       "      <td>3D Animator</td>\n",
       "      <td>Gboard</td>\n",
       "      <td>Mount Lebanon, Lebanon</td>\n",
       "      <td>8/20/21</td>\n",
       "      <td>8</td>\n",
       "      <td>1</td>\n",
       "      <td>Animator</td>\n",
       "    </tr>\n",
       "    <tr>\n",
       "      <th>2</th>\n",
       "      <td>Copywriter</td>\n",
       "      <td>SabisÂ®</td>\n",
       "      <td>Mount Lebanon, Lebanon</td>\n",
       "      <td>8/16/21</td>\n",
       "      <td>8</td>\n",
       "      <td>1</td>\n",
       "      <td>Copywriter</td>\n",
       "    </tr>\n",
       "    <tr>\n",
       "      <th>3</th>\n",
       "      <td>Assistant</td>\n",
       "      <td>Gab Liquidations Buy, Sell, Rent Real Estate &amp;...</td>\n",
       "      <td>Mount Lebanon, Lebanon</td>\n",
       "      <td>8/1/21</td>\n",
       "      <td>8</td>\n",
       "      <td>1</td>\n",
       "      <td>Assistant</td>\n",
       "    </tr>\n",
       "    <tr>\n",
       "      <th>4</th>\n",
       "      <td>Teacher</td>\n",
       "      <td>International School Of Innovation</td>\n",
       "      <td>South, Lebanon</td>\n",
       "      <td>8/22/21</td>\n",
       "      <td>8</td>\n",
       "      <td>1</td>\n",
       "      <td>Teacher</td>\n",
       "    </tr>\n",
       "  </tbody>\n",
       "</table>\n",
       "</div>"
      ],
      "text/plain": [
       "         Job Title                                            Company  \\\n",
       "0  Physics Teacher  Jobs | Careers | Recruitment | Hiring Alerts W...   \n",
       "1      3D Animator                                             Gboard   \n",
       "2       Copywriter                                            SabisÂ®   \n",
       "3        Assistant  Gab Liquidations Buy, Sell, Rent Real Estate &...   \n",
       "4          Teacher                 International School Of Innovation   \n",
       "\n",
       "                 Location     Date  Month  Count    Category  \n",
       "0          South, Lebanon  8/13/21      8      1     Teacher  \n",
       "1  Mount Lebanon, Lebanon  8/20/21      8      1    Animator  \n",
       "2  Mount Lebanon, Lebanon  8/16/21      8      1  Copywriter  \n",
       "3  Mount Lebanon, Lebanon   8/1/21      8      1   Assistant  \n",
       "4          South, Lebanon  8/22/21      8      1     Teacher  "
      ]
     },
     "execution_count": 216,
     "metadata": {},
     "output_type": "execute_result"
    }
   ],
   "source": [
    "df_new.drop('Unnamed: 6', inplace=True, axis=1)\n",
    "df_new.drop('Unnamed: 7', inplace=True, axis=1)\n",
    "df_new.drop('Unnamed: 8', inplace=True, axis=1)\n",
    "df_new.drop('Unnamed: 9', inplace=True, axis=1)\n",
    "df_new.drop('Unnamed: 10', inplace=True, axis=1)\n",
    "df_new.drop('Unnamed: 11', inplace=True, axis=1)\n",
    "df_new.drop('Unnamed: 12', inplace=True, axis=1)\n",
    "df_new.drop('Unnamed: 13', inplace=True, axis=1)\n",
    "df_new.head()"
   ]
  },
  {
   "cell_type": "code",
   "execution_count": 217,
   "metadata": {},
   "outputs": [
    {
     "data": {
      "text/html": [
       "<div>\n",
       "<style scoped>\n",
       "    .dataframe tbody tr th:only-of-type {\n",
       "        vertical-align: middle;\n",
       "    }\n",
       "\n",
       "    .dataframe tbody tr th {\n",
       "        vertical-align: top;\n",
       "    }\n",
       "\n",
       "    .dataframe thead th {\n",
       "        text-align: right;\n",
       "    }\n",
       "</style>\n",
       "<table border=\"1\" class=\"dataframe\">\n",
       "  <thead>\n",
       "    <tr style=\"text-align: right;\">\n",
       "      <th></th>\n",
       "      <th>Job Title</th>\n",
       "      <th>Company</th>\n",
       "      <th>Location</th>\n",
       "      <th>Date</th>\n",
       "      <th>Month</th>\n",
       "      <th>Count</th>\n",
       "      <th>Category</th>\n",
       "    </tr>\n",
       "  </thead>\n",
       "  <tbody>\n",
       "    <tr>\n",
       "      <th>1151</th>\n",
       "      <td>Digital Marketing Specialist</td>\n",
       "      <td>Debbane Saikali Group</td>\n",
       "      <td>Mount Lebanon, Lebanon</td>\n",
       "      <td>8/11/21</td>\n",
       "      <td>8</td>\n",
       "      <td>1</td>\n",
       "      <td>Marketer</td>\n",
       "    </tr>\n",
       "    <tr>\n",
       "      <th>1152</th>\n",
       "      <td>Food Services Sales Representative</td>\n",
       "      <td>Meptico Sal</td>\n",
       "      <td>Mount Lebanon, Lebanon</td>\n",
       "      <td>8/17/21</td>\n",
       "      <td>8</td>\n",
       "      <td>1</td>\n",
       "      <td>Sales Person</td>\n",
       "    </tr>\n",
       "    <tr>\n",
       "      <th>1153</th>\n",
       "      <td>Pharmacist</td>\n",
       "      <td>Pharmacie Ste ThÃ©RÃ¨Se Zouk Mikael</td>\n",
       "      <td>Mount Lebanon, Lebanon</td>\n",
       "      <td>8/17/21</td>\n",
       "      <td>8</td>\n",
       "      <td>1</td>\n",
       "      <td>Pharmacist</td>\n",
       "    </tr>\n",
       "    <tr>\n",
       "      <th>1155</th>\n",
       "      <td>Senior Interior Designer</td>\n",
       "      <td>Sahaco</td>\n",
       "      <td>Mount Lebanon, Lebanon</td>\n",
       "      <td>8/3/21</td>\n",
       "      <td>8</td>\n",
       "      <td>1</td>\n",
       "      <td>Designer</td>\n",
       "    </tr>\n",
       "    <tr>\n",
       "      <th>1156</th>\n",
       "      <td>Senior Web Developer</td>\n",
       "      <td>Webboxed</td>\n",
       "      <td>Mount Lebanon, Lebanon</td>\n",
       "      <td>8/5/21</td>\n",
       "      <td>8</td>\n",
       "      <td>1</td>\n",
       "      <td>Developer</td>\n",
       "    </tr>\n",
       "  </tbody>\n",
       "</table>\n",
       "</div>"
      ],
      "text/plain": [
       "                               Job Title                              Company  \\\n",
       "1151        Digital Marketing Specialist                Debbane Saikali Group   \n",
       "1152  Food Services Sales Representative                          Meptico Sal   \n",
       "1153                          Pharmacist  Pharmacie Ste ThÃ©RÃ¨Se Zouk Mikael   \n",
       "1155            Senior Interior Designer                               Sahaco   \n",
       "1156                Senior Web Developer                             Webboxed   \n",
       "\n",
       "                    Location     Date  Month  Count      Category  \n",
       "1151  Mount Lebanon, Lebanon  8/11/21      8      1      Marketer  \n",
       "1152  Mount Lebanon, Lebanon  8/17/21      8      1  Sales Person  \n",
       "1153  Mount Lebanon, Lebanon  8/17/21      8      1    Pharmacist  \n",
       "1155  Mount Lebanon, Lebanon   8/3/21      8      1      Designer  \n",
       "1156  Mount Lebanon, Lebanon   8/5/21      8      1     Developer  "
      ]
     },
     "execution_count": 217,
     "metadata": {},
     "output_type": "execute_result"
    }
   ],
   "source": [
    "df_new.tail()"
   ]
  },
  {
   "cell_type": "markdown",
   "metadata": {},
   "source": [
    "# Check How many job positions"
   ]
  },
  {
   "cell_type": "code",
   "execution_count": 75,
   "metadata": {},
   "outputs": [
    {
     "name": "stdout",
     "output_type": "stream",
     "text": [
      "There are 1157 scrapped job positions\n"
     ]
    }
   ],
   "source": [
    "print(\"There are\", len(df), \"scrapped job positions\")"
   ]
  },
  {
   "cell_type": "code",
   "execution_count": 76,
   "metadata": {},
   "outputs": [],
   "source": [
    "# regex = re.sub(r'Beirut', 'Beirut, Lebanon', df['Location'])"
   ]
  },
  {
   "cell_type": "code",
   "execution_count": 77,
   "metadata": {},
   "outputs": [
    {
     "data": {
      "text/plain": [
       "Graphic Designer                     25\n",
       "Sales Executive                       9\n",
       "Sales Consultant                      9\n",
       "Digital Marketing Specialist          8\n",
       "Pharmacist                            5\n",
       "                                     ..\n",
       "Senior Executive Programatic          1\n",
       "Industrial Maintenance Specialist     1\n",
       "Real Estate Sales Agent               1\n",
       "Cal Center Manager                    1\n",
       "Biztalk Senior Developer              1\n",
       "Name: Job Title, Length: 969, dtype: int64"
      ]
     },
     "execution_count": 77,
     "metadata": {},
     "output_type": "execute_result"
    }
   ],
   "source": [
    "#How many different jobs there are\n",
    "df['Job Title'].value_counts()"
   ]
  },
  {
   "cell_type": "markdown",
   "metadata": {},
   "source": [
    "# Remove punctuations from \"Job Title\" column"
   ]
  },
  {
   "cell_type": "code",
   "execution_count": 78,
   "metadata": {},
   "outputs": [
    {
     "data": {
      "text/plain": [
       "'!\"#$%&\\'()*+,-./:;<=>?@[\\\\]^_`{|}~'"
      ]
     },
     "execution_count": 78,
     "metadata": {},
     "output_type": "execute_result"
    }
   ],
   "source": [
    "string.punctuation"
   ]
  },
  {
   "cell_type": "code",
   "execution_count": 79,
   "metadata": {},
   "outputs": [
    {
     "data": {
      "text/plain": [
       "1152             Web Developer\n",
       "1153    Web Developer Wordpres\n",
       "1154      Web Graphic Designer\n",
       "1155    Website Content Writer\n",
       "1156    Wpe Case Worker  Akkar\n",
       "Name: Job Title, dtype: object"
      ]
     },
     "execution_count": 79,
     "metadata": {},
     "output_type": "execute_result"
    }
   ],
   "source": [
    "def remove_punctuation(text):\n",
    "    for punc in string.punctuation:\n",
    "        text = text.replace(punc, \"\")\n",
    "    return text\n",
    "\n",
    "#the function apply takes row by row of the column message. so it's like a loop for every row in the dataset.\n",
    "#.apply is the ft that gows row by row and the action that i want here is (cleaning_stopwords)\n",
    "\n",
    "df_new['Job Title'] = df_new['Job Title'].apply(lambda x : remove_punctuation(x))\n",
    "#dataset['Message'][0]\n",
    "df_new['Job Title'].tail()"
   ]
  },
  {
   "cell_type": "code",
   "execution_count": 80,
   "metadata": {
    "scrolled": true
   },
   "outputs": [
    {
     "data": {
      "text/html": [
       "<div>\n",
       "<style scoped>\n",
       "    .dataframe tbody tr th:only-of-type {\n",
       "        vertical-align: middle;\n",
       "    }\n",
       "\n",
       "    .dataframe tbody tr th {\n",
       "        vertical-align: top;\n",
       "    }\n",
       "\n",
       "    .dataframe thead th {\n",
       "        text-align: right;\n",
       "    }\n",
       "</style>\n",
       "<table border=\"1\" class=\"dataframe\">\n",
       "  <thead>\n",
       "    <tr style=\"text-align: right;\">\n",
       "      <th></th>\n",
       "      <th>Job Title</th>\n",
       "      <th>Company</th>\n",
       "      <th>Location</th>\n",
       "      <th>Date</th>\n",
       "      <th>Month</th>\n",
       "      <th>Count</th>\n",
       "      <th>Unnamed: 6</th>\n",
       "      <th>Unnamed: 7</th>\n",
       "      <th>Unnamed: 8</th>\n",
       "      <th>Unnamed: 9</th>\n",
       "      <th>Unnamed: 10</th>\n",
       "      <th>Unnamed: 11</th>\n",
       "      <th>Unnamed: 12</th>\n",
       "      <th>Unnamed: 13</th>\n",
       "    </tr>\n",
       "  </thead>\n",
       "  <tbody>\n",
       "    <tr>\n",
       "      <th>1152</th>\n",
       "      <td>Web Developer</td>\n",
       "      <td>Artech</td>\n",
       "      <td>Tripoli, North, Lebanon</td>\n",
       "      <td>8/10/21</td>\n",
       "      <td>8</td>\n",
       "      <td>1</td>\n",
       "      <td>NaN</td>\n",
       "      <td>NaN</td>\n",
       "      <td>NaN</td>\n",
       "      <td>NaN</td>\n",
       "      <td>NaN</td>\n",
       "      <td>NaN</td>\n",
       "      <td>NaN</td>\n",
       "      <td>NaN</td>\n",
       "    </tr>\n",
       "    <tr>\n",
       "      <th>1153</th>\n",
       "      <td>Web Developer Wordpres</td>\n",
       "      <td>Cbeir</td>\n",
       "      <td>Beirut, Lebanon</td>\n",
       "      <td>7/16/21</td>\n",
       "      <td>7</td>\n",
       "      <td>1</td>\n",
       "      <td>NaN</td>\n",
       "      <td>NaN</td>\n",
       "      <td>NaN</td>\n",
       "      <td>NaN</td>\n",
       "      <td>NaN</td>\n",
       "      <td>NaN</td>\n",
       "      <td>NaN</td>\n",
       "      <td>NaN</td>\n",
       "    </tr>\n",
       "    <tr>\n",
       "      <th>1154</th>\n",
       "      <td>Web Graphic Designer</td>\n",
       "      <td>Medica Group</td>\n",
       "      <td>Beirut, Lebanon</td>\n",
       "      <td>7/14/21</td>\n",
       "      <td>7</td>\n",
       "      <td>1</td>\n",
       "      <td>NaN</td>\n",
       "      <td>NaN</td>\n",
       "      <td>NaN</td>\n",
       "      <td>NaN</td>\n",
       "      <td>NaN</td>\n",
       "      <td>NaN</td>\n",
       "      <td>NaN</td>\n",
       "      <td>NaN</td>\n",
       "    </tr>\n",
       "    <tr>\n",
       "      <th>1155</th>\n",
       "      <td>Website Content Writer</td>\n",
       "      <td>Podeo | Ù¨ÙØ¿ØØ</td>\n",
       "      <td>Beirut, Beirut, Lebanon</td>\n",
       "      <td>8/4/21</td>\n",
       "      <td>8</td>\n",
       "      <td>1</td>\n",
       "      <td>NaN</td>\n",
       "      <td>NaN</td>\n",
       "      <td>NaN</td>\n",
       "      <td>NaN</td>\n",
       "      <td>NaN</td>\n",
       "      <td>NaN</td>\n",
       "      <td>NaN</td>\n",
       "      <td>NaN</td>\n",
       "    </tr>\n",
       "    <tr>\n",
       "      <th>1156</th>\n",
       "      <td>Wpe Case Worker  Akkar</td>\n",
       "      <td>International Rescue Committee</td>\n",
       "      <td>Marhat Aakkar, Akkar, Lebanon</td>\n",
       "      <td>8/16/21</td>\n",
       "      <td>8</td>\n",
       "      <td>1</td>\n",
       "      <td>NaN</td>\n",
       "      <td>NaN</td>\n",
       "      <td>NaN</td>\n",
       "      <td>NaN</td>\n",
       "      <td>NaN</td>\n",
       "      <td>NaN</td>\n",
       "      <td>NaN</td>\n",
       "      <td>NaN</td>\n",
       "    </tr>\n",
       "  </tbody>\n",
       "</table>\n",
       "</div>"
      ],
      "text/plain": [
       "                   Job Title                         Company  \\\n",
       "1152           Web Developer                          Artech   \n",
       "1153  Web Developer Wordpres                           Cbeir   \n",
       "1154    Web Graphic Designer                    Medica Group   \n",
       "1155  Website Content Writer              Podeo | Ù¨ÙØ¿ØØ   \n",
       "1156  Wpe Case Worker  Akkar  International Rescue Committee   \n",
       "\n",
       "                           Location     Date  Month  Count  Unnamed: 6  \\\n",
       "1152        Tripoli, North, Lebanon  8/10/21      8      1         NaN   \n",
       "1153                Beirut, Lebanon  7/16/21      7      1         NaN   \n",
       "1154                Beirut, Lebanon  7/14/21      7      1         NaN   \n",
       "1155        Beirut, Beirut, Lebanon   8/4/21      8      1         NaN   \n",
       "1156  Marhat Aakkar, Akkar, Lebanon  8/16/21      8      1         NaN   \n",
       "\n",
       "      Unnamed: 7  Unnamed: 8  Unnamed: 9  Unnamed: 10  Unnamed: 11  \\\n",
       "1152         NaN         NaN         NaN          NaN          NaN   \n",
       "1153         NaN         NaN         NaN          NaN          NaN   \n",
       "1154         NaN         NaN         NaN          NaN          NaN   \n",
       "1155         NaN         NaN         NaN          NaN          NaN   \n",
       "1156         NaN         NaN         NaN          NaN          NaN   \n",
       "\n",
       "      Unnamed: 12  Unnamed: 13  \n",
       "1152          NaN          NaN  \n",
       "1153          NaN          NaN  \n",
       "1154          NaN          NaN  \n",
       "1155          NaN          NaN  \n",
       "1156          NaN          NaN  "
      ]
     },
     "execution_count": 80,
     "metadata": {},
     "output_type": "execute_result"
    }
   ],
   "source": [
    "df_new.tail()"
   ]
  },
  {
   "cell_type": "code",
   "execution_count": 81,
   "metadata": {
    "scrolled": false
   },
   "outputs": [
    {
     "data": {
      "text/plain": [
       "1152             Web Developer\n",
       "1153    Web Developer Wordpres\n",
       "1154      Web Graphic Designer\n",
       "1155    Website Content Writer\n",
       "1156     Wpe Case Worker Akkar\n",
       "Name: Job Title, dtype: object"
      ]
     },
     "execution_count": 81,
     "metadata": {},
     "output_type": "execute_result"
    }
   ],
   "source": [
    "# or we can use regex to remove punctuations\n",
    "df_new['Job Title']= df_new['Job Title'].str.replace(r'[^0-9a-zA-Z]+', ' ')\n",
    "df_new['Job Title'].tail()# Removing Repeating Characters"
   ]
  },
  {
   "cell_type": "markdown",
   "metadata": {},
   "source": [
    "# Removing digits from \"Job Title\" column"
   ]
  },
  {
   "cell_type": "code",
   "execution_count": 82,
   "metadata": {},
   "outputs": [
    {
     "data": {
      "text/plain": [
       "1152             Web Developer\n",
       "1153    Web Developer Wordpres\n",
       "1154      Web Graphic Designer\n",
       "1155    Website Content Writer\n",
       "1156     Wpe Case Worker Akkar\n",
       "Name: Job Title, dtype: object"
      ]
     },
     "execution_count": 82,
     "metadata": {},
     "output_type": "execute_result"
    }
   ],
   "source": [
    "# Removing Digits\n",
    "def cleaning_numbers(text):\n",
    "    return re.sub('[0-9]+', '', text)\n",
    "\n",
    "df_new['Job Title'] = df_new['Job Title'].apply(lambda msg: cleaning_numbers(msg))\n",
    "df_new['Job Title'].tail()"
   ]
  },
  {
   "cell_type": "code",
   "execution_count": 83,
   "metadata": {
    "scrolled": true
   },
   "outputs": [
    {
     "data": {
      "text/html": [
       "<div>\n",
       "<style scoped>\n",
       "    .dataframe tbody tr th:only-of-type {\n",
       "        vertical-align: middle;\n",
       "    }\n",
       "\n",
       "    .dataframe tbody tr th {\n",
       "        vertical-align: top;\n",
       "    }\n",
       "\n",
       "    .dataframe thead th {\n",
       "        text-align: right;\n",
       "    }\n",
       "</style>\n",
       "<table border=\"1\" class=\"dataframe\">\n",
       "  <thead>\n",
       "    <tr style=\"text-align: right;\">\n",
       "      <th></th>\n",
       "      <th>Job Title</th>\n",
       "      <th>Company</th>\n",
       "      <th>Location</th>\n",
       "      <th>Date</th>\n",
       "      <th>Month</th>\n",
       "      <th>Count</th>\n",
       "      <th>Unnamed: 6</th>\n",
       "      <th>Unnamed: 7</th>\n",
       "      <th>Unnamed: 8</th>\n",
       "      <th>Unnamed: 9</th>\n",
       "      <th>Unnamed: 10</th>\n",
       "      <th>Unnamed: 11</th>\n",
       "      <th>Unnamed: 12</th>\n",
       "      <th>Unnamed: 13</th>\n",
       "    </tr>\n",
       "  </thead>\n",
       "  <tbody>\n",
       "    <tr>\n",
       "      <th>1152</th>\n",
       "      <td>Web Developer</td>\n",
       "      <td>Artech</td>\n",
       "      <td>Tripoli, North, Lebanon</td>\n",
       "      <td>8/10/21</td>\n",
       "      <td>8</td>\n",
       "      <td>1</td>\n",
       "      <td>NaN</td>\n",
       "      <td>NaN</td>\n",
       "      <td>NaN</td>\n",
       "      <td>NaN</td>\n",
       "      <td>NaN</td>\n",
       "      <td>NaN</td>\n",
       "      <td>NaN</td>\n",
       "      <td>NaN</td>\n",
       "    </tr>\n",
       "    <tr>\n",
       "      <th>1153</th>\n",
       "      <td>Web Developer Wordpres</td>\n",
       "      <td>Cbeir</td>\n",
       "      <td>Beirut, Lebanon</td>\n",
       "      <td>7/16/21</td>\n",
       "      <td>7</td>\n",
       "      <td>1</td>\n",
       "      <td>NaN</td>\n",
       "      <td>NaN</td>\n",
       "      <td>NaN</td>\n",
       "      <td>NaN</td>\n",
       "      <td>NaN</td>\n",
       "      <td>NaN</td>\n",
       "      <td>NaN</td>\n",
       "      <td>NaN</td>\n",
       "    </tr>\n",
       "    <tr>\n",
       "      <th>1154</th>\n",
       "      <td>Web Graphic Designer</td>\n",
       "      <td>Medica Group</td>\n",
       "      <td>Beirut, Lebanon</td>\n",
       "      <td>7/14/21</td>\n",
       "      <td>7</td>\n",
       "      <td>1</td>\n",
       "      <td>NaN</td>\n",
       "      <td>NaN</td>\n",
       "      <td>NaN</td>\n",
       "      <td>NaN</td>\n",
       "      <td>NaN</td>\n",
       "      <td>NaN</td>\n",
       "      <td>NaN</td>\n",
       "      <td>NaN</td>\n",
       "    </tr>\n",
       "    <tr>\n",
       "      <th>1155</th>\n",
       "      <td>Website Content Writer</td>\n",
       "      <td>Podeo | Ù¨ÙØ¿ØØ</td>\n",
       "      <td>Beirut, Beirut, Lebanon</td>\n",
       "      <td>8/4/21</td>\n",
       "      <td>8</td>\n",
       "      <td>1</td>\n",
       "      <td>NaN</td>\n",
       "      <td>NaN</td>\n",
       "      <td>NaN</td>\n",
       "      <td>NaN</td>\n",
       "      <td>NaN</td>\n",
       "      <td>NaN</td>\n",
       "      <td>NaN</td>\n",
       "      <td>NaN</td>\n",
       "    </tr>\n",
       "    <tr>\n",
       "      <th>1156</th>\n",
       "      <td>Wpe Case Worker Akkar</td>\n",
       "      <td>International Rescue Committee</td>\n",
       "      <td>Marhat Aakkar, Akkar, Lebanon</td>\n",
       "      <td>8/16/21</td>\n",
       "      <td>8</td>\n",
       "      <td>1</td>\n",
       "      <td>NaN</td>\n",
       "      <td>NaN</td>\n",
       "      <td>NaN</td>\n",
       "      <td>NaN</td>\n",
       "      <td>NaN</td>\n",
       "      <td>NaN</td>\n",
       "      <td>NaN</td>\n",
       "      <td>NaN</td>\n",
       "    </tr>\n",
       "  </tbody>\n",
       "</table>\n",
       "</div>"
      ],
      "text/plain": [
       "                   Job Title                         Company  \\\n",
       "1152           Web Developer                          Artech   \n",
       "1153  Web Developer Wordpres                           Cbeir   \n",
       "1154    Web Graphic Designer                    Medica Group   \n",
       "1155  Website Content Writer              Podeo | Ù¨ÙØ¿ØØ   \n",
       "1156   Wpe Case Worker Akkar  International Rescue Committee   \n",
       "\n",
       "                           Location     Date  Month  Count  Unnamed: 6  \\\n",
       "1152        Tripoli, North, Lebanon  8/10/21      8      1         NaN   \n",
       "1153                Beirut, Lebanon  7/16/21      7      1         NaN   \n",
       "1154                Beirut, Lebanon  7/14/21      7      1         NaN   \n",
       "1155        Beirut, Beirut, Lebanon   8/4/21      8      1         NaN   \n",
       "1156  Marhat Aakkar, Akkar, Lebanon  8/16/21      8      1         NaN   \n",
       "\n",
       "      Unnamed: 7  Unnamed: 8  Unnamed: 9  Unnamed: 10  Unnamed: 11  \\\n",
       "1152         NaN         NaN         NaN          NaN          NaN   \n",
       "1153         NaN         NaN         NaN          NaN          NaN   \n",
       "1154         NaN         NaN         NaN          NaN          NaN   \n",
       "1155         NaN         NaN         NaN          NaN          NaN   \n",
       "1156         NaN         NaN         NaN          NaN          NaN   \n",
       "\n",
       "      Unnamed: 12  Unnamed: 13  \n",
       "1152          NaN          NaN  \n",
       "1153          NaN          NaN  \n",
       "1154          NaN          NaN  \n",
       "1155          NaN          NaN  \n",
       "1156          NaN          NaN  "
      ]
     },
     "execution_count": 83,
     "metadata": {},
     "output_type": "execute_result"
    }
   ],
   "source": [
    "df_new.tail()"
   ]
  },
  {
   "cell_type": "markdown",
   "metadata": {},
   "source": [
    "# Removing URLS from \"Job Title\" column"
   ]
  },
  {
   "cell_type": "code",
   "execution_count": 84,
   "metadata": {},
   "outputs": [
    {
     "data": {
      "text/plain": [
       "0                              Net Full Stack Engineer\n",
       "1    Human Resources Coordinators Bekaa Bml North S...\n",
       "2                Experienced Angular Software Engineer\n",
       "3                Experienced Angular Software Engineer\n",
       "4                    Senior Android Developer FullTime\n",
       "Name: Job Title, dtype: object"
      ]
     },
     "execution_count": 84,
     "metadata": {},
     "output_type": "execute_result"
    }
   ],
   "source": [
    "# Remove URLS\n",
    "\n",
    "def cleaning_URLs(text):\n",
    "    return re.sub('((www.[^s]+)|(https?://[^s]+))',' ', text)\n",
    "\n",
    "\n",
    "df_new['Job Title'] = df_new['Job Title'].apply(lambda msg: cleaning_URLs(msg))\n",
    "df_new['Job Title'].head()"
   ]
  },
  {
   "cell_type": "markdown",
   "metadata": {},
   "source": [
    "# Removing Arabic words from \"Job Title\" column"
   ]
  },
  {
   "cell_type": "code",
   "execution_count": 85,
   "metadata": {},
   "outputs": [
    {
     "data": {
      "text/plain": [
       "1152             Web Developer\n",
       "1153    Web Developer Wordpres\n",
       "1154      Web Graphic Designer\n",
       "1155    Website Content Writer\n",
       "1156     Wpe Case Worker Akkar\n",
       "Name: Job Title, dtype: object"
      ]
     },
     "execution_count": 85,
     "metadata": {},
     "output_type": "execute_result"
    }
   ],
   "source": [
    "# Removing arabic digits\n",
    "def cleaning_numbers(text):\n",
    "    return re.sub('[ء-ي]', '', text)\n",
    "\n",
    "df_new['Job Title'] = df_new['Job Title'].apply(lambda msg: cleaning_numbers(msg))\n",
    "df_new['Job Title'].tail()"
   ]
  },
  {
   "cell_type": "markdown",
   "metadata": {},
   "source": [
    "# Removing Arabic words from \"Company\" column"
   ]
  },
  {
   "cell_type": "code",
   "execution_count": 86,
   "metadata": {},
   "outputs": [
    {
     "data": {
      "text/plain": [
       "1152                            Artech\n",
       "1153                             Cbeir\n",
       "1154                      Medica Group\n",
       "1155                Podeo | Ù¨ÙØ¿ØØ\n",
       "1156    International Rescue Committee\n",
       "Name: Company, dtype: object"
      ]
     },
     "execution_count": 86,
     "metadata": {},
     "output_type": "execute_result"
    }
   ],
   "source": [
    "# Removing arabic digits\n",
    "def cleaning_numbers(text):\n",
    "    return re.sub('[ء-ي]', '', text)\n",
    "\n",
    "df_new['Company'] = df_new['Company'].apply(lambda msg: cleaning_numbers(msg))\n",
    "df_new['Company'].tail()"
   ]
  },
  {
   "cell_type": "code",
   "execution_count": 87,
   "metadata": {},
   "outputs": [
    {
     "data": {
      "text/plain": [
       "0                   Microtech Solutions S.A.L.\n",
       "1       Nrc Europe - Norwegian Refugee Council\n",
       "2         Rubix - Partner For Digital Business\n",
       "3         Rubix - Partner For Digital Business\n",
       "4                                       Toptal\n",
       "                         ...                  \n",
       "1152                                    Artech\n",
       "1153                                     Cbeir\n",
       "1154                              Medica Group\n",
       "1155                        Podeo | Ù¨ÙØ¿ØØ\n",
       "1156            International Rescue Committee\n",
       "Name: Company, Length: 1157, dtype: object"
      ]
     },
     "execution_count": 87,
     "metadata": {},
     "output_type": "execute_result"
    }
   ],
   "source": [
    "df_new['Company']"
   ]
  },
  {
   "cell_type": "code",
   "execution_count": 88,
   "metadata": {},
   "outputs": [],
   "source": [
    "# stop_words = stopwords.words('english')\n",
    "\n",
    "# # in the below code if the word isnt in stop words then we want it. \n",
    "# def cleaning_stopwords(text):\n",
    "#     return \" \".join([word for word in str(text).split() if word not in stop_words])\n",
    "\n",
    "\n",
    "# #the function apply takes row by row of the column message. so it's like a loop for every row in the dataset.\n",
    "# #.apply is the ft that gows row by row and the action that i want here is (cleaning_stopwords)\n",
    "\n",
    "# df_new['Job Title'] = df_new['Job Title'].apply(lambda message : cleaning_stopwords(message))\n",
    "# #dataset['Message'][0]\n",
    "# df_new['Company'].tail()"
   ]
  },
  {
   "cell_type": "markdown",
   "metadata": {},
   "source": [
    "# Removing punctautions from \"Company\" column"
   ]
  },
  {
   "cell_type": "code",
   "execution_count": 89,
   "metadata": {},
   "outputs": [
    {
     "data": {
      "text/plain": [
       "'!\"#$%&\\'()*+,-./:;<=>?@[\\\\]^_`{|}~'"
      ]
     },
     "execution_count": 89,
     "metadata": {},
     "output_type": "execute_result"
    }
   ],
   "source": [
    "string.punctuation"
   ]
  },
  {
   "cell_type": "code",
   "execution_count": 90,
   "metadata": {},
   "outputs": [],
   "source": [
    "def remove_punctuation(text):\n",
    "    for punc in string.punctuation:\n",
    "        text = text.replace(punc, \"\")\n",
    "    return text\n",
    "\n",
    "#the function apply takes row by row of the column message. so it's like a loop for every row in the dataset.\n",
    "#.apply is the ft that gows row by row and the action that i want here is (cleaning_stopwords)\n",
    "\n",
    "df_new['Company'] = df_new['Company'].apply(lambda x : remove_punctuation(x))"
   ]
  },
  {
   "cell_type": "code",
   "execution_count": 91,
   "metadata": {
    "scrolled": true
   },
   "outputs": [
    {
     "data": {
      "text/html": [
       "<div>\n",
       "<style scoped>\n",
       "    .dataframe tbody tr th:only-of-type {\n",
       "        vertical-align: middle;\n",
       "    }\n",
       "\n",
       "    .dataframe tbody tr th {\n",
       "        vertical-align: top;\n",
       "    }\n",
       "\n",
       "    .dataframe thead th {\n",
       "        text-align: right;\n",
       "    }\n",
       "</style>\n",
       "<table border=\"1\" class=\"dataframe\">\n",
       "  <thead>\n",
       "    <tr style=\"text-align: right;\">\n",
       "      <th></th>\n",
       "      <th>Job Title</th>\n",
       "      <th>Company</th>\n",
       "      <th>Location</th>\n",
       "      <th>Date</th>\n",
       "      <th>Month</th>\n",
       "      <th>Count</th>\n",
       "      <th>Unnamed: 6</th>\n",
       "      <th>Unnamed: 7</th>\n",
       "      <th>Unnamed: 8</th>\n",
       "      <th>Unnamed: 9</th>\n",
       "      <th>Unnamed: 10</th>\n",
       "      <th>Unnamed: 11</th>\n",
       "      <th>Unnamed: 12</th>\n",
       "      <th>Unnamed: 13</th>\n",
       "    </tr>\n",
       "  </thead>\n",
       "  <tbody>\n",
       "    <tr>\n",
       "      <th>1152</th>\n",
       "      <td>Web Developer</td>\n",
       "      <td>Artech</td>\n",
       "      <td>Tripoli, North, Lebanon</td>\n",
       "      <td>8/10/21</td>\n",
       "      <td>8</td>\n",
       "      <td>1</td>\n",
       "      <td>NaN</td>\n",
       "      <td>NaN</td>\n",
       "      <td>NaN</td>\n",
       "      <td>NaN</td>\n",
       "      <td>NaN</td>\n",
       "      <td>NaN</td>\n",
       "      <td>NaN</td>\n",
       "      <td>NaN</td>\n",
       "    </tr>\n",
       "    <tr>\n",
       "      <th>1153</th>\n",
       "      <td>Web Developer Wordpres</td>\n",
       "      <td>Cbeir</td>\n",
       "      <td>Beirut, Lebanon</td>\n",
       "      <td>7/16/21</td>\n",
       "      <td>7</td>\n",
       "      <td>1</td>\n",
       "      <td>NaN</td>\n",
       "      <td>NaN</td>\n",
       "      <td>NaN</td>\n",
       "      <td>NaN</td>\n",
       "      <td>NaN</td>\n",
       "      <td>NaN</td>\n",
       "      <td>NaN</td>\n",
       "      <td>NaN</td>\n",
       "    </tr>\n",
       "    <tr>\n",
       "      <th>1154</th>\n",
       "      <td>Web Graphic Designer</td>\n",
       "      <td>Medica Group</td>\n",
       "      <td>Beirut, Lebanon</td>\n",
       "      <td>7/14/21</td>\n",
       "      <td>7</td>\n",
       "      <td>1</td>\n",
       "      <td>NaN</td>\n",
       "      <td>NaN</td>\n",
       "      <td>NaN</td>\n",
       "      <td>NaN</td>\n",
       "      <td>NaN</td>\n",
       "      <td>NaN</td>\n",
       "      <td>NaN</td>\n",
       "      <td>NaN</td>\n",
       "    </tr>\n",
       "    <tr>\n",
       "      <th>1155</th>\n",
       "      <td>Website Content Writer</td>\n",
       "      <td>Podeo  Ù¨ÙØ¿ØØ</td>\n",
       "      <td>Beirut, Beirut, Lebanon</td>\n",
       "      <td>8/4/21</td>\n",
       "      <td>8</td>\n",
       "      <td>1</td>\n",
       "      <td>NaN</td>\n",
       "      <td>NaN</td>\n",
       "      <td>NaN</td>\n",
       "      <td>NaN</td>\n",
       "      <td>NaN</td>\n",
       "      <td>NaN</td>\n",
       "      <td>NaN</td>\n",
       "      <td>NaN</td>\n",
       "    </tr>\n",
       "    <tr>\n",
       "      <th>1156</th>\n",
       "      <td>Wpe Case Worker Akkar</td>\n",
       "      <td>International Rescue Committee</td>\n",
       "      <td>Marhat Aakkar, Akkar, Lebanon</td>\n",
       "      <td>8/16/21</td>\n",
       "      <td>8</td>\n",
       "      <td>1</td>\n",
       "      <td>NaN</td>\n",
       "      <td>NaN</td>\n",
       "      <td>NaN</td>\n",
       "      <td>NaN</td>\n",
       "      <td>NaN</td>\n",
       "      <td>NaN</td>\n",
       "      <td>NaN</td>\n",
       "      <td>NaN</td>\n",
       "    </tr>\n",
       "  </tbody>\n",
       "</table>\n",
       "</div>"
      ],
      "text/plain": [
       "                   Job Title                         Company  \\\n",
       "1152           Web Developer                          Artech   \n",
       "1153  Web Developer Wordpres                           Cbeir   \n",
       "1154    Web Graphic Designer                    Medica Group   \n",
       "1155  Website Content Writer               Podeo  Ù¨ÙØ¿ØØ   \n",
       "1156   Wpe Case Worker Akkar  International Rescue Committee   \n",
       "\n",
       "                           Location     Date  Month  Count  Unnamed: 6  \\\n",
       "1152        Tripoli, North, Lebanon  8/10/21      8      1         NaN   \n",
       "1153                Beirut, Lebanon  7/16/21      7      1         NaN   \n",
       "1154                Beirut, Lebanon  7/14/21      7      1         NaN   \n",
       "1155        Beirut, Beirut, Lebanon   8/4/21      8      1         NaN   \n",
       "1156  Marhat Aakkar, Akkar, Lebanon  8/16/21      8      1         NaN   \n",
       "\n",
       "      Unnamed: 7  Unnamed: 8  Unnamed: 9  Unnamed: 10  Unnamed: 11  \\\n",
       "1152         NaN         NaN         NaN          NaN          NaN   \n",
       "1153         NaN         NaN         NaN          NaN          NaN   \n",
       "1154         NaN         NaN         NaN          NaN          NaN   \n",
       "1155         NaN         NaN         NaN          NaN          NaN   \n",
       "1156         NaN         NaN         NaN          NaN          NaN   \n",
       "\n",
       "      Unnamed: 12  Unnamed: 13  \n",
       "1152          NaN          NaN  \n",
       "1153          NaN          NaN  \n",
       "1154          NaN          NaN  \n",
       "1155          NaN          NaN  \n",
       "1156          NaN          NaN  "
      ]
     },
     "execution_count": 91,
     "metadata": {},
     "output_type": "execute_result"
    }
   ],
   "source": [
    "df_new.tail()"
   ]
  },
  {
   "cell_type": "code",
   "execution_count": 92,
   "metadata": {},
   "outputs": [
    {
     "data": {
      "text/plain": [
       "1152                            Artech\n",
       "1153                             Cbeir\n",
       "1154                      Medica Group\n",
       "1155                            Podeo \n",
       "1156    International Rescue Committee\n",
       "Name: Company, dtype: object"
      ]
     },
     "execution_count": 92,
     "metadata": {},
     "output_type": "execute_result"
    }
   ],
   "source": [
    "# or we can use regex to remove punctuations\n",
    "df_new['Company'] = df_new['Company'].str.replace(r'[^0-9a-zA-Z]+', ' ')\n",
    "df_new['Company'].tail()# Removing Repeating Characters"
   ]
  },
  {
   "cell_type": "markdown",
   "metadata": {},
   "source": [
    "# Removing Digits from \"Company\" column"
   ]
  },
  {
   "cell_type": "code",
   "execution_count": 93,
   "metadata": {},
   "outputs": [
    {
     "data": {
      "text/plain": [
       "1152                            Artech\n",
       "1153                             Cbeir\n",
       "1154                      Medica Group\n",
       "1155                            Podeo \n",
       "1156    International Rescue Committee\n",
       "Name: Company, dtype: object"
      ]
     },
     "execution_count": 93,
     "metadata": {},
     "output_type": "execute_result"
    }
   ],
   "source": [
    "# Removing Digits\n",
    "def cleaning_numbers(text):\n",
    "    return re.sub('[0-9]+', '', text)\n",
    "\n",
    "df_new['Company'] = df_new['Company'].apply(lambda msg: cleaning_numbers(msg))\n",
    "df_new['Company'].tail()"
   ]
  },
  {
   "cell_type": "code",
   "execution_count": 94,
   "metadata": {},
   "outputs": [
    {
     "data": {
      "text/html": [
       "<div>\n",
       "<style scoped>\n",
       "    .dataframe tbody tr th:only-of-type {\n",
       "        vertical-align: middle;\n",
       "    }\n",
       "\n",
       "    .dataframe tbody tr th {\n",
       "        vertical-align: top;\n",
       "    }\n",
       "\n",
       "    .dataframe thead th {\n",
       "        text-align: right;\n",
       "    }\n",
       "</style>\n",
       "<table border=\"1\" class=\"dataframe\">\n",
       "  <thead>\n",
       "    <tr style=\"text-align: right;\">\n",
       "      <th></th>\n",
       "      <th>Job Title</th>\n",
       "      <th>Company</th>\n",
       "      <th>Location</th>\n",
       "      <th>Date</th>\n",
       "      <th>Month</th>\n",
       "      <th>Count</th>\n",
       "      <th>Unnamed: 6</th>\n",
       "      <th>Unnamed: 7</th>\n",
       "      <th>Unnamed: 8</th>\n",
       "      <th>Unnamed: 9</th>\n",
       "      <th>Unnamed: 10</th>\n",
       "      <th>Unnamed: 11</th>\n",
       "      <th>Unnamed: 12</th>\n",
       "      <th>Unnamed: 13</th>\n",
       "    </tr>\n",
       "  </thead>\n",
       "  <tbody>\n",
       "    <tr>\n",
       "      <th>1152</th>\n",
       "      <td>Web Developer</td>\n",
       "      <td>Artech</td>\n",
       "      <td>Tripoli, North, Lebanon</td>\n",
       "      <td>8/10/21</td>\n",
       "      <td>8</td>\n",
       "      <td>1</td>\n",
       "      <td>NaN</td>\n",
       "      <td>NaN</td>\n",
       "      <td>NaN</td>\n",
       "      <td>NaN</td>\n",
       "      <td>NaN</td>\n",
       "      <td>NaN</td>\n",
       "      <td>NaN</td>\n",
       "      <td>NaN</td>\n",
       "    </tr>\n",
       "    <tr>\n",
       "      <th>1153</th>\n",
       "      <td>Web Developer Wordpres</td>\n",
       "      <td>Cbeir</td>\n",
       "      <td>Beirut, Lebanon</td>\n",
       "      <td>7/16/21</td>\n",
       "      <td>7</td>\n",
       "      <td>1</td>\n",
       "      <td>NaN</td>\n",
       "      <td>NaN</td>\n",
       "      <td>NaN</td>\n",
       "      <td>NaN</td>\n",
       "      <td>NaN</td>\n",
       "      <td>NaN</td>\n",
       "      <td>NaN</td>\n",
       "      <td>NaN</td>\n",
       "    </tr>\n",
       "    <tr>\n",
       "      <th>1154</th>\n",
       "      <td>Web Graphic Designer</td>\n",
       "      <td>Medica Group</td>\n",
       "      <td>Beirut, Lebanon</td>\n",
       "      <td>7/14/21</td>\n",
       "      <td>7</td>\n",
       "      <td>1</td>\n",
       "      <td>NaN</td>\n",
       "      <td>NaN</td>\n",
       "      <td>NaN</td>\n",
       "      <td>NaN</td>\n",
       "      <td>NaN</td>\n",
       "      <td>NaN</td>\n",
       "      <td>NaN</td>\n",
       "      <td>NaN</td>\n",
       "    </tr>\n",
       "    <tr>\n",
       "      <th>1155</th>\n",
       "      <td>Website Content Writer</td>\n",
       "      <td>Podeo</td>\n",
       "      <td>Beirut, Beirut, Lebanon</td>\n",
       "      <td>8/4/21</td>\n",
       "      <td>8</td>\n",
       "      <td>1</td>\n",
       "      <td>NaN</td>\n",
       "      <td>NaN</td>\n",
       "      <td>NaN</td>\n",
       "      <td>NaN</td>\n",
       "      <td>NaN</td>\n",
       "      <td>NaN</td>\n",
       "      <td>NaN</td>\n",
       "      <td>NaN</td>\n",
       "    </tr>\n",
       "    <tr>\n",
       "      <th>1156</th>\n",
       "      <td>Wpe Case Worker Akkar</td>\n",
       "      <td>International Rescue Committee</td>\n",
       "      <td>Marhat Aakkar, Akkar, Lebanon</td>\n",
       "      <td>8/16/21</td>\n",
       "      <td>8</td>\n",
       "      <td>1</td>\n",
       "      <td>NaN</td>\n",
       "      <td>NaN</td>\n",
       "      <td>NaN</td>\n",
       "      <td>NaN</td>\n",
       "      <td>NaN</td>\n",
       "      <td>NaN</td>\n",
       "      <td>NaN</td>\n",
       "      <td>NaN</td>\n",
       "    </tr>\n",
       "  </tbody>\n",
       "</table>\n",
       "</div>"
      ],
      "text/plain": [
       "                   Job Title                         Company  \\\n",
       "1152           Web Developer                          Artech   \n",
       "1153  Web Developer Wordpres                           Cbeir   \n",
       "1154    Web Graphic Designer                    Medica Group   \n",
       "1155  Website Content Writer                          Podeo    \n",
       "1156   Wpe Case Worker Akkar  International Rescue Committee   \n",
       "\n",
       "                           Location     Date  Month  Count  Unnamed: 6  \\\n",
       "1152        Tripoli, North, Lebanon  8/10/21      8      1         NaN   \n",
       "1153                Beirut, Lebanon  7/16/21      7      1         NaN   \n",
       "1154                Beirut, Lebanon  7/14/21      7      1         NaN   \n",
       "1155        Beirut, Beirut, Lebanon   8/4/21      8      1         NaN   \n",
       "1156  Marhat Aakkar, Akkar, Lebanon  8/16/21      8      1         NaN   \n",
       "\n",
       "      Unnamed: 7  Unnamed: 8  Unnamed: 9  Unnamed: 10  Unnamed: 11  \\\n",
       "1152         NaN         NaN         NaN          NaN          NaN   \n",
       "1153         NaN         NaN         NaN          NaN          NaN   \n",
       "1154         NaN         NaN         NaN          NaN          NaN   \n",
       "1155         NaN         NaN         NaN          NaN          NaN   \n",
       "1156         NaN         NaN         NaN          NaN          NaN   \n",
       "\n",
       "      Unnamed: 12  Unnamed: 13  \n",
       "1152          NaN          NaN  \n",
       "1153          NaN          NaN  \n",
       "1154          NaN          NaN  \n",
       "1155          NaN          NaN  \n",
       "1156          NaN          NaN  "
      ]
     },
     "execution_count": 94,
     "metadata": {},
     "output_type": "execute_result"
    }
   ],
   "source": [
    "df_new.tail()"
   ]
  },
  {
   "cell_type": "markdown",
   "metadata": {},
   "source": [
    "# Removing URLs from \"Company\" column"
   ]
  },
  {
   "cell_type": "code",
   "execution_count": 95,
   "metadata": {},
   "outputs": [
    {
     "data": {
      "text/plain": [
       "1152                            Artech\n",
       "1153                             Cbeir\n",
       "1154                      Medica Group\n",
       "1155                            Podeo \n",
       "1156    International Rescue Committee\n",
       "Name: Company, dtype: object"
      ]
     },
     "execution_count": 95,
     "metadata": {},
     "output_type": "execute_result"
    }
   ],
   "source": [
    "# Remove URLS\n",
    "\n",
    "def cleaning_URLs(text):\n",
    "    return re.sub('((www.[^s]+)|(https?://[^s]+))',' ', text)\n",
    "\n",
    "\n",
    "df_new['Company'] = df_new['Company'].apply(lambda msg: cleaning_URLs(msg))\n",
    "df_new['Company'].tail()"
   ]
  },
  {
   "cell_type": "code",
   "execution_count": 96,
   "metadata": {},
   "outputs": [
    {
     "data": {
      "text/html": [
       "<div>\n",
       "<style scoped>\n",
       "    .dataframe tbody tr th:only-of-type {\n",
       "        vertical-align: middle;\n",
       "    }\n",
       "\n",
       "    .dataframe tbody tr th {\n",
       "        vertical-align: top;\n",
       "    }\n",
       "\n",
       "    .dataframe thead th {\n",
       "        text-align: right;\n",
       "    }\n",
       "</style>\n",
       "<table border=\"1\" class=\"dataframe\">\n",
       "  <thead>\n",
       "    <tr style=\"text-align: right;\">\n",
       "      <th></th>\n",
       "      <th>Job Title</th>\n",
       "      <th>Company</th>\n",
       "      <th>Location</th>\n",
       "      <th>Date</th>\n",
       "      <th>Month</th>\n",
       "      <th>Count</th>\n",
       "      <th>Unnamed: 6</th>\n",
       "      <th>Unnamed: 7</th>\n",
       "      <th>Unnamed: 8</th>\n",
       "      <th>Unnamed: 9</th>\n",
       "      <th>Unnamed: 10</th>\n",
       "      <th>Unnamed: 11</th>\n",
       "      <th>Unnamed: 12</th>\n",
       "      <th>Unnamed: 13</th>\n",
       "    </tr>\n",
       "  </thead>\n",
       "  <tbody>\n",
       "    <tr>\n",
       "      <th>0</th>\n",
       "      <td>Net Full Stack Engineer</td>\n",
       "      <td>Microtech Solutions SAL</td>\n",
       "      <td>Beirut, Beirut, Lebanon</td>\n",
       "      <td>8/3/21</td>\n",
       "      <td>8</td>\n",
       "      <td>1</td>\n",
       "      <td>NaN</td>\n",
       "      <td>NaN</td>\n",
       "      <td>NaN</td>\n",
       "      <td>NaN</td>\n",
       "      <td>NaN</td>\n",
       "      <td>NaN</td>\n",
       "      <td>NaN</td>\n",
       "      <td>NaN</td>\n",
       "    </tr>\n",
       "    <tr>\n",
       "      <th>1</th>\n",
       "      <td>Human Resources Coordinators Bekaa Bml North S...</td>\n",
       "      <td>Nrc Europe Norwegian Refugee Council</td>\n",
       "      <td>Beirut, Beirut, Lebanon</td>\n",
       "      <td>8/20/21</td>\n",
       "      <td>8</td>\n",
       "      <td>1</td>\n",
       "      <td>NaN</td>\n",
       "      <td>NaN</td>\n",
       "      <td>NaN</td>\n",
       "      <td>NaN</td>\n",
       "      <td>NaN</td>\n",
       "      <td>NaN</td>\n",
       "      <td>NaN</td>\n",
       "      <td>NaN</td>\n",
       "    </tr>\n",
       "    <tr>\n",
       "      <th>2</th>\n",
       "      <td>Experienced Angular Software Engineer</td>\n",
       "      <td>Rubix Partner For Digital Business</td>\n",
       "      <td>Lebanon</td>\n",
       "      <td>8/20/21</td>\n",
       "      <td>8</td>\n",
       "      <td>1</td>\n",
       "      <td>NaN</td>\n",
       "      <td>NaN</td>\n",
       "      <td>NaN</td>\n",
       "      <td>NaN</td>\n",
       "      <td>NaN</td>\n",
       "      <td>NaN</td>\n",
       "      <td>NaN</td>\n",
       "      <td>NaN</td>\n",
       "    </tr>\n",
       "    <tr>\n",
       "      <th>3</th>\n",
       "      <td>Experienced Angular Software Engineer</td>\n",
       "      <td>Rubix Partner For Digital Business</td>\n",
       "      <td>Beirut, Lebanon</td>\n",
       "      <td>8/19/21</td>\n",
       "      <td>8</td>\n",
       "      <td>1</td>\n",
       "      <td>NaN</td>\n",
       "      <td>NaN</td>\n",
       "      <td>NaN</td>\n",
       "      <td>NaN</td>\n",
       "      <td>NaN</td>\n",
       "      <td>NaN</td>\n",
       "      <td>NaN</td>\n",
       "      <td>NaN</td>\n",
       "    </tr>\n",
       "    <tr>\n",
       "      <th>4</th>\n",
       "      <td>Senior Android Developer FullTime</td>\n",
       "      <td>Toptal</td>\n",
       "      <td>Tyre, South, Lebanon</td>\n",
       "      <td>8/18/21</td>\n",
       "      <td>8</td>\n",
       "      <td>1</td>\n",
       "      <td>NaN</td>\n",
       "      <td>NaN</td>\n",
       "      <td>NaN</td>\n",
       "      <td>NaN</td>\n",
       "      <td>NaN</td>\n",
       "      <td>NaN</td>\n",
       "      <td>NaN</td>\n",
       "      <td>NaN</td>\n",
       "    </tr>\n",
       "  </tbody>\n",
       "</table>\n",
       "</div>"
      ],
      "text/plain": [
       "                                           Job Title  \\\n",
       "0                            Net Full Stack Engineer   \n",
       "1  Human Resources Coordinators Bekaa Bml North S...   \n",
       "2              Experienced Angular Software Engineer   \n",
       "3              Experienced Angular Software Engineer   \n",
       "4                  Senior Android Developer FullTime   \n",
       "\n",
       "                                Company                 Location     Date  \\\n",
       "0               Microtech Solutions SAL  Beirut, Beirut, Lebanon   8/3/21   \n",
       "1  Nrc Europe Norwegian Refugee Council  Beirut, Beirut, Lebanon  8/20/21   \n",
       "2    Rubix Partner For Digital Business                  Lebanon  8/20/21   \n",
       "3    Rubix Partner For Digital Business          Beirut, Lebanon  8/19/21   \n",
       "4                                Toptal     Tyre, South, Lebanon  8/18/21   \n",
       "\n",
       "   Month  Count  Unnamed: 6  Unnamed: 7  Unnamed: 8  Unnamed: 9  Unnamed: 10  \\\n",
       "0      8      1         NaN         NaN         NaN         NaN          NaN   \n",
       "1      8      1         NaN         NaN         NaN         NaN          NaN   \n",
       "2      8      1         NaN         NaN         NaN         NaN          NaN   \n",
       "3      8      1         NaN         NaN         NaN         NaN          NaN   \n",
       "4      8      1         NaN         NaN         NaN         NaN          NaN   \n",
       "\n",
       "   Unnamed: 11  Unnamed: 12  Unnamed: 13  \n",
       "0          NaN          NaN          NaN  \n",
       "1          NaN          NaN          NaN  \n",
       "2          NaN          NaN          NaN  \n",
       "3          NaN          NaN          NaN  \n",
       "4          NaN          NaN          NaN  "
      ]
     },
     "execution_count": 96,
     "metadata": {},
     "output_type": "execute_result"
    }
   ],
   "source": [
    "df_new.head()"
   ]
  },
  {
   "cell_type": "markdown",
   "metadata": {},
   "source": [
    "# Location Column"
   ]
  },
  {
   "cell_type": "code",
   "execution_count": 122,
   "metadata": {},
   "outputs": [
    {
     "data": {
      "text/plain": [
       "array(['Å\\x9eÅ«r, South, Lebanon',\n",
       "       'Adma Et Dafna, Mount Lebanon, Lebanon',\n",
       "       'AdonÄ«s, Mount Lebanon, Lebanon', 'Ain Baal, South, Lebanon',\n",
       "       'Ain El Rommane, Mount Lebanon, Lebanon',\n",
       "       'Ain Saade, Mount Lebanon, Lebanon',\n",
       "       'Antelias, Mount Lebanon, Lebanon',\n",
       "       'Aramoune, Mount Lebanon, Lebanon',\n",
       "       'Baabda, Mount Lebanon, Lebanon',\n",
       "       'Baaqline, Mount Lebanon, Lebanon',\n",
       "       'Bchamoun, Mount Lebanon, Lebanon',\n",
       "       'Beirut Central District, Beirut, Lebanon',\n",
       "       'Beirut, Beirut, Lebanon', 'Beirut, Lebanon', 'Beqaa, Lebanon',\n",
       "       'Beyrouth, Beirut, Lebanon',\n",
       "       'Borj Hammoud, Mount Lebanon, Lebanon',\n",
       "       'Bqaatouta, Mount Lebanon, Lebanon',\n",
       "       'Broummana, Mount Lebanon, Lebanon',\n",
       "       'Dbaiyeh, Mount Lebanon, Lebanon',\n",
       "       'Ed Dekouane, Mount Lebanon, Lebanon',\n",
       "       'El Mkalless, Mount Lebanon, Lebanon', 'Erkay, South, Lebanon',\n",
       "       'Falougha, Mount Lebanon, Lebanon',\n",
       "       'Forn Ech Chebbak, Mount Lebanon, Lebanon',\n",
       "       'Ghazir, Mount Lebanon, Lebanon', 'Ghaziye, South, Lebanon',\n",
       "       'Halate, Mount Lebanon, Lebanon', 'Hazmiye, North, Lebanon',\n",
       "       'JÅ«niyah, Mount Lebanon, Lebanon',\n",
       "       'Jall Ed Dib, Mount Lebanon, Lebanon',\n",
       "       'Jbeil District, Mount Lebanon, Lebanon',\n",
       "       'Jdaide, Mount Lebanon, Lebanon', 'Jeita, Mount Lebanon, Lebanon',\n",
       "       'Jubayl, Mount Lebanon, Lebanon',\n",
       "       'Keserwan District, Mount Lebanon, Lebanon',\n",
       "       'Kesrwan, Mount Lebanon, Lebanon', 'Lebanon',\n",
       "       'Majdel Koura, North, Lebanon',\n",
       "       'Mansouriye, Mount Lebanon, Lebanon',\n",
       "       'Mar Roukouz Et Dahr El Hssaine, Mount Lebanon, Lebanon',\n",
       "       'Marhat Aakkar, Akkar, Lebanon',\n",
       "       'Matn District, Mount Lebanon, Lebanon', 'Mount Lebanon, Lebanon',\n",
       "       'Mount Lebanon, Mount Lebanon, Lebanon', 'North, Lebanon',\n",
       "       'Ouata Amaret Chalhoub, Mount Lebanon, Lebanon',\n",
       "       'Raifoun, Mount Lebanon, Lebanon',\n",
       "       'Remhala, Mount Lebanon, Lebanon',\n",
       "       'Saida Dekerman, South, Lebanon', 'Saida Ville, South, Lebanon',\n",
       "       'Saida, South, Lebanon', 'Sarba, Mount Lebanon, Lebanon',\n",
       "       'Sidon, South, Lebanon', 'Sinn El Fil, Mount Lebanon, Lebanon',\n",
       "       'South, Lebanon', 'Taanayel, Beqaa, Lebanon',\n",
       "       'Tikrit, Akkar, Lebanon', 'Tripoli, North, Lebanon',\n",
       "       'Tyre District, South, Lebanon', 'Tyre, South, Lebanon',\n",
       "       'Zahle, Beqaa, Lebanon', 'Zalqa, Mount Lebanon, Lebanon',\n",
       "       'Zgharta, North, Lebanon', 'Zouk Mkayel, Mount Lebanon, Lebanon'],\n",
       "      dtype=object)"
      ]
     },
     "execution_count": 122,
     "metadata": {},
     "output_type": "execute_result"
    }
   ],
   "source": [
    "#check all the different locations\n",
    "df_new['Location'].unique()"
   ]
  },
  {
   "cell_type": "markdown",
   "metadata": {},
   "source": [
    "In the “location” column, I had to group locations that are the same but written differently together. For example, some jobs were written that they are located in “Beirut, Lebanon” and other jobs were written that they are located in “Beyrouthe, Lebanon”. Since these two locations are the same, I had to group them. Therefore, using NLP and regex I found all locations that are in Beirut and changed their location name to “Beirut, Lebanon”. I did the same for Mount Lebanon, North Lebanon, Beqaa, South Lebanon… "
   ]
  },
  {
   "cell_type": "code",
   "execution_count": 123,
   "metadata": {},
   "outputs": [
    {
     "data": {
      "text/plain": [
       "1152    Zouk Mkayel, Mount Lebanon, Lebanon\n",
       "1153    Zouk Mkayel, Mount Lebanon, Lebanon\n",
       "1154    Zouk Mkayel, Mount Lebanon, Lebanon\n",
       "1155    Zouk Mkayel, Mount Lebanon, Lebanon\n",
       "1156    Zouk Mkayel, Mount Lebanon, Lebanon\n",
       "Name: Location, dtype: object"
      ]
     },
     "execution_count": 123,
     "metadata": {},
     "output_type": "execute_result"
    }
   ],
   "source": [
    "#BEIRUT\n",
    "#transform any other beirut forms to \"Beirut, Lebanon\"\n",
    "\n",
    "def cleaning_location(text):\n",
    "    return re.sub(r'.+\\bBeirut, Lebanon\\b','Beirut, Lebanon', text)\n",
    "\n",
    "\n",
    "df_new['Location'] = df_new['Location'].apply(lambda msg: cleaning_location(msg))\n",
    "df_new['Location'].tail()"
   ]
  },
  {
   "cell_type": "code",
   "execution_count": 124,
   "metadata": {},
   "outputs": [
    {
     "data": {
      "text/plain": [
       "array(['Å\\x9eÅ«r, South, Lebanon',\n",
       "       'Adma Et Dafna, Mount Lebanon, Lebanon',\n",
       "       'AdonÄ«s, Mount Lebanon, Lebanon', 'Ain Baal, South, Lebanon',\n",
       "       'Ain El Rommane, Mount Lebanon, Lebanon',\n",
       "       'Ain Saade, Mount Lebanon, Lebanon',\n",
       "       'Antelias, Mount Lebanon, Lebanon',\n",
       "       'Aramoune, Mount Lebanon, Lebanon',\n",
       "       'Baabda, Mount Lebanon, Lebanon',\n",
       "       'Baaqline, Mount Lebanon, Lebanon',\n",
       "       'Bchamoun, Mount Lebanon, Lebanon', 'Beirut, Lebanon',\n",
       "       'Beqaa, Lebanon', 'Borj Hammoud, Mount Lebanon, Lebanon',\n",
       "       'Bqaatouta, Mount Lebanon, Lebanon',\n",
       "       'Broummana, Mount Lebanon, Lebanon',\n",
       "       'Dbaiyeh, Mount Lebanon, Lebanon',\n",
       "       'Ed Dekouane, Mount Lebanon, Lebanon',\n",
       "       'El Mkalless, Mount Lebanon, Lebanon', 'Erkay, South, Lebanon',\n",
       "       'Falougha, Mount Lebanon, Lebanon',\n",
       "       'Forn Ech Chebbak, Mount Lebanon, Lebanon',\n",
       "       'Ghazir, Mount Lebanon, Lebanon', 'Ghaziye, South, Lebanon',\n",
       "       'Halate, Mount Lebanon, Lebanon', 'Hazmiye, North, Lebanon',\n",
       "       'JÅ«niyah, Mount Lebanon, Lebanon',\n",
       "       'Jall Ed Dib, Mount Lebanon, Lebanon',\n",
       "       'Jbeil District, Mount Lebanon, Lebanon',\n",
       "       'Jdaide, Mount Lebanon, Lebanon', 'Jeita, Mount Lebanon, Lebanon',\n",
       "       'Jubayl, Mount Lebanon, Lebanon',\n",
       "       'Keserwan District, Mount Lebanon, Lebanon',\n",
       "       'Kesrwan, Mount Lebanon, Lebanon', 'Lebanon',\n",
       "       'Majdel Koura, North, Lebanon',\n",
       "       'Mansouriye, Mount Lebanon, Lebanon',\n",
       "       'Mar Roukouz Et Dahr El Hssaine, Mount Lebanon, Lebanon',\n",
       "       'Marhat Aakkar, Akkar, Lebanon',\n",
       "       'Matn District, Mount Lebanon, Lebanon', 'Mount Lebanon, Lebanon',\n",
       "       'Mount Lebanon, Mount Lebanon, Lebanon', 'North, Lebanon',\n",
       "       'Ouata Amaret Chalhoub, Mount Lebanon, Lebanon',\n",
       "       'Raifoun, Mount Lebanon, Lebanon',\n",
       "       'Remhala, Mount Lebanon, Lebanon',\n",
       "       'Saida Dekerman, South, Lebanon', 'Saida Ville, South, Lebanon',\n",
       "       'Saida, South, Lebanon', 'Sarba, Mount Lebanon, Lebanon',\n",
       "       'Sidon, South, Lebanon', 'Sinn El Fil, Mount Lebanon, Lebanon',\n",
       "       'South, Lebanon', 'Taanayel, Beqaa, Lebanon',\n",
       "       'Tikrit, Akkar, Lebanon', 'Tripoli, North, Lebanon',\n",
       "       'Tyre District, South, Lebanon', 'Tyre, South, Lebanon',\n",
       "       'Zahle, Beqaa, Lebanon', 'Zalqa, Mount Lebanon, Lebanon',\n",
       "       'Zgharta, North, Lebanon', 'Zouk Mkayel, Mount Lebanon, Lebanon'],\n",
       "      dtype=object)"
      ]
     },
     "execution_count": 124,
     "metadata": {},
     "output_type": "execute_result"
    }
   ],
   "source": [
    "df_new['Location'].unique()"
   ]
  },
  {
   "cell_type": "markdown",
   "metadata": {},
   "source": [
    "As we can see above, all the Beirut locations that were names differently are now named as \"Beirut, Lebanon\" "
   ]
  },
  {
   "cell_type": "code",
   "execution_count": 125,
   "metadata": {},
   "outputs": [
    {
     "data": {
      "text/plain": [
       "1152    Mount Lebanon, Lebanon\n",
       "1153    Mount Lebanon, Lebanon\n",
       "1154    Mount Lebanon, Lebanon\n",
       "1155    Mount Lebanon, Lebanon\n",
       "1156    Mount Lebanon, Lebanon\n",
       "Name: Location, dtype: object"
      ]
     },
     "execution_count": 125,
     "metadata": {},
     "output_type": "execute_result"
    }
   ],
   "source": [
    "#Mount Lebanon\n",
    "#transform any other Mount Lebanon forms to \"Mount Lebanon, Lebanon\"\n",
    "def cleaning_location(text):\n",
    "    return re.sub(r'.+\\bMount Lebanon, Lebanon\\b','Mount Lebanon, Lebanon', text)\n",
    "\n",
    "\n",
    "df_new['Location'] = df_new['Location'].apply(lambda msg: cleaning_location(msg))\n",
    "df_new['Location'].tail()"
   ]
  },
  {
   "cell_type": "code",
   "execution_count": 126,
   "metadata": {},
   "outputs": [
    {
     "data": {
      "text/plain": [
       "1152    Mount Lebanon, Lebanon\n",
       "1153    Mount Lebanon, Lebanon\n",
       "1154    Mount Lebanon, Lebanon\n",
       "1155    Mount Lebanon, Lebanon\n",
       "1156    Mount Lebanon, Lebanon\n",
       "Name: Location, dtype: object"
      ]
     },
     "execution_count": 126,
     "metadata": {},
     "output_type": "execute_result"
    }
   ],
   "source": [
    "#South Lebanon\n",
    "def cleaning_location(text):\n",
    "    return re.sub(r'.+\\bSouth, Lebanon\\b','South, Lebanon', text)\n",
    "df_new['Location'] = df_new['Location'].apply(lambda msg: cleaning_location(msg))\n",
    "df_new['Location'].tail()"
   ]
  },
  {
   "cell_type": "code",
   "execution_count": 127,
   "metadata": {},
   "outputs": [
    {
     "data": {
      "text/plain": [
       "1152    Mount Lebanon, Lebanon\n",
       "1153    Mount Lebanon, Lebanon\n",
       "1154    Mount Lebanon, Lebanon\n",
       "1155    Mount Lebanon, Lebanon\n",
       "1156    Mount Lebanon, Lebanon\n",
       "Name: Location, dtype: object"
      ]
     },
     "execution_count": 127,
     "metadata": {},
     "output_type": "execute_result"
    }
   ],
   "source": [
    "#North Lebanon\n",
    "def cleaning_location(text):\n",
    "    return re.sub(r'.+\\bNorth, Lebanon\\b','North, Lebanon', text)\n",
    "df_new['Location'] = df_new['Location'].apply(lambda msg: cleaning_location(msg))\n",
    "df_new['Location'].tail()"
   ]
  },
  {
   "cell_type": "code",
   "execution_count": 130,
   "metadata": {},
   "outputs": [
    {
     "data": {
      "text/plain": [
       "1152    Mount Lebanon, Lebanon\n",
       "1153    Mount Lebanon, Lebanon\n",
       "1154    Mount Lebanon, Lebanon\n",
       "1155    Mount Lebanon, Lebanon\n",
       "1156    Mount Lebanon, Lebanon\n",
       "Name: Location, dtype: object"
      ]
     },
     "execution_count": 130,
     "metadata": {},
     "output_type": "execute_result"
    }
   ],
   "source": [
    "#Beqaa Lebanon\n",
    "def cleaning_location(text):\n",
    "    return re.sub(r'.+\\bBeqaa, Lebanon\\b','Beqaa, Lebanon', text)\n",
    "df_new['Location'] = df_new['Location'].apply(lambda msg: cleaning_location(msg))\n",
    "df_new['Location'].tail()"
   ]
  },
  {
   "cell_type": "code",
   "execution_count": 131,
   "metadata": {},
   "outputs": [
    {
     "data": {
      "text/plain": [
       "1152    Mount Lebanon, Lebanon\n",
       "1153    Mount Lebanon, Lebanon\n",
       "1154    Mount Lebanon, Lebanon\n",
       "1155    Mount Lebanon, Lebanon\n",
       "1156    Mount Lebanon, Lebanon\n",
       "Name: Location, dtype: object"
      ]
     },
     "execution_count": 131,
     "metadata": {},
     "output_type": "execute_result"
    }
   ],
   "source": [
    "#Nabatiye Lebanon\n",
    "def cleaning_location(text):\n",
    "    return re.sub(r'.+\\bNabatiye, Lebanon\\b','Nabatiye, Lebanon', text)\n",
    "df_new['Location'] = df_new['Location'].apply(lambda msg: cleaning_location(msg))\n",
    "df_new['Location'].tail()"
   ]
  },
  {
   "cell_type": "code",
   "execution_count": 132,
   "metadata": {},
   "outputs": [
    {
     "data": {
      "text/plain": [
       "1152    Mount Lebanon, Lebanon\n",
       "1153    Mount Lebanon, Lebanon\n",
       "1154    Mount Lebanon, Lebanon\n",
       "1155    Mount Lebanon, Lebanon\n",
       "1156    Mount Lebanon, Lebanon\n",
       "Name: Location, dtype: object"
      ]
     },
     "execution_count": 132,
     "metadata": {},
     "output_type": "execute_result"
    }
   ],
   "source": [
    "#Akkar Lebanon\n",
    "def cleaning_location(text):\n",
    "    return re.sub(r'.+\\bAkkar, Lebanon\\b','Akkar, Lebanon', text)\n",
    "df_new['Location'] = df_new['Location'].apply(lambda msg: cleaning_location(msg))\n",
    "df_new['Location'].tail()"
   ]
  },
  {
   "cell_type": "code",
   "execution_count": 133,
   "metadata": {},
   "outputs": [
    {
     "data": {
      "text/plain": [
       "array(['South, Lebanon', 'Mount Lebanon, Lebanon', 'Beirut, Lebanon',\n",
       "       'Beqaa, Lebanon', 'North, Lebanon', 'Lebanon', 'Akkar, Lebanon'],\n",
       "      dtype=object)"
      ]
     },
     "execution_count": 133,
     "metadata": {},
     "output_type": "execute_result"
    }
   ],
   "source": [
    "df_new['Location'].unique()"
   ]
  },
  {
   "cell_type": "code",
   "execution_count": 134,
   "metadata": {},
   "outputs": [
    {
     "data": {
      "text/plain": [
       "array(['South, Lebanon', 'Mount Lebanon, Lebanon', 'Beirut, Lebanon',\n",
       "       'Beqaa, Lebanon', 'North, Lebanon', 'Akkar, Lebanon'], dtype=object)"
      ]
     },
     "execution_count": 134,
     "metadata": {},
     "output_type": "execute_result"
    }
   ],
   "source": [
    "#There's location only 'Lebanon' without the city name. We have drop it for better analysis later on\n",
    "df_new.drop(df_new.index[df_new['Location'] == 'Lebanon'], inplace = True)\n",
    "df_new['Location'].unique()"
   ]
  },
  {
   "cell_type": "markdown",
   "metadata": {},
   "source": [
    "# Create a new column that groups similar job positions together"
   ]
  },
  {
   "cell_type": "markdown",
   "metadata": {},
   "source": [
    "For example, this column will assign \"graphic designer\" to \"uixi graphic designer\", \"graphic designer adobe\"... "
   ]
  },
  {
   "cell_type": "code",
   "execution_count": 233,
   "metadata": {},
   "outputs": [],
   "source": [
    "import pandas as pd\n",
    "import numpy as np\n",
    "import plotly.graph_objects as go\n",
    "import plotly.offline as py"
   ]
  },
  {
   "cell_type": "code",
   "execution_count": 234,
   "metadata": {},
   "outputs": [
    {
     "name": "stderr",
     "output_type": "stream",
     "text": [
      "<ipython-input-234-e65dcd635695>:2: FutureWarning:\n",
      "\n",
      "The pandas.np module is deprecated and will be removed from pandas in a future version. Import numpy directly instead\n",
      "\n",
      "<ipython-input-234-e65dcd635695>:3: FutureWarning:\n",
      "\n",
      "The pandas.np module is deprecated and will be removed from pandas in a future version. Import numpy directly instead\n",
      "\n",
      "<ipython-input-234-e65dcd635695>:4: FutureWarning:\n",
      "\n",
      "The pandas.np module is deprecated and will be removed from pandas in a future version. Import numpy directly instead\n",
      "\n",
      "<ipython-input-234-e65dcd635695>:5: FutureWarning:\n",
      "\n",
      "The pandas.np module is deprecated and will be removed from pandas in a future version. Import numpy directly instead\n",
      "\n",
      "<ipython-input-234-e65dcd635695>:6: FutureWarning:\n",
      "\n",
      "The pandas.np module is deprecated and will be removed from pandas in a future version. Import numpy directly instead\n",
      "\n",
      "<ipython-input-234-e65dcd635695>:7: FutureWarning:\n",
      "\n",
      "The pandas.np module is deprecated and will be removed from pandas in a future version. Import numpy directly instead\n",
      "\n",
      "<ipython-input-234-e65dcd635695>:8: FutureWarning:\n",
      "\n",
      "The pandas.np module is deprecated and will be removed from pandas in a future version. Import numpy directly instead\n",
      "\n",
      "<ipython-input-234-e65dcd635695>:9: FutureWarning:\n",
      "\n",
      "The pandas.np module is deprecated and will be removed from pandas in a future version. Import numpy directly instead\n",
      "\n",
      "<ipython-input-234-e65dcd635695>:10: FutureWarning:\n",
      "\n",
      "The pandas.np module is deprecated and will be removed from pandas in a future version. Import numpy directly instead\n",
      "\n",
      "<ipython-input-234-e65dcd635695>:11: FutureWarning:\n",
      "\n",
      "The pandas.np module is deprecated and will be removed from pandas in a future version. Import numpy directly instead\n",
      "\n",
      "<ipython-input-234-e65dcd635695>:12: FutureWarning:\n",
      "\n",
      "The pandas.np module is deprecated and will be removed from pandas in a future version. Import numpy directly instead\n",
      "\n",
      "<ipython-input-234-e65dcd635695>:13: FutureWarning:\n",
      "\n",
      "The pandas.np module is deprecated and will be removed from pandas in a future version. Import numpy directly instead\n",
      "\n",
      "<ipython-input-234-e65dcd635695>:14: FutureWarning:\n",
      "\n",
      "The pandas.np module is deprecated and will be removed from pandas in a future version. Import numpy directly instead\n",
      "\n",
      "<ipython-input-234-e65dcd635695>:15: FutureWarning:\n",
      "\n",
      "The pandas.np module is deprecated and will be removed from pandas in a future version. Import numpy directly instead\n",
      "\n",
      "<ipython-input-234-e65dcd635695>:16: FutureWarning:\n",
      "\n",
      "The pandas.np module is deprecated and will be removed from pandas in a future version. Import numpy directly instead\n",
      "\n",
      "<ipython-input-234-e65dcd635695>:17: FutureWarning:\n",
      "\n",
      "The pandas.np module is deprecated and will be removed from pandas in a future version. Import numpy directly instead\n",
      "\n",
      "<ipython-input-234-e65dcd635695>:18: FutureWarning:\n",
      "\n",
      "The pandas.np module is deprecated and will be removed from pandas in a future version. Import numpy directly instead\n",
      "\n",
      "<ipython-input-234-e65dcd635695>:19: FutureWarning:\n",
      "\n",
      "The pandas.np module is deprecated and will be removed from pandas in a future version. Import numpy directly instead\n",
      "\n",
      "<ipython-input-234-e65dcd635695>:20: FutureWarning:\n",
      "\n",
      "The pandas.np module is deprecated and will be removed from pandas in a future version. Import numpy directly instead\n",
      "\n",
      "<ipython-input-234-e65dcd635695>:21: FutureWarning:\n",
      "\n",
      "The pandas.np module is deprecated and will be removed from pandas in a future version. Import numpy directly instead\n",
      "\n",
      "<ipython-input-234-e65dcd635695>:22: FutureWarning:\n",
      "\n",
      "The pandas.np module is deprecated and will be removed from pandas in a future version. Import numpy directly instead\n",
      "\n",
      "<ipython-input-234-e65dcd635695>:23: FutureWarning:\n",
      "\n",
      "The pandas.np module is deprecated and will be removed from pandas in a future version. Import numpy directly instead\n",
      "\n",
      "<ipython-input-234-e65dcd635695>:24: FutureWarning:\n",
      "\n",
      "The pandas.np module is deprecated and will be removed from pandas in a future version. Import numpy directly instead\n",
      "\n",
      "<ipython-input-234-e65dcd635695>:25: FutureWarning:\n",
      "\n",
      "The pandas.np module is deprecated and will be removed from pandas in a future version. Import numpy directly instead\n",
      "\n",
      "<ipython-input-234-e65dcd635695>:26: FutureWarning:\n",
      "\n",
      "The pandas.np module is deprecated and will be removed from pandas in a future version. Import numpy directly instead\n",
      "\n",
      "<ipython-input-234-e65dcd635695>:27: FutureWarning:\n",
      "\n",
      "The pandas.np module is deprecated and will be removed from pandas in a future version. Import numpy directly instead\n",
      "\n",
      "<ipython-input-234-e65dcd635695>:28: FutureWarning:\n",
      "\n",
      "The pandas.np module is deprecated and will be removed from pandas in a future version. Import numpy directly instead\n",
      "\n",
      "<ipython-input-234-e65dcd635695>:29: FutureWarning:\n",
      "\n",
      "The pandas.np module is deprecated and will be removed from pandas in a future version. Import numpy directly instead\n",
      "\n",
      "<ipython-input-234-e65dcd635695>:30: FutureWarning:\n",
      "\n",
      "The pandas.np module is deprecated and will be removed from pandas in a future version. Import numpy directly instead\n",
      "\n",
      "<ipython-input-234-e65dcd635695>:31: FutureWarning:\n",
      "\n",
      "The pandas.np module is deprecated and will be removed from pandas in a future version. Import numpy directly instead\n",
      "\n",
      "<ipython-input-234-e65dcd635695>:32: FutureWarning:\n",
      "\n",
      "The pandas.np module is deprecated and will be removed from pandas in a future version. Import numpy directly instead\n",
      "\n",
      "<ipython-input-234-e65dcd635695>:33: FutureWarning:\n",
      "\n",
      "The pandas.np module is deprecated and will be removed from pandas in a future version. Import numpy directly instead\n",
      "\n",
      "<ipython-input-234-e65dcd635695>:34: FutureWarning:\n",
      "\n",
      "The pandas.np module is deprecated and will be removed from pandas in a future version. Import numpy directly instead\n",
      "\n",
      "<ipython-input-234-e65dcd635695>:35: FutureWarning:\n",
      "\n",
      "The pandas.np module is deprecated and will be removed from pandas in a future version. Import numpy directly instead\n",
      "\n",
      "<ipython-input-234-e65dcd635695>:36: FutureWarning:\n",
      "\n",
      "The pandas.np module is deprecated and will be removed from pandas in a future version. Import numpy directly instead\n",
      "\n",
      "<ipython-input-234-e65dcd635695>:37: FutureWarning:\n",
      "\n",
      "The pandas.np module is deprecated and will be removed from pandas in a future version. Import numpy directly instead\n",
      "\n",
      "<ipython-input-234-e65dcd635695>:38: FutureWarning:\n",
      "\n",
      "The pandas.np module is deprecated and will be removed from pandas in a future version. Import numpy directly instead\n",
      "\n",
      "<ipython-input-234-e65dcd635695>:39: FutureWarning:\n",
      "\n",
      "The pandas.np module is deprecated and will be removed from pandas in a future version. Import numpy directly instead\n",
      "\n",
      "<ipython-input-234-e65dcd635695>:40: FutureWarning:\n",
      "\n",
      "The pandas.np module is deprecated and will be removed from pandas in a future version. Import numpy directly instead\n",
      "\n",
      "<ipython-input-234-e65dcd635695>:41: FutureWarning:\n",
      "\n",
      "The pandas.np module is deprecated and will be removed from pandas in a future version. Import numpy directly instead\n",
      "\n",
      "<ipython-input-234-e65dcd635695>:42: FutureWarning:\n",
      "\n",
      "The pandas.np module is deprecated and will be removed from pandas in a future version. Import numpy directly instead\n",
      "\n",
      "<ipython-input-234-e65dcd635695>:43: FutureWarning:\n",
      "\n",
      "The pandas.np module is deprecated and will be removed from pandas in a future version. Import numpy directly instead\n",
      "\n",
      "<ipython-input-234-e65dcd635695>:44: FutureWarning:\n",
      "\n",
      "The pandas.np module is deprecated and will be removed from pandas in a future version. Import numpy directly instead\n",
      "\n",
      "<ipython-input-234-e65dcd635695>:45: FutureWarning:\n",
      "\n",
      "The pandas.np module is deprecated and will be removed from pandas in a future version. Import numpy directly instead\n",
      "\n",
      "<ipython-input-234-e65dcd635695>:46: FutureWarning:\n",
      "\n",
      "The pandas.np module is deprecated and will be removed from pandas in a future version. Import numpy directly instead\n",
      "\n",
      "<ipython-input-234-e65dcd635695>:47: FutureWarning:\n",
      "\n",
      "The pandas.np module is deprecated and will be removed from pandas in a future version. Import numpy directly instead\n",
      "\n",
      "<ipython-input-234-e65dcd635695>:48: FutureWarning:\n",
      "\n",
      "The pandas.np module is deprecated and will be removed from pandas in a future version. Import numpy directly instead\n",
      "\n",
      "<ipython-input-234-e65dcd635695>:49: FutureWarning:\n",
      "\n",
      "The pandas.np module is deprecated and will be removed from pandas in a future version. Import numpy directly instead\n",
      "\n",
      "<ipython-input-234-e65dcd635695>:50: FutureWarning:\n",
      "\n",
      "The pandas.np module is deprecated and will be removed from pandas in a future version. Import numpy directly instead\n",
      "\n",
      "<ipython-input-234-e65dcd635695>:51: FutureWarning:\n",
      "\n",
      "The pandas.np module is deprecated and will be removed from pandas in a future version. Import numpy directly instead\n",
      "\n",
      "<ipython-input-234-e65dcd635695>:52: FutureWarning:\n",
      "\n",
      "The pandas.np module is deprecated and will be removed from pandas in a future version. Import numpy directly instead\n",
      "\n",
      "<ipython-input-234-e65dcd635695>:53: FutureWarning:\n",
      "\n",
      "The pandas.np module is deprecated and will be removed from pandas in a future version. Import numpy directly instead\n",
      "\n",
      "<ipython-input-234-e65dcd635695>:54: FutureWarning:\n",
      "\n",
      "The pandas.np module is deprecated and will be removed from pandas in a future version. Import numpy directly instead\n",
      "\n",
      "<ipython-input-234-e65dcd635695>:55: FutureWarning:\n",
      "\n",
      "The pandas.np module is deprecated and will be removed from pandas in a future version. Import numpy directly instead\n",
      "\n",
      "<ipython-input-234-e65dcd635695>:56: FutureWarning:\n",
      "\n",
      "The pandas.np module is deprecated and will be removed from pandas in a future version. Import numpy directly instead\n",
      "\n",
      "<ipython-input-234-e65dcd635695>:57: FutureWarning:\n",
      "\n",
      "The pandas.np module is deprecated and will be removed from pandas in a future version. Import numpy directly instead\n",
      "\n",
      "<ipython-input-234-e65dcd635695>:58: FutureWarning:\n",
      "\n",
      "The pandas.np module is deprecated and will be removed from pandas in a future version. Import numpy directly instead\n",
      "\n",
      "<ipython-input-234-e65dcd635695>:59: FutureWarning:\n",
      "\n",
      "The pandas.np module is deprecated and will be removed from pandas in a future version. Import numpy directly instead\n",
      "\n",
      "<ipython-input-234-e65dcd635695>:60: FutureWarning:\n",
      "\n",
      "The pandas.np module is deprecated and will be removed from pandas in a future version. Import numpy directly instead\n",
      "\n",
      "<ipython-input-234-e65dcd635695>:61: FutureWarning:\n",
      "\n",
      "The pandas.np module is deprecated and will be removed from pandas in a future version. Import numpy directly instead\n",
      "\n",
      "<ipython-input-234-e65dcd635695>:62: FutureWarning:\n",
      "\n",
      "The pandas.np module is deprecated and will be removed from pandas in a future version. Import numpy directly instead\n",
      "\n",
      "<ipython-input-234-e65dcd635695>:63: FutureWarning:\n",
      "\n",
      "The pandas.np module is deprecated and will be removed from pandas in a future version. Import numpy directly instead\n",
      "\n",
      "<ipython-input-234-e65dcd635695>:64: FutureWarning:\n",
      "\n",
      "The pandas.np module is deprecated and will be removed from pandas in a future version. Import numpy directly instead\n",
      "\n",
      "<ipython-input-234-e65dcd635695>:65: FutureWarning:\n",
      "\n",
      "The pandas.np module is deprecated and will be removed from pandas in a future version. Import numpy directly instead\n",
      "\n",
      "<ipython-input-234-e65dcd635695>:66: FutureWarning:\n",
      "\n",
      "The pandas.np module is deprecated and will be removed from pandas in a future version. Import numpy directly instead\n",
      "\n",
      "<ipython-input-234-e65dcd635695>:67: FutureWarning:\n",
      "\n",
      "The pandas.np module is deprecated and will be removed from pandas in a future version. Import numpy directly instead\n",
      "\n",
      "<ipython-input-234-e65dcd635695>:68: FutureWarning:\n",
      "\n",
      "The pandas.np module is deprecated and will be removed from pandas in a future version. Import numpy directly instead\n",
      "\n",
      "<ipython-input-234-e65dcd635695>:69: FutureWarning:\n",
      "\n",
      "The pandas.np module is deprecated and will be removed from pandas in a future version. Import numpy directly instead\n",
      "\n",
      "<ipython-input-234-e65dcd635695>:70: FutureWarning:\n",
      "\n",
      "The pandas.np module is deprecated and will be removed from pandas in a future version. Import numpy directly instead\n",
      "\n",
      "<ipython-input-234-e65dcd635695>:71: FutureWarning:\n",
      "\n",
      "The pandas.np module is deprecated and will be removed from pandas in a future version. Import numpy directly instead\n",
      "\n",
      "<ipython-input-234-e65dcd635695>:72: FutureWarning:\n",
      "\n",
      "The pandas.np module is deprecated and will be removed from pandas in a future version. Import numpy directly instead\n",
      "\n",
      "<ipython-input-234-e65dcd635695>:73: FutureWarning:\n",
      "\n",
      "The pandas.np module is deprecated and will be removed from pandas in a future version. Import numpy directly instead\n",
      "\n",
      "<ipython-input-234-e65dcd635695>:74: FutureWarning:\n",
      "\n",
      "The pandas.np module is deprecated and will be removed from pandas in a future version. Import numpy directly instead\n",
      "\n",
      "<ipython-input-234-e65dcd635695>:75: FutureWarning:\n",
      "\n",
      "The pandas.np module is deprecated and will be removed from pandas in a future version. Import numpy directly instead\n",
      "\n",
      "<ipython-input-234-e65dcd635695>:76: FutureWarning:\n",
      "\n",
      "The pandas.np module is deprecated and will be removed from pandas in a future version. Import numpy directly instead\n",
      "\n",
      "<ipython-input-234-e65dcd635695>:77: FutureWarning:\n",
      "\n",
      "The pandas.np module is deprecated and will be removed from pandas in a future version. Import numpy directly instead\n",
      "\n",
      "<ipython-input-234-e65dcd635695>:78: FutureWarning:\n",
      "\n",
      "The pandas.np module is deprecated and will be removed from pandas in a future version. Import numpy directly instead\n",
      "\n",
      "<ipython-input-234-e65dcd635695>:79: FutureWarning:\n",
      "\n",
      "The pandas.np module is deprecated and will be removed from pandas in a future version. Import numpy directly instead\n",
      "\n"
     ]
    }
   ],
   "source": [
    "temp= df_new['Job Title'].astype(str)\n",
    "df_new['Category'] = pd.np.where(temp.str.contains(\"Graphic Designer\"), \"Designer\", \n",
    "                 pd.np.where(temp.str.contains(\"Financ\"), \"Finance Specialist\",\n",
    "                 pd.np.where(temp.str.contains(\"Art\"), \"Art\", \n",
    "                 pd.np.where(temp.str.contains(\"Market\"), \"Marketer\", \n",
    "                 pd.np.where(temp.str.contains(\"Teacher\"), \"Teacher\",\n",
    "                 pd.np.where(temp.str.contains(\"Sales\"), \"Sales Person\",\n",
    "                 pd.np.where(temp.str.contains(\"Social Media\"), \"Social Media\",\n",
    "                 pd.np.where(temp.str.contains(\"Develop\"), \"Software Developer\",\n",
    "                 pd.np.where(temp.str.contains(\"Account\"), \"Accountant\",\n",
    "                 pd.np.where(temp.str.contains(\"Therap\"), \"Therapist\",\n",
    "                 pd.np.where(temp.str.contains(\"Analy\"), \"Analyst\",            \n",
    "                 pd.np.where(temp.str.contains(\"Manage\"), \"Manager\",            \n",
    "                 pd.np.where(temp.str.contains(\"Officer\"), \"Officer\",            \n",
    "                 pd.np.where(temp.str.contains(\"Associate\"), \"Associate\",            \n",
    "                 pd.np.where(temp.str.contains(\"Waiter\"), \"Waiter\",\n",
    "                 pd.np.where(temp.str.contains(\"Chef\"), \"Chef\",            \n",
    "                 pd.np.where(temp.str.contains(\"Ai\"), \"Analyst\",            \n",
    "                 pd.np.where(temp.str.contains(\"AI\"), \"Analyst\",            \n",
    "                 pd.np.where(temp.str.contains(\"Videographer\"), \"Cinema\",            \n",
    "                 pd.np.where(temp.str.contains(\"Agent\"), \"Assistant\",            \n",
    "                 pd.np.where(temp.str.contains(\"Consultant\"), \"Consultant\", \n",
    "                 pd.np.where(temp.str.contains(\"Technician\"), \"Technician\",\n",
    "                 pd.np.where(temp.str.contains(\"Assistant\"), \"Assistant\",            \n",
    "                 pd.np.where(temp.str.contains(\"Operator\"), \"Operator\",            \n",
    "                 pd.np.where(temp.str.contains(\"Copywriter\"), \"Copywriter\",            \n",
    "                 pd.np.where(temp.str.contains(\"Pharm\"), \"Pharmacist\",            \n",
    "                 pd.np.where(temp.str.contains(\"Design\"), \"Designer\",            \n",
    "                 pd.np.where(temp.str.contains(\"Buying\"), \"Sales Person\",\n",
    "                 pd.np.where(temp.str.contains(\"Research\"), \"Researcher\",             \n",
    "                 pd.np.where(temp.str.contains(\"Service\"), \"Services\",             \n",
    "                 pd.np.where(temp.str.contains(\"Data\"), \"Analyst\",             \n",
    "                 pd.np.where(temp.str.contains(\"Dermatologist\"), \"Medical Doctor\",\n",
    "                 pd.np.where(temp.str.contains(\"Trade\"), \"Finance Specialist\",            \n",
    "                 pd.np.where(temp.str.contains(\"Education\"), \"Teacher\",            \n",
    "                 pd.np.where(temp.str.contains(\"Technology\"), \"Technology Specialist\",            \n",
    "                 pd.np.where(temp.str.contains(\"Dermatologist\"), \"Medical Doctor\",            \n",
    "                 pd.np.where(temp.str.contains(\"Php\"), \"Pharmacist\",            \n",
    "                 pd.np.where(temp.str.contains(\"Promotion\"), \"Sales Person\",            \n",
    "                 pd.np.where(temp.str.contains(\"Tutor\"), \"Teacher\",            \n",
    "                 pd.np.where(temp.str.contains(\"Executive\"), \"Associate\",            \n",
    "                 pd.np.where(temp.str.contains(\"Associate\"), \"Associate\",            \n",
    "                 pd.np.where(temp.str.contains(\"Instructor\"), \"Teacher\",            \n",
    "                 pd.np.where(temp.str.contains(\"Website Content Writer\"), \"Website Content Writer\",             \n",
    "                 pd.np.where(temp.str.contains(\"Art\"), \"Artist\",            \n",
    "                 pd.np.where(temp.str.contains(\"Hotel\"), \"Hospitality\",            \n",
    "                 pd.np.where(temp.str.contains(\"Human Resource\"), \"Human Resource Specialist\",            \n",
    "                 pd.np.where(temp.str.contains(\"it \"), \"Technology Specialist\",\\\n",
    "                 pd.np.where(temp.str.contains(\"Econ\"), \"Economist\",            \n",
    "                 pd.np.where(temp.str.contains(\"Team Lead\"), \"Manager\",            \n",
    "                 pd.np.where(temp.str.contains(\"Retail\"), \"Sales Person\",             \n",
    "                 pd.np.where(temp.str.contains(\"Auditor\"), \"Accountant\",             \n",
    "                 pd.np.where(temp.str.contains(\"Coordinator\"), \"Coordinator\",             \n",
    "                 pd.np.where(temp.str.contains(\"Director\"), \"Cinema\",             \n",
    "                 pd.np.where(temp.str.contains(\"Auditor\"), \"Accountant\",             \n",
    "                 pd.np.where(temp.str.contains(\"Advisor\"), \"Advisor\",             \n",
    "                 pd.np.where(temp.str.contains(\"Supervisor\"), \"advisor\",\n",
    "                 pd.np.where(temp.str.contains(\"Animator\"), \"Animator\",            \n",
    "                 pd.np.where(temp.str.contains(\"Business\"), \"Business Specialist\",            \n",
    "                 pd.np.where(temp.str.contains(\"Call center\"), \"Call center Representative\",            \n",
    "                 pd.np.where(temp.str.contains(\"Lawyer\"), \"Lawyer\",            \n",
    "                 pd.np.where(temp.str.contains(\"oficer\"), \"Officer\",            \n",
    "                 pd.np.where(temp.str.contains(\"Photographer\"), \"Photographer\",            \n",
    "                 pd.np.where(temp.str.contains(\"Accoun\"), \"Accountant\",            \n",
    "                 pd.np.where(temp.str.contains(\"Asistant\"), \"Assistant\", \n",
    "                 pd.np.where(temp.str.contains(\"Administrator\"), \"Administrator\",            \n",
    "                 pd.np.where(temp.str.contains(\"Advertis\"), \"Advertising Specialist\",            \n",
    "                 pd.np.where(temp.str.contains(\"Editor\"), \"Writer\",            \n",
    "                 pd.np.where(temp.str.contains(\"Writer\"), \"Writer\",            \n",
    "                 pd.np.where(temp.str.contains(\"Computer Science\"), \"Technology Specialist\",            \n",
    "                 pd.np.where(temp.str.contains(\"Asociate\"), \"Associate\",            \n",
    "                 pd.np.where(temp.str.contains(\"Scien\"), \"Scientist\",            \n",
    "                 pd.np.where(temp.str.contains(\"Biolo\"), \"Scientist\",            \n",
    "                 pd.np.where(temp.str.contains(\"Busines\"), \"Business Specialist\",            \n",
    "                 pd.np.where(temp.str.contains(\"Cameraman\"), \"Photographer\",           \n",
    "                 pd.np.where(temp.str.contains(\"Cashier\"), \"Cashier\",            \n",
    "                 pd.np.where(temp.str.contains(\"Clinical\"), \"Clinical Specialist\",            \n",
    "                 pd.np.where(temp.str.contains(\"Communic\"), \"Communication Specialist\",                       \n",
    "                 pd.np.where(temp.str.contains(\"Engine\"), \"Engineer\", \"Other\"))))))))))))))))))))))))))))))))))))))))))))))))))))))))))))))))))))))))))))))\n",
    "           "
   ]
  },
  {
   "cell_type": "code",
   "execution_count": 235,
   "metadata": {},
   "outputs": [],
   "source": [
    "#Drop \"Others\"\n",
    "df_newest = df_new[df_new.Category != 'Other']"
   ]
  },
  {
   "cell_type": "code",
   "execution_count": 236,
   "metadata": {},
   "outputs": [
    {
     "data": {
      "text/plain": [
       "Manager                      128\n",
       "Software Developer           119\n",
       "Sales Person                  75\n",
       "Designer                      73\n",
       "Engineer                      70\n",
       "Analyst                       59\n",
       "Marketer                      57\n",
       "Associate                     40\n",
       "Finance Specialist            35\n",
       "Assistant                     25\n",
       "Consultant                    23\n",
       "Teacher                       21\n",
       "Social Media                  16\n",
       "Officer                       13\n",
       "Chef                          13\n",
       "Writer                        12\n",
       "Services                      12\n",
       "Accountant                    11\n",
       "Art                           11\n",
       "Copywriter                     9\n",
       "advisor                        9\n",
       "Technician                     9\n",
       "Technology Specialist          8\n",
       "Advisor                        7\n",
       "Human Resource Specialist      7\n",
       "Cinema                         7\n",
       "Business Specialist            6\n",
       "Therapist                      5\n",
       "Animator                       5\n",
       "Pharmacist                     5\n",
       "Communication Specialist       4\n",
       "Researcher                     4\n",
       "Coordinator                    4\n",
       "Waiter                         3\n",
       "Administrator                  3\n",
       "Scientist                      2\n",
       "Operator                       2\n",
       "Medical Doctor                 2\n",
       "Cashier                        2\n",
       "Photographer                   2\n",
       "Website Content Writer         1\n",
       "Hospitality                    1\n",
       "Economist                      1\n",
       "Advertising Specialist         1\n",
       "Lawyer                         1\n",
       "Name: Category, dtype: int64"
      ]
     },
     "execution_count": 236,
     "metadata": {},
     "output_type": "execute_result"
    }
   ],
   "source": [
    "df_newest['Category'].value_counts()"
   ]
  },
  {
   "cell_type": "code",
   "execution_count": 237,
   "metadata": {},
   "outputs": [
    {
     "data": {
      "application/vnd.plotly.v1+json": {
       "config": {
        "linkText": "Export to plot.ly",
        "plotlyServerURL": "https://plot.ly",
        "showLink": false
       },
       "data": [
        {
         "type": "bar",
         "x": [
          "Manager",
          "Software Developer",
          "Sales Person",
          "Designer",
          "Engineer",
          "Analyst",
          "Marketer",
          "Associate",
          "Finance Specialist",
          "Assistant",
          "Consultant",
          "Teacher",
          "Social Media",
          "Officer",
          "Chef",
          "Writer",
          "Services",
          "Accountant",
          "Art",
          "Copywriter",
          "advisor",
          "Technician",
          "Technology Specialist",
          "Advisor",
          "Human Resource Specialist",
          "Cinema",
          "Business Specialist",
          "Therapist",
          "Animator",
          "Pharmacist",
          "Communication Specialist",
          "Researcher",
          "Coordinator",
          "Waiter",
          "Administrator",
          "Scientist",
          "Operator",
          "Medical Doctor",
          "Cashier",
          "Photographer",
          "Website Content Writer",
          "Hospitality",
          "Economist",
          "Advertising Specialist",
          "Lawyer"
         ],
         "y": [
          128,
          119,
          75,
          73,
          70,
          59,
          57,
          40,
          35,
          25,
          23,
          21,
          16,
          13,
          13,
          12,
          12,
          11,
          11,
          9,
          9,
          9,
          8,
          7,
          7,
          7,
          6,
          5,
          5,
          5,
          4,
          4,
          4,
          3,
          3,
          2,
          2,
          2,
          2,
          2,
          1,
          1,
          1,
          1,
          1
         ]
        }
       ],
       "layout": {
        "template": {
         "data": {
          "bar": [
           {
            "error_x": {
             "color": "#2a3f5f"
            },
            "error_y": {
             "color": "#2a3f5f"
            },
            "marker": {
             "line": {
              "color": "#E5ECF6",
              "width": 0.5
             }
            },
            "type": "bar"
           }
          ],
          "barpolar": [
           {
            "marker": {
             "line": {
              "color": "#E5ECF6",
              "width": 0.5
             }
            },
            "type": "barpolar"
           }
          ],
          "carpet": [
           {
            "aaxis": {
             "endlinecolor": "#2a3f5f",
             "gridcolor": "white",
             "linecolor": "white",
             "minorgridcolor": "white",
             "startlinecolor": "#2a3f5f"
            },
            "baxis": {
             "endlinecolor": "#2a3f5f",
             "gridcolor": "white",
             "linecolor": "white",
             "minorgridcolor": "white",
             "startlinecolor": "#2a3f5f"
            },
            "type": "carpet"
           }
          ],
          "choropleth": [
           {
            "colorbar": {
             "outlinewidth": 0,
             "ticks": ""
            },
            "type": "choropleth"
           }
          ],
          "contour": [
           {
            "colorbar": {
             "outlinewidth": 0,
             "ticks": ""
            },
            "colorscale": [
             [
              0,
              "#0d0887"
             ],
             [
              0.1111111111111111,
              "#46039f"
             ],
             [
              0.2222222222222222,
              "#7201a8"
             ],
             [
              0.3333333333333333,
              "#9c179e"
             ],
             [
              0.4444444444444444,
              "#bd3786"
             ],
             [
              0.5555555555555556,
              "#d8576b"
             ],
             [
              0.6666666666666666,
              "#ed7953"
             ],
             [
              0.7777777777777778,
              "#fb9f3a"
             ],
             [
              0.8888888888888888,
              "#fdca26"
             ],
             [
              1,
              "#f0f921"
             ]
            ],
            "type": "contour"
           }
          ],
          "contourcarpet": [
           {
            "colorbar": {
             "outlinewidth": 0,
             "ticks": ""
            },
            "type": "contourcarpet"
           }
          ],
          "heatmap": [
           {
            "colorbar": {
             "outlinewidth": 0,
             "ticks": ""
            },
            "colorscale": [
             [
              0,
              "#0d0887"
             ],
             [
              0.1111111111111111,
              "#46039f"
             ],
             [
              0.2222222222222222,
              "#7201a8"
             ],
             [
              0.3333333333333333,
              "#9c179e"
             ],
             [
              0.4444444444444444,
              "#bd3786"
             ],
             [
              0.5555555555555556,
              "#d8576b"
             ],
             [
              0.6666666666666666,
              "#ed7953"
             ],
             [
              0.7777777777777778,
              "#fb9f3a"
             ],
             [
              0.8888888888888888,
              "#fdca26"
             ],
             [
              1,
              "#f0f921"
             ]
            ],
            "type": "heatmap"
           }
          ],
          "heatmapgl": [
           {
            "colorbar": {
             "outlinewidth": 0,
             "ticks": ""
            },
            "colorscale": [
             [
              0,
              "#0d0887"
             ],
             [
              0.1111111111111111,
              "#46039f"
             ],
             [
              0.2222222222222222,
              "#7201a8"
             ],
             [
              0.3333333333333333,
              "#9c179e"
             ],
             [
              0.4444444444444444,
              "#bd3786"
             ],
             [
              0.5555555555555556,
              "#d8576b"
             ],
             [
              0.6666666666666666,
              "#ed7953"
             ],
             [
              0.7777777777777778,
              "#fb9f3a"
             ],
             [
              0.8888888888888888,
              "#fdca26"
             ],
             [
              1,
              "#f0f921"
             ]
            ],
            "type": "heatmapgl"
           }
          ],
          "histogram": [
           {
            "marker": {
             "colorbar": {
              "outlinewidth": 0,
              "ticks": ""
             }
            },
            "type": "histogram"
           }
          ],
          "histogram2d": [
           {
            "colorbar": {
             "outlinewidth": 0,
             "ticks": ""
            },
            "colorscale": [
             [
              0,
              "#0d0887"
             ],
             [
              0.1111111111111111,
              "#46039f"
             ],
             [
              0.2222222222222222,
              "#7201a8"
             ],
             [
              0.3333333333333333,
              "#9c179e"
             ],
             [
              0.4444444444444444,
              "#bd3786"
             ],
             [
              0.5555555555555556,
              "#d8576b"
             ],
             [
              0.6666666666666666,
              "#ed7953"
             ],
             [
              0.7777777777777778,
              "#fb9f3a"
             ],
             [
              0.8888888888888888,
              "#fdca26"
             ],
             [
              1,
              "#f0f921"
             ]
            ],
            "type": "histogram2d"
           }
          ],
          "histogram2dcontour": [
           {
            "colorbar": {
             "outlinewidth": 0,
             "ticks": ""
            },
            "colorscale": [
             [
              0,
              "#0d0887"
             ],
             [
              0.1111111111111111,
              "#46039f"
             ],
             [
              0.2222222222222222,
              "#7201a8"
             ],
             [
              0.3333333333333333,
              "#9c179e"
             ],
             [
              0.4444444444444444,
              "#bd3786"
             ],
             [
              0.5555555555555556,
              "#d8576b"
             ],
             [
              0.6666666666666666,
              "#ed7953"
             ],
             [
              0.7777777777777778,
              "#fb9f3a"
             ],
             [
              0.8888888888888888,
              "#fdca26"
             ],
             [
              1,
              "#f0f921"
             ]
            ],
            "type": "histogram2dcontour"
           }
          ],
          "mesh3d": [
           {
            "colorbar": {
             "outlinewidth": 0,
             "ticks": ""
            },
            "type": "mesh3d"
           }
          ],
          "parcoords": [
           {
            "line": {
             "colorbar": {
              "outlinewidth": 0,
              "ticks": ""
             }
            },
            "type": "parcoords"
           }
          ],
          "pie": [
           {
            "automargin": true,
            "type": "pie"
           }
          ],
          "scatter": [
           {
            "marker": {
             "colorbar": {
              "outlinewidth": 0,
              "ticks": ""
             }
            },
            "type": "scatter"
           }
          ],
          "scatter3d": [
           {
            "line": {
             "colorbar": {
              "outlinewidth": 0,
              "ticks": ""
             }
            },
            "marker": {
             "colorbar": {
              "outlinewidth": 0,
              "ticks": ""
             }
            },
            "type": "scatter3d"
           }
          ],
          "scattercarpet": [
           {
            "marker": {
             "colorbar": {
              "outlinewidth": 0,
              "ticks": ""
             }
            },
            "type": "scattercarpet"
           }
          ],
          "scattergeo": [
           {
            "marker": {
             "colorbar": {
              "outlinewidth": 0,
              "ticks": ""
             }
            },
            "type": "scattergeo"
           }
          ],
          "scattergl": [
           {
            "marker": {
             "colorbar": {
              "outlinewidth": 0,
              "ticks": ""
             }
            },
            "type": "scattergl"
           }
          ],
          "scattermapbox": [
           {
            "marker": {
             "colorbar": {
              "outlinewidth": 0,
              "ticks": ""
             }
            },
            "type": "scattermapbox"
           }
          ],
          "scatterpolar": [
           {
            "marker": {
             "colorbar": {
              "outlinewidth": 0,
              "ticks": ""
             }
            },
            "type": "scatterpolar"
           }
          ],
          "scatterpolargl": [
           {
            "marker": {
             "colorbar": {
              "outlinewidth": 0,
              "ticks": ""
             }
            },
            "type": "scatterpolargl"
           }
          ],
          "scatterternary": [
           {
            "marker": {
             "colorbar": {
              "outlinewidth": 0,
              "ticks": ""
             }
            },
            "type": "scatterternary"
           }
          ],
          "surface": [
           {
            "colorbar": {
             "outlinewidth": 0,
             "ticks": ""
            },
            "colorscale": [
             [
              0,
              "#0d0887"
             ],
             [
              0.1111111111111111,
              "#46039f"
             ],
             [
              0.2222222222222222,
              "#7201a8"
             ],
             [
              0.3333333333333333,
              "#9c179e"
             ],
             [
              0.4444444444444444,
              "#bd3786"
             ],
             [
              0.5555555555555556,
              "#d8576b"
             ],
             [
              0.6666666666666666,
              "#ed7953"
             ],
             [
              0.7777777777777778,
              "#fb9f3a"
             ],
             [
              0.8888888888888888,
              "#fdca26"
             ],
             [
              1,
              "#f0f921"
             ]
            ],
            "type": "surface"
           }
          ],
          "table": [
           {
            "cells": {
             "fill": {
              "color": "#EBF0F8"
             },
             "line": {
              "color": "white"
             }
            },
            "header": {
             "fill": {
              "color": "#C8D4E3"
             },
             "line": {
              "color": "white"
             }
            },
            "type": "table"
           }
          ]
         },
         "layout": {
          "annotationdefaults": {
           "arrowcolor": "#2a3f5f",
           "arrowhead": 0,
           "arrowwidth": 1
          },
          "autotypenumbers": "strict",
          "coloraxis": {
           "colorbar": {
            "outlinewidth": 0,
            "ticks": ""
           }
          },
          "colorscale": {
           "diverging": [
            [
             0,
             "#8e0152"
            ],
            [
             0.1,
             "#c51b7d"
            ],
            [
             0.2,
             "#de77ae"
            ],
            [
             0.3,
             "#f1b6da"
            ],
            [
             0.4,
             "#fde0ef"
            ],
            [
             0.5,
             "#f7f7f7"
            ],
            [
             0.6,
             "#e6f5d0"
            ],
            [
             0.7,
             "#b8e186"
            ],
            [
             0.8,
             "#7fbc41"
            ],
            [
             0.9,
             "#4d9221"
            ],
            [
             1,
             "#276419"
            ]
           ],
           "sequential": [
            [
             0,
             "#0d0887"
            ],
            [
             0.1111111111111111,
             "#46039f"
            ],
            [
             0.2222222222222222,
             "#7201a8"
            ],
            [
             0.3333333333333333,
             "#9c179e"
            ],
            [
             0.4444444444444444,
             "#bd3786"
            ],
            [
             0.5555555555555556,
             "#d8576b"
            ],
            [
             0.6666666666666666,
             "#ed7953"
            ],
            [
             0.7777777777777778,
             "#fb9f3a"
            ],
            [
             0.8888888888888888,
             "#fdca26"
            ],
            [
             1,
             "#f0f921"
            ]
           ],
           "sequentialminus": [
            [
             0,
             "#0d0887"
            ],
            [
             0.1111111111111111,
             "#46039f"
            ],
            [
             0.2222222222222222,
             "#7201a8"
            ],
            [
             0.3333333333333333,
             "#9c179e"
            ],
            [
             0.4444444444444444,
             "#bd3786"
            ],
            [
             0.5555555555555556,
             "#d8576b"
            ],
            [
             0.6666666666666666,
             "#ed7953"
            ],
            [
             0.7777777777777778,
             "#fb9f3a"
            ],
            [
             0.8888888888888888,
             "#fdca26"
            ],
            [
             1,
             "#f0f921"
            ]
           ]
          },
          "colorway": [
           "#636efa",
           "#EF553B",
           "#00cc96",
           "#ab63fa",
           "#FFA15A",
           "#19d3f3",
           "#FF6692",
           "#B6E880",
           "#FF97FF",
           "#FECB52"
          ],
          "font": {
           "color": "#2a3f5f"
          },
          "geo": {
           "bgcolor": "white",
           "lakecolor": "white",
           "landcolor": "#E5ECF6",
           "showlakes": true,
           "showland": true,
           "subunitcolor": "white"
          },
          "hoverlabel": {
           "align": "left"
          },
          "hovermode": "closest",
          "mapbox": {
           "style": "light"
          },
          "paper_bgcolor": "white",
          "plot_bgcolor": "#E5ECF6",
          "polar": {
           "angularaxis": {
            "gridcolor": "white",
            "linecolor": "white",
            "ticks": ""
           },
           "bgcolor": "#E5ECF6",
           "radialaxis": {
            "gridcolor": "white",
            "linecolor": "white",
            "ticks": ""
           }
          },
          "scene": {
           "xaxis": {
            "backgroundcolor": "#E5ECF6",
            "gridcolor": "white",
            "gridwidth": 2,
            "linecolor": "white",
            "showbackground": true,
            "ticks": "",
            "zerolinecolor": "white"
           },
           "yaxis": {
            "backgroundcolor": "#E5ECF6",
            "gridcolor": "white",
            "gridwidth": 2,
            "linecolor": "white",
            "showbackground": true,
            "ticks": "",
            "zerolinecolor": "white"
           },
           "zaxis": {
            "backgroundcolor": "#E5ECF6",
            "gridcolor": "white",
            "gridwidth": 2,
            "linecolor": "white",
            "showbackground": true,
            "ticks": "",
            "zerolinecolor": "white"
           }
          },
          "shapedefaults": {
           "line": {
            "color": "#2a3f5f"
           }
          },
          "ternary": {
           "aaxis": {
            "gridcolor": "white",
            "linecolor": "white",
            "ticks": ""
           },
           "baxis": {
            "gridcolor": "white",
            "linecolor": "white",
            "ticks": ""
           },
           "bgcolor": "#E5ECF6",
           "caxis": {
            "gridcolor": "white",
            "linecolor": "white",
            "ticks": ""
           }
          },
          "title": {
           "x": 0.05
          },
          "xaxis": {
           "automargin": true,
           "gridcolor": "white",
           "linecolor": "white",
           "ticks": "",
           "title": {
            "standoff": 15
           },
           "zerolinecolor": "white",
           "zerolinewidth": 2
          },
          "yaxis": {
           "automargin": true,
           "gridcolor": "white",
           "linecolor": "white",
           "ticks": "",
           "title": {
            "standoff": 15
           },
           "zerolinecolor": "white",
           "zerolinewidth": 2
          }
         }
        }
       }
      },
      "text/html": [
       "<div>                            <div id=\"09e66d85-fec0-407a-8afc-3dc2b4b64e53\" class=\"plotly-graph-div\" style=\"height:525px; width:100%;\"></div>            <script type=\"text/javascript\">                require([\"plotly\"], function(Plotly) {                    window.PLOTLYENV=window.PLOTLYENV || {};                                    if (document.getElementById(\"09e66d85-fec0-407a-8afc-3dc2b4b64e53\")) {                    Plotly.newPlot(                        \"09e66d85-fec0-407a-8afc-3dc2b4b64e53\",                        [{\"type\": \"bar\", \"x\": [\"Manager\", \"Software Developer\", \"Sales Person\", \"Designer\", \"Engineer\", \"Analyst\", \"Marketer\", \"Associate\", \"Finance Specialist\", \"Assistant\", \"Consultant\", \"Teacher\", \"Social Media\", \"Officer\", \"Chef\", \"Writer\", \"Services\", \"Accountant\", \"Art\", \"Copywriter\", \"advisor\", \"Technician\", \"Technology Specialist\", \"Advisor\", \"Human Resource Specialist\", \"Cinema\", \"Business Specialist\", \"Therapist\", \"Animator\", \"Pharmacist\", \"Communication Specialist\", \"Researcher\", \"Coordinator\", \"Waiter\", \"Administrator\", \"Scientist\", \"Operator\", \"Medical Doctor\", \"Cashier\", \"Photographer\", \"Website Content Writer\", \"Hospitality\", \"Economist\", \"Advertising Specialist\", \"Lawyer\"], \"y\": [128, 119, 75, 73, 70, 59, 57, 40, 35, 25, 23, 21, 16, 13, 13, 12, 12, 11, 11, 9, 9, 9, 8, 7, 7, 7, 6, 5, 5, 5, 4, 4, 4, 3, 3, 2, 2, 2, 2, 2, 1, 1, 1, 1, 1]}],                        {\"template\": {\"data\": {\"bar\": [{\"error_x\": {\"color\": \"#2a3f5f\"}, \"error_y\": {\"color\": \"#2a3f5f\"}, \"marker\": {\"line\": {\"color\": \"#E5ECF6\", \"width\": 0.5}}, \"type\": \"bar\"}], \"barpolar\": [{\"marker\": {\"line\": {\"color\": \"#E5ECF6\", \"width\": 0.5}}, \"type\": \"barpolar\"}], \"carpet\": [{\"aaxis\": {\"endlinecolor\": \"#2a3f5f\", \"gridcolor\": \"white\", \"linecolor\": \"white\", \"minorgridcolor\": \"white\", \"startlinecolor\": \"#2a3f5f\"}, \"baxis\": {\"endlinecolor\": \"#2a3f5f\", \"gridcolor\": \"white\", \"linecolor\": \"white\", \"minorgridcolor\": \"white\", \"startlinecolor\": \"#2a3f5f\"}, \"type\": \"carpet\"}], \"choropleth\": [{\"colorbar\": {\"outlinewidth\": 0, \"ticks\": \"\"}, \"type\": \"choropleth\"}], \"contour\": [{\"colorbar\": {\"outlinewidth\": 0, \"ticks\": \"\"}, \"colorscale\": [[0.0, \"#0d0887\"], [0.1111111111111111, \"#46039f\"], [0.2222222222222222, \"#7201a8\"], [0.3333333333333333, \"#9c179e\"], [0.4444444444444444, \"#bd3786\"], [0.5555555555555556, \"#d8576b\"], [0.6666666666666666, \"#ed7953\"], [0.7777777777777778, \"#fb9f3a\"], [0.8888888888888888, \"#fdca26\"], [1.0, \"#f0f921\"]], \"type\": \"contour\"}], \"contourcarpet\": [{\"colorbar\": {\"outlinewidth\": 0, \"ticks\": \"\"}, \"type\": \"contourcarpet\"}], \"heatmap\": [{\"colorbar\": {\"outlinewidth\": 0, \"ticks\": \"\"}, \"colorscale\": [[0.0, \"#0d0887\"], [0.1111111111111111, \"#46039f\"], [0.2222222222222222, \"#7201a8\"], [0.3333333333333333, \"#9c179e\"], [0.4444444444444444, \"#bd3786\"], [0.5555555555555556, \"#d8576b\"], [0.6666666666666666, \"#ed7953\"], [0.7777777777777778, \"#fb9f3a\"], [0.8888888888888888, \"#fdca26\"], [1.0, \"#f0f921\"]], \"type\": \"heatmap\"}], \"heatmapgl\": [{\"colorbar\": {\"outlinewidth\": 0, \"ticks\": \"\"}, \"colorscale\": [[0.0, \"#0d0887\"], [0.1111111111111111, \"#46039f\"], [0.2222222222222222, \"#7201a8\"], [0.3333333333333333, \"#9c179e\"], [0.4444444444444444, \"#bd3786\"], [0.5555555555555556, \"#d8576b\"], [0.6666666666666666, \"#ed7953\"], [0.7777777777777778, \"#fb9f3a\"], [0.8888888888888888, \"#fdca26\"], [1.0, \"#f0f921\"]], \"type\": \"heatmapgl\"}], \"histogram\": [{\"marker\": {\"colorbar\": {\"outlinewidth\": 0, \"ticks\": \"\"}}, \"type\": \"histogram\"}], \"histogram2d\": [{\"colorbar\": {\"outlinewidth\": 0, \"ticks\": \"\"}, \"colorscale\": [[0.0, \"#0d0887\"], [0.1111111111111111, \"#46039f\"], [0.2222222222222222, \"#7201a8\"], [0.3333333333333333, \"#9c179e\"], [0.4444444444444444, \"#bd3786\"], [0.5555555555555556, \"#d8576b\"], [0.6666666666666666, \"#ed7953\"], [0.7777777777777778, \"#fb9f3a\"], [0.8888888888888888, \"#fdca26\"], [1.0, \"#f0f921\"]], \"type\": \"histogram2d\"}], \"histogram2dcontour\": [{\"colorbar\": {\"outlinewidth\": 0, \"ticks\": \"\"}, \"colorscale\": [[0.0, \"#0d0887\"], [0.1111111111111111, \"#46039f\"], [0.2222222222222222, \"#7201a8\"], [0.3333333333333333, \"#9c179e\"], [0.4444444444444444, \"#bd3786\"], [0.5555555555555556, \"#d8576b\"], [0.6666666666666666, \"#ed7953\"], [0.7777777777777778, \"#fb9f3a\"], [0.8888888888888888, \"#fdca26\"], [1.0, \"#f0f921\"]], \"type\": \"histogram2dcontour\"}], \"mesh3d\": [{\"colorbar\": {\"outlinewidth\": 0, \"ticks\": \"\"}, \"type\": \"mesh3d\"}], \"parcoords\": [{\"line\": {\"colorbar\": {\"outlinewidth\": 0, \"ticks\": \"\"}}, \"type\": \"parcoords\"}], \"pie\": [{\"automargin\": true, \"type\": \"pie\"}], \"scatter\": [{\"marker\": {\"colorbar\": {\"outlinewidth\": 0, \"ticks\": \"\"}}, \"type\": \"scatter\"}], \"scatter3d\": [{\"line\": {\"colorbar\": {\"outlinewidth\": 0, \"ticks\": \"\"}}, \"marker\": {\"colorbar\": {\"outlinewidth\": 0, \"ticks\": \"\"}}, \"type\": \"scatter3d\"}], \"scattercarpet\": [{\"marker\": {\"colorbar\": {\"outlinewidth\": 0, \"ticks\": \"\"}}, \"type\": \"scattercarpet\"}], \"scattergeo\": [{\"marker\": {\"colorbar\": {\"outlinewidth\": 0, \"ticks\": \"\"}}, \"type\": \"scattergeo\"}], \"scattergl\": [{\"marker\": {\"colorbar\": {\"outlinewidth\": 0, \"ticks\": \"\"}}, \"type\": \"scattergl\"}], \"scattermapbox\": [{\"marker\": {\"colorbar\": {\"outlinewidth\": 0, \"ticks\": \"\"}}, \"type\": \"scattermapbox\"}], \"scatterpolar\": [{\"marker\": {\"colorbar\": {\"outlinewidth\": 0, \"ticks\": \"\"}}, \"type\": \"scatterpolar\"}], \"scatterpolargl\": [{\"marker\": {\"colorbar\": {\"outlinewidth\": 0, \"ticks\": \"\"}}, \"type\": \"scatterpolargl\"}], \"scatterternary\": [{\"marker\": {\"colorbar\": {\"outlinewidth\": 0, \"ticks\": \"\"}}, \"type\": \"scatterternary\"}], \"surface\": [{\"colorbar\": {\"outlinewidth\": 0, \"ticks\": \"\"}, \"colorscale\": [[0.0, \"#0d0887\"], [0.1111111111111111, \"#46039f\"], [0.2222222222222222, \"#7201a8\"], [0.3333333333333333, \"#9c179e\"], [0.4444444444444444, \"#bd3786\"], [0.5555555555555556, \"#d8576b\"], [0.6666666666666666, \"#ed7953\"], [0.7777777777777778, \"#fb9f3a\"], [0.8888888888888888, \"#fdca26\"], [1.0, \"#f0f921\"]], \"type\": \"surface\"}], \"table\": [{\"cells\": {\"fill\": {\"color\": \"#EBF0F8\"}, \"line\": {\"color\": \"white\"}}, \"header\": {\"fill\": {\"color\": \"#C8D4E3\"}, \"line\": {\"color\": \"white\"}}, \"type\": \"table\"}]}, \"layout\": {\"annotationdefaults\": {\"arrowcolor\": \"#2a3f5f\", \"arrowhead\": 0, \"arrowwidth\": 1}, \"autotypenumbers\": \"strict\", \"coloraxis\": {\"colorbar\": {\"outlinewidth\": 0, \"ticks\": \"\"}}, \"colorscale\": {\"diverging\": [[0, \"#8e0152\"], [0.1, \"#c51b7d\"], [0.2, \"#de77ae\"], [0.3, \"#f1b6da\"], [0.4, \"#fde0ef\"], [0.5, \"#f7f7f7\"], [0.6, \"#e6f5d0\"], [0.7, \"#b8e186\"], [0.8, \"#7fbc41\"], [0.9, \"#4d9221\"], [1, \"#276419\"]], \"sequential\": [[0.0, \"#0d0887\"], [0.1111111111111111, \"#46039f\"], [0.2222222222222222, \"#7201a8\"], [0.3333333333333333, \"#9c179e\"], [0.4444444444444444, \"#bd3786\"], [0.5555555555555556, \"#d8576b\"], [0.6666666666666666, \"#ed7953\"], [0.7777777777777778, \"#fb9f3a\"], [0.8888888888888888, \"#fdca26\"], [1.0, \"#f0f921\"]], \"sequentialminus\": [[0.0, \"#0d0887\"], [0.1111111111111111, \"#46039f\"], [0.2222222222222222, \"#7201a8\"], [0.3333333333333333, \"#9c179e\"], [0.4444444444444444, \"#bd3786\"], [0.5555555555555556, \"#d8576b\"], [0.6666666666666666, \"#ed7953\"], [0.7777777777777778, \"#fb9f3a\"], [0.8888888888888888, \"#fdca26\"], [1.0, \"#f0f921\"]]}, \"colorway\": [\"#636efa\", \"#EF553B\", \"#00cc96\", \"#ab63fa\", \"#FFA15A\", \"#19d3f3\", \"#FF6692\", \"#B6E880\", \"#FF97FF\", \"#FECB52\"], \"font\": {\"color\": \"#2a3f5f\"}, \"geo\": {\"bgcolor\": \"white\", \"lakecolor\": \"white\", \"landcolor\": \"#E5ECF6\", \"showlakes\": true, \"showland\": true, \"subunitcolor\": \"white\"}, \"hoverlabel\": {\"align\": \"left\"}, \"hovermode\": \"closest\", \"mapbox\": {\"style\": \"light\"}, \"paper_bgcolor\": \"white\", \"plot_bgcolor\": \"#E5ECF6\", \"polar\": {\"angularaxis\": {\"gridcolor\": \"white\", \"linecolor\": \"white\", \"ticks\": \"\"}, \"bgcolor\": \"#E5ECF6\", \"radialaxis\": {\"gridcolor\": \"white\", \"linecolor\": \"white\", \"ticks\": \"\"}}, \"scene\": {\"xaxis\": {\"backgroundcolor\": \"#E5ECF6\", \"gridcolor\": \"white\", \"gridwidth\": 2, \"linecolor\": \"white\", \"showbackground\": true, \"ticks\": \"\", \"zerolinecolor\": \"white\"}, \"yaxis\": {\"backgroundcolor\": \"#E5ECF6\", \"gridcolor\": \"white\", \"gridwidth\": 2, \"linecolor\": \"white\", \"showbackground\": true, \"ticks\": \"\", \"zerolinecolor\": \"white\"}, \"zaxis\": {\"backgroundcolor\": \"#E5ECF6\", \"gridcolor\": \"white\", \"gridwidth\": 2, \"linecolor\": \"white\", \"showbackground\": true, \"ticks\": \"\", \"zerolinecolor\": \"white\"}}, \"shapedefaults\": {\"line\": {\"color\": \"#2a3f5f\"}}, \"ternary\": {\"aaxis\": {\"gridcolor\": \"white\", \"linecolor\": \"white\", \"ticks\": \"\"}, \"baxis\": {\"gridcolor\": \"white\", \"linecolor\": \"white\", \"ticks\": \"\"}, \"bgcolor\": \"#E5ECF6\", \"caxis\": {\"gridcolor\": \"white\", \"linecolor\": \"white\", \"ticks\": \"\"}}, \"title\": {\"x\": 0.05}, \"xaxis\": {\"automargin\": true, \"gridcolor\": \"white\", \"linecolor\": \"white\", \"ticks\": \"\", \"title\": {\"standoff\": 15}, \"zerolinecolor\": \"white\", \"zerolinewidth\": 2}, \"yaxis\": {\"automargin\": true, \"gridcolor\": \"white\", \"linecolor\": \"white\", \"ticks\": \"\", \"title\": {\"standoff\": 15}, \"zerolinecolor\": \"white\", \"zerolinewidth\": 2}}}},                        {\"responsive\": true}                    ).then(function(){\n",
       "                            \n",
       "var gd = document.getElementById('09e66d85-fec0-407a-8afc-3dc2b4b64e53');\n",
       "var x = new MutationObserver(function (mutations, observer) {{\n",
       "        var display = window.getComputedStyle(gd).display;\n",
       "        if (!display || display === 'none') {{\n",
       "            console.log([gd, 'removed!']);\n",
       "            Plotly.purge(gd);\n",
       "            observer.disconnect();\n",
       "        }}\n",
       "}});\n",
       "\n",
       "// Listen for the removal of the full notebook cells\n",
       "var notebookContainer = gd.closest('#notebook-container');\n",
       "if (notebookContainer) {{\n",
       "    x.observe(notebookContainer, {childList: true});\n",
       "}}\n",
       "\n",
       "// Listen for the clearing of the current output cell\n",
       "var outputEl = gd.closest('.output');\n",
       "if (outputEl) {{\n",
       "    x.observe(outputEl, {childList: true});\n",
       "}}\n",
       "\n",
       "                        })                };                });            </script>        </div>"
      ]
     },
     "metadata": {},
     "output_type": "display_data"
    }
   ],
   "source": [
    "a1 = df_newest.Category.value_counts()\n",
    "\n",
    "x1 = list(a1.index)\n",
    "y1 = list(a1)\n",
    "\n",
    "data1 = [go.Bar(\n",
    "   x = x1,\n",
    "   y = y1\n",
    ")]\n",
    "fig = go.Figure(data=data1)\n",
    "iplot(fig)"
   ]
  },
  {
   "cell_type": "code",
   "execution_count": 240,
   "metadata": {},
   "outputs": [],
   "source": [
    "#change the name of the df_new to another name\n",
    "preprocessed_linkedin_jobs_25_08_21 = df_newest"
   ]
  },
  {
   "cell_type": "code",
   "execution_count": 241,
   "metadata": {},
   "outputs": [],
   "source": [
    "#from dataframe to a csv file\n",
    "preprocessed_linkedin_jobs_25_08_21.to_csv(\"preprocessed_linkedin_jobs_25_08_21.csv\", sep='\\t')\n"
   ]
  },
  {
   "cell_type": "code",
   "execution_count": 242,
   "metadata": {},
   "outputs": [],
   "source": [
    "#download the csv file to a folder on the desktop\n",
    "preprocessed_linkedin_jobs_25_08_21.to_csv(r'/Users/user/Desktop/capstone_csv/preprocessed_linkedin_jobs_25_08_21.csv')"
   ]
  },
  {
   "cell_type": "code",
   "execution_count": null,
   "metadata": {},
   "outputs": [],
   "source": []
  }
 ],
 "metadata": {
  "kernelspec": {
   "display_name": "Python 3",
   "language": "python",
   "name": "python3"
  },
  "language_info": {
   "codemirror_mode": {
    "name": "ipython",
    "version": 3
   },
   "file_extension": ".py",
   "mimetype": "text/x-python",
   "name": "python",
   "nbconvert_exporter": "python",
   "pygments_lexer": "ipython3",
   "version": "3.8.3"
  }
 },
 "nbformat": 4,
 "nbformat_minor": 4
}
